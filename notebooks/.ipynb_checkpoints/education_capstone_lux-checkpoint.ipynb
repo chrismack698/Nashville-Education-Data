{
 "cells": [
  {
   "cell_type": "code",
   "execution_count": 1,
   "id": "2b8a762b",
   "metadata": {
    "scrolled": true
   },
   "outputs": [
    {
     "name": "stdout",
     "output_type": "stream",
     "text": [
      "['ACT_district.csv', 'ACT_school.csv', 'discipline_by_gender.csv', 'discipline_by_grade.csv', 'discipline_by_group.csv', 'discipline_by_race.csv', 'district_info.csv', 'district_variables.csv', 'dropout_district.csv', 'dropout_school.csv', 'enrollment.csv', 'grad_rate_district.csv', 'grad_rate_school.csv', 'overall_discipline.csv', 'ready_grad_district.csv', 'ready_grad_school.csv', 'ready_grad_state.csv']\n"
     ]
    }
   ],
   "source": [
    "import lux\n",
    "import pandas as pd\n",
    "import os\n",
    "import glob\n",
    "import numpy as np\n",
    "  \n",
    "  \n",
    "# use glob to get all the csv files \n",
    "# in the folder\n",
    "path = r'C:\\Users\\chris\\Documents\\nss-data-analytics\\projects\\Nashville-Education-Data\\data\\ReportCardData'\n",
    "extension = 'csv'\n",
    "os.chdir(path)\n",
    "result = glob.glob('*.{}'.format(extension))\n",
    "print(result)"
   ]
  },
  {
   "cell_type": "code",
   "execution_count": 2,
   "id": "0f3b20b5",
   "metadata": {},
   "outputs": [],
   "source": [
    "lux.config.default_display = \"lux\""
   ]
  },
  {
   "cell_type": "markdown",
   "id": "2ebffc5c",
   "metadata": {},
   "source": [
    "### Reading in CSVs"
   ]
  },
  {
   "cell_type": "code",
   "execution_count": 3,
   "id": "ff6213f0",
   "metadata": {
    "scrolled": true
   },
   "outputs": [
    {
     "name": "stdout",
     "output_type": "stream",
     "text": [
      "Location: ACT_district.csv\n",
      "File Name: ACT_district.csv\n",
      "Content:\n"
     ]
    },
    {
     "data": {
      "application/vnd.jupyter.widget-view+json": {
       "model_id": "a83623b957cc480f8d157b107d80a7da",
       "version_major": 2,
       "version_minor": 0
      },
      "text/plain": [
       "Button(description='Toggle Pandas/Lux', layout=Layout(top='5px', width='140px'), style=ButtonStyle())"
      ]
     },
     "metadata": {},
     "output_type": "display_data"
    },
    {
     "data": {
      "application/vnd.jupyter.widget-view+json": {
       "model_id": "c1508958209243e6bb9a8b62fdc50873",
       "version_major": 2,
       "version_minor": 0
      },
      "text/plain": [
       "Output()"
      ]
     },
     "metadata": {},
     "output_type": "display_data"
    },
    {
     "name": "stdout",
     "output_type": "stream",
     "text": [
      "\n",
      "Location: ACT_school.csv\n",
      "File Name: ACT_school.csv\n",
      "Content:\n"
     ]
    },
    {
     "data": {
      "application/vnd.jupyter.widget-view+json": {
       "model_id": "da3c5b7601b440e1ab4e31f85268576d",
       "version_major": 2,
       "version_minor": 0
      },
      "text/plain": [
       "Button(description='Toggle Pandas/Lux', layout=Layout(top='5px', width='140px'), style=ButtonStyle())"
      ]
     },
     "metadata": {},
     "output_type": "display_data"
    },
    {
     "data": {
      "application/vnd.jupyter.widget-view+json": {
       "model_id": "f83b0db92bf64711b10fc34cd7705e69",
       "version_major": 2,
       "version_minor": 0
      },
      "text/plain": [
       "Output()"
      ]
     },
     "metadata": {},
     "output_type": "display_data"
    },
    {
     "name": "stdout",
     "output_type": "stream",
     "text": [
      "\n",
      "Location: discipline_by_gender.csv\n",
      "File Name: discipline_by_gender.csv\n",
      "Content:\n"
     ]
    },
    {
     "name": "stderr",
     "output_type": "stream",
     "text": [
      "C:\\Users\\chris\\anaconda3\\envs\\geospatial\\lib\\site-packages\\lux\\executor\\PandasExecutor.py:422: UserWarning:\n",
      "Lux detects that the attribute 'school_year' may be temporal.\n",
      "To display visualizations for these attributes accurately, please convert temporal attributes to Datetime objects.\n",
      "For example, you can convert a Year attribute (e.g., 1998, 1971, 1982) using pd.to_datetime by specifying the `format` as '%Y'.\n",
      "\n",
      "Here is a starter template that you can use for converting the temporal fields:\n",
      "\tdf['school_year'] = pd.to_datetime(df['school_year'], format='<replace-with-datetime-format>')\n",
      "\n",
      "See more at: https://pandas.pydata.org/pandas-docs/stable/reference/api/pandas.to_datetime.html\n",
      "If school_year is not a temporal attribute, please use override Lux's automatically detected type:\n",
      "\tdf.set_data_type({'school_year':'quantitative'})\n"
     ]
    },
    {
     "data": {
      "application/vnd.jupyter.widget-view+json": {
       "model_id": "2a3c5ba9693f469faa7e79b4e66e3778",
       "version_major": 2,
       "version_minor": 0
      },
      "text/plain": [
       "Button(description='Toggle Pandas/Lux', layout=Layout(top='5px', width='140px'), style=ButtonStyle())"
      ]
     },
     "metadata": {},
     "output_type": "display_data"
    },
    {
     "data": {
      "application/vnd.jupyter.widget-view+json": {
       "model_id": "1cf859d7f7824a40ae204ce885e3d73c",
       "version_major": 2,
       "version_minor": 0
      },
      "text/plain": [
       "Output()"
      ]
     },
     "metadata": {},
     "output_type": "display_data"
    },
    {
     "name": "stdout",
     "output_type": "stream",
     "text": [
      "\n",
      "Location: discipline_by_grade.csv\n",
      "File Name: discipline_by_grade.csv\n",
      "Content:\n"
     ]
    },
    {
     "name": "stderr",
     "output_type": "stream",
     "text": [
      "C:\\Users\\chris\\anaconda3\\envs\\geospatial\\lib\\site-packages\\lux\\executor\\PandasExecutor.py:422: UserWarning:\n",
      "Lux detects that the attribute 'school_year' may be temporal.\n",
      "To display visualizations for these attributes accurately, please convert temporal attributes to Datetime objects.\n",
      "For example, you can convert a Year attribute (e.g., 1998, 1971, 1982) using pd.to_datetime by specifying the `format` as '%Y'.\n",
      "\n",
      "Here is a starter template that you can use for converting the temporal fields:\n",
      "\tdf['school_year'] = pd.to_datetime(df['school_year'], format='<replace-with-datetime-format>')\n",
      "\n",
      "See more at: https://pandas.pydata.org/pandas-docs/stable/reference/api/pandas.to_datetime.html\n",
      "If school_year is not a temporal attribute, please use override Lux's automatically detected type:\n",
      "\tdf.set_data_type({'school_year':'quantitative'})\n"
     ]
    },
    {
     "data": {
      "application/vnd.jupyter.widget-view+json": {
       "model_id": "143902c8981c4145b0c14bc88855f356",
       "version_major": 2,
       "version_minor": 0
      },
      "text/plain": [
       "Button(description='Toggle Pandas/Lux', layout=Layout(top='5px', width='140px'), style=ButtonStyle())"
      ]
     },
     "metadata": {},
     "output_type": "display_data"
    },
    {
     "data": {
      "application/vnd.jupyter.widget-view+json": {
       "model_id": "afeaacc01dc047bb9ad663d6fe3fbbf2",
       "version_major": 2,
       "version_minor": 0
      },
      "text/plain": [
       "Output()"
      ]
     },
     "metadata": {},
     "output_type": "display_data"
    },
    {
     "name": "stdout",
     "output_type": "stream",
     "text": [
      "\n",
      "Location: discipline_by_group.csv\n",
      "File Name: discipline_by_group.csv\n",
      "Content:\n"
     ]
    },
    {
     "name": "stderr",
     "output_type": "stream",
     "text": [
      "C:\\Users\\chris\\anaconda3\\envs\\geospatial\\lib\\site-packages\\lux\\executor\\PandasExecutor.py:422: UserWarning:\n",
      "Lux detects that the attribute 'school_year' may be temporal.\n",
      "To display visualizations for these attributes accurately, please convert temporal attributes to Datetime objects.\n",
      "For example, you can convert a Year attribute (e.g., 1998, 1971, 1982) using pd.to_datetime by specifying the `format` as '%Y'.\n",
      "\n",
      "Here is a starter template that you can use for converting the temporal fields:\n",
      "\tdf['school_year'] = pd.to_datetime(df['school_year'], format='<replace-with-datetime-format>')\n",
      "\n",
      "See more at: https://pandas.pydata.org/pandas-docs/stable/reference/api/pandas.to_datetime.html\n",
      "If school_year is not a temporal attribute, please use override Lux's automatically detected type:\n",
      "\tdf.set_data_type({'school_year':'quantitative'})\n",
      "C:\\Users\\chris\\anaconda3\\envs\\geospatial\\lib\\site-packages\\lux\\interestingness\\interestingness.py:196: RuntimeWarning:invalid value encountered in double_scalars\n"
     ]
    },
    {
     "data": {
      "application/vnd.jupyter.widget-view+json": {
       "model_id": "c33f7d4885c049069cfa46878c8d78d4",
       "version_major": 2,
       "version_minor": 0
      },
      "text/plain": [
       "Button(description='Toggle Pandas/Lux', layout=Layout(top='5px', width='140px'), style=ButtonStyle())"
      ]
     },
     "metadata": {},
     "output_type": "display_data"
    },
    {
     "data": {
      "application/vnd.jupyter.widget-view+json": {
       "model_id": "919040f7723d451e870ce10236c402e9",
       "version_major": 2,
       "version_minor": 0
      },
      "text/plain": [
       "Output()"
      ]
     },
     "metadata": {},
     "output_type": "display_data"
    },
    {
     "name": "stdout",
     "output_type": "stream",
     "text": [
      "\n",
      "Location: discipline_by_race.csv\n",
      "File Name: discipline_by_race.csv\n",
      "Content:\n"
     ]
    },
    {
     "name": "stderr",
     "output_type": "stream",
     "text": [
      "C:\\Users\\chris\\anaconda3\\envs\\geospatial\\lib\\site-packages\\lux\\executor\\PandasExecutor.py:422: UserWarning:\n",
      "Lux detects that the attribute 'school_year' may be temporal.\n",
      "To display visualizations for these attributes accurately, please convert temporal attributes to Datetime objects.\n",
      "For example, you can convert a Year attribute (e.g., 1998, 1971, 1982) using pd.to_datetime by specifying the `format` as '%Y'.\n",
      "\n",
      "Here is a starter template that you can use for converting the temporal fields:\n",
      "\tdf['school_year'] = pd.to_datetime(df['school_year'], format='<replace-with-datetime-format>')\n",
      "\n",
      "See more at: https://pandas.pydata.org/pandas-docs/stable/reference/api/pandas.to_datetime.html\n",
      "If school_year is not a temporal attribute, please use override Lux's automatically detected type:\n",
      "\tdf.set_data_type({'school_year':'quantitative'})\n",
      "C:\\Users\\chris\\anaconda3\\envs\\geospatial\\lib\\site-packages\\lux\\interestingness\\interestingness.py:196: RuntimeWarning:invalid value encountered in double_scalars\n"
     ]
    },
    {
     "data": {
      "application/vnd.jupyter.widget-view+json": {
       "model_id": "6f7d7e2b15cb4f12ac1f0027acb74564",
       "version_major": 2,
       "version_minor": 0
      },
      "text/plain": [
       "Button(description='Toggle Pandas/Lux', layout=Layout(top='5px', width='140px'), style=ButtonStyle())"
      ]
     },
     "metadata": {},
     "output_type": "display_data"
    },
    {
     "data": {
      "application/vnd.jupyter.widget-view+json": {
       "model_id": "97a55b7a8cba4acdb9751e95091858a7",
       "version_major": 2,
       "version_minor": 0
      },
      "text/plain": [
       "Output()"
      ]
     },
     "metadata": {},
     "output_type": "display_data"
    },
    {
     "name": "stdout",
     "output_type": "stream",
     "text": [
      "\n",
      "Location: district_info.csv\n",
      "File Name: district_info.csv\n",
      "Content:\n"
     ]
    },
    {
     "data": {
      "application/vnd.jupyter.widget-view+json": {
       "model_id": "840071fc5ed74b0bac4856fb352fe9f4",
       "version_major": 2,
       "version_minor": 0
      },
      "text/plain": [
       "Button(description='Toggle Pandas/Lux', layout=Layout(top='5px', width='140px'), style=ButtonStyle())"
      ]
     },
     "metadata": {},
     "output_type": "display_data"
    },
    {
     "data": {
      "application/vnd.jupyter.widget-view+json": {
       "model_id": "3e0ec2750462457b91effe0af7918c13",
       "version_major": 2,
       "version_minor": 0
      },
      "text/plain": [
       "Output()"
      ]
     },
     "metadata": {},
     "output_type": "display_data"
    },
    {
     "name": "stdout",
     "output_type": "stream",
     "text": [
      "\n",
      "Location: district_variables.csv\n",
      "File Name: district_variables.csv\n",
      "Content:\n"
     ]
    },
    {
     "data": {
      "application/vnd.jupyter.widget-view+json": {
       "model_id": "e214a1ab561945c19e754af4a8edc787",
       "version_major": 2,
       "version_minor": 0
      },
      "text/plain": [
       "Button(description='Toggle Pandas/Lux', layout=Layout(top='5px', width='140px'), style=ButtonStyle())"
      ]
     },
     "metadata": {},
     "output_type": "display_data"
    },
    {
     "data": {
      "application/vnd.jupyter.widget-view+json": {
       "model_id": "0b9fab021187418cb9fbd6abc9f748de",
       "version_major": 2,
       "version_minor": 0
      },
      "text/plain": [
       "Output()"
      ]
     },
     "metadata": {},
     "output_type": "display_data"
    },
    {
     "name": "stdout",
     "output_type": "stream",
     "text": [
      "\n",
      "Location: dropout_district.csv\n",
      "File Name: dropout_district.csv\n",
      "Content:\n"
     ]
    },
    {
     "data": {
      "application/vnd.jupyter.widget-view+json": {
       "model_id": "082819916fca4a728100f3423ac3040b",
       "version_major": 2,
       "version_minor": 0
      },
      "text/plain": [
       "Button(description='Toggle Pandas/Lux', layout=Layout(top='5px', width='140px'), style=ButtonStyle())"
      ]
     },
     "metadata": {},
     "output_type": "display_data"
    },
    {
     "data": {
      "application/vnd.jupyter.widget-view+json": {
       "model_id": "8283324b0053401995000c8f044694f1",
       "version_major": 2,
       "version_minor": 0
      },
      "text/plain": [
       "Output()"
      ]
     },
     "metadata": {},
     "output_type": "display_data"
    },
    {
     "name": "stdout",
     "output_type": "stream",
     "text": [
      "\n",
      "Location: dropout_school.csv\n",
      "File Name: dropout_school.csv\n",
      "Content:\n"
     ]
    },
    {
     "data": {
      "application/vnd.jupyter.widget-view+json": {
       "model_id": "ab64bfbaf6d047738f0f9d881d3ece0b",
       "version_major": 2,
       "version_minor": 0
      },
      "text/plain": [
       "Button(description='Toggle Pandas/Lux', layout=Layout(top='5px', width='140px'), style=ButtonStyle())"
      ]
     },
     "metadata": {},
     "output_type": "display_data"
    },
    {
     "data": {
      "application/vnd.jupyter.widget-view+json": {
       "model_id": "3255b6e7316347f8b2d5450e91d14eca",
       "version_major": 2,
       "version_minor": 0
      },
      "text/plain": [
       "Output()"
      ]
     },
     "metadata": {},
     "output_type": "display_data"
    },
    {
     "name": "stdout",
     "output_type": "stream",
     "text": [
      "\n",
      "Location: enrollment.csv\n",
      "File Name: enrollment.csv\n",
      "Content:\n"
     ]
    },
    {
     "name": "stderr",
     "output_type": "stream",
     "text": [
      "C:\\Users\\chris\\anaconda3\\envs\\geospatial\\lib\\site-packages\\lux\\executor\\PandasExecutor.py:422: UserWarning:\n",
      "Lux detects that the attribute 'year' may be temporal.\n",
      "To display visualizations for these attributes accurately, please convert temporal attributes to Datetime objects.\n",
      "For example, you can convert a Year attribute (e.g., 1998, 1971, 1982) using pd.to_datetime by specifying the `format` as '%Y'.\n",
      "\n",
      "Here is a starter template that you can use for converting the temporal fields:\n",
      "\tdf['year'] = pd.to_datetime(df['year'], format='<replace-with-datetime-format>')\n",
      "\n",
      "See more at: https://pandas.pydata.org/pandas-docs/stable/reference/api/pandas.to_datetime.html\n",
      "If year is not a temporal attribute, please use override Lux's automatically detected type:\n",
      "\tdf.set_data_type({'year':'quantitative'})\n"
     ]
    },
    {
     "data": {
      "application/vnd.jupyter.widget-view+json": {
       "model_id": "201439000fab457fa104025cb8805ac6",
       "version_major": 2,
       "version_minor": 0
      },
      "text/plain": [
       "Button(description='Toggle Pandas/Lux', layout=Layout(top='5px', width='140px'), style=ButtonStyle())"
      ]
     },
     "metadata": {},
     "output_type": "display_data"
    },
    {
     "data": {
      "application/vnd.jupyter.widget-view+json": {
       "model_id": "3c5ea040b18f4653845581fdd4d92c38",
       "version_major": 2,
       "version_minor": 0
      },
      "text/plain": [
       "Output()"
      ]
     },
     "metadata": {},
     "output_type": "display_data"
    },
    {
     "name": "stdout",
     "output_type": "stream",
     "text": [
      "\n",
      "Location: grad_rate_district.csv\n",
      "File Name: grad_rate_district.csv\n",
      "Content:\n"
     ]
    },
    {
     "name": "stderr",
     "output_type": "stream",
     "text": [
      "C:\\Users\\chris\\anaconda3\\envs\\geospatial\\lib\\site-packages\\lux\\executor\\PandasExecutor.py:422: UserWarning:\n",
      "Lux detects that the attribute 'year' may be temporal.\n",
      "To display visualizations for these attributes accurately, please convert temporal attributes to Datetime objects.\n",
      "For example, you can convert a Year attribute (e.g., 1998, 1971, 1982) using pd.to_datetime by specifying the `format` as '%Y'.\n",
      "\n",
      "Here is a starter template that you can use for converting the temporal fields:\n",
      "\tdf['year'] = pd.to_datetime(df['year'], format='<replace-with-datetime-format>')\n",
      "\n",
      "See more at: https://pandas.pydata.org/pandas-docs/stable/reference/api/pandas.to_datetime.html\n",
      "If year is not a temporal attribute, please use override Lux's automatically detected type:\n",
      "\tdf.set_data_type({'year':'quantitative'})\n"
     ]
    },
    {
     "data": {
      "application/vnd.jupyter.widget-view+json": {
       "model_id": "534e9a06036a4cb1855edceba9fc68cc",
       "version_major": 2,
       "version_minor": 0
      },
      "text/plain": [
       "Button(description='Toggle Pandas/Lux', layout=Layout(top='5px', width='140px'), style=ButtonStyle())"
      ]
     },
     "metadata": {},
     "output_type": "display_data"
    },
    {
     "data": {
      "application/vnd.jupyter.widget-view+json": {
       "model_id": "6e3722de6c894061b3f09f47226345f3",
       "version_major": 2,
       "version_minor": 0
      },
      "text/plain": [
       "Output()"
      ]
     },
     "metadata": {},
     "output_type": "display_data"
    },
    {
     "name": "stdout",
     "output_type": "stream",
     "text": [
      "\n",
      "Location: grad_rate_school.csv\n",
      "File Name: grad_rate_school.csv\n",
      "Content:\n"
     ]
    },
    {
     "name": "stderr",
     "output_type": "stream",
     "text": [
      "C:\\Users\\chris\\anaconda3\\envs\\geospatial\\lib\\site-packages\\lux\\executor\\PandasExecutor.py:422: UserWarning:\n",
      "Lux detects that the attribute 'year' may be temporal.\n",
      "To display visualizations for these attributes accurately, please convert temporal attributes to Datetime objects.\n",
      "For example, you can convert a Year attribute (e.g., 1998, 1971, 1982) using pd.to_datetime by specifying the `format` as '%Y'.\n",
      "\n",
      "Here is a starter template that you can use for converting the temporal fields:\n",
      "\tdf['year'] = pd.to_datetime(df['year'], format='<replace-with-datetime-format>')\n",
      "\n",
      "See more at: https://pandas.pydata.org/pandas-docs/stable/reference/api/pandas.to_datetime.html\n",
      "If year is not a temporal attribute, please use override Lux's automatically detected type:\n",
      "\tdf.set_data_type({'year':'quantitative'})\n"
     ]
    },
    {
     "data": {
      "application/vnd.jupyter.widget-view+json": {
       "model_id": "9f7258355ba44511a52ded63d19f4f96",
       "version_major": 2,
       "version_minor": 0
      },
      "text/plain": [
       "Button(description='Toggle Pandas/Lux', layout=Layout(top='5px', width='140px'), style=ButtonStyle())"
      ]
     },
     "metadata": {},
     "output_type": "display_data"
    },
    {
     "data": {
      "application/vnd.jupyter.widget-view+json": {
       "model_id": "5faa18b49f034db880ecf4ff97f51f44",
       "version_major": 2,
       "version_minor": 0
      },
      "text/plain": [
       "Output()"
      ]
     },
     "metadata": {},
     "output_type": "display_data"
    },
    {
     "name": "stdout",
     "output_type": "stream",
     "text": [
      "\n",
      "Location: overall_discipline.csv\n",
      "File Name: overall_discipline.csv\n",
      "Content:\n"
     ]
    },
    {
     "name": "stderr",
     "output_type": "stream",
     "text": [
      "C:\\Users\\chris\\anaconda3\\envs\\geospatial\\lib\\site-packages\\lux\\executor\\PandasExecutor.py:422: UserWarning:\n",
      "Lux detects that attributes ['school_year', 'school_year.1'] may be temporal.\n",
      "To display visualizations for these attributes accurately, please convert temporal attributes to Datetime objects.\n",
      "For example, you can convert a Year attribute (e.g., 1998, 1971, 1982) using pd.to_datetime by specifying the `format` as '%Y'.\n",
      "\n",
      "Here is a starter template that you can use for converting the temporal fields:\n",
      "\tdf['school_year'] = pd.to_datetime(df['school_year'], format='<replace-with-datetime-format>')\n",
      "\tdf['school_year.1'] = pd.to_datetime(df['school_year.1'], format='<replace-with-datetime-format>')\n",
      "\n",
      "See more at: https://pandas.pydata.org/pandas-docs/stable/reference/api/pandas.to_datetime.html\n",
      "If school_year.1 is not a temporal attribute, please use override Lux's automatically detected type:\n",
      "\tdf.set_data_type({'school_year.1':'quantitative'})\n"
     ]
    },
    {
     "data": {
      "application/vnd.jupyter.widget-view+json": {
       "model_id": "5333f0b717e646ad96bfb36090e35295",
       "version_major": 2,
       "version_minor": 0
      },
      "text/plain": [
       "Button(description='Toggle Pandas/Lux', layout=Layout(top='5px', width='140px'), style=ButtonStyle())"
      ]
     },
     "metadata": {},
     "output_type": "display_data"
    },
    {
     "data": {
      "application/vnd.jupyter.widget-view+json": {
       "model_id": "f0f0fa17be6a4395af40b0ebe897e78a",
       "version_major": 2,
       "version_minor": 0
      },
      "text/plain": [
       "Output()"
      ]
     },
     "metadata": {},
     "output_type": "display_data"
    },
    {
     "name": "stdout",
     "output_type": "stream",
     "text": [
      "\n",
      "Location: ready_grad_district.csv\n",
      "File Name: ready_grad_district.csv\n",
      "Content:\n"
     ]
    },
    {
     "data": {
      "application/vnd.jupyter.widget-view+json": {
       "model_id": "776f19e07d1d4c618c9fb394bd0defce",
       "version_major": 2,
       "version_minor": 0
      },
      "text/plain": [
       "Button(description='Toggle Pandas/Lux', layout=Layout(top='5px', width='140px'), style=ButtonStyle())"
      ]
     },
     "metadata": {},
     "output_type": "display_data"
    },
    {
     "data": {
      "application/vnd.jupyter.widget-view+json": {
       "model_id": "511ab6bcc2464bf0a3d5ca2deb697d1f",
       "version_major": 2,
       "version_minor": 0
      },
      "text/plain": [
       "Output()"
      ]
     },
     "metadata": {},
     "output_type": "display_data"
    },
    {
     "name": "stdout",
     "output_type": "stream",
     "text": [
      "\n",
      "Location: ready_grad_school.csv\n",
      "File Name: ready_grad_school.csv\n",
      "Content:\n"
     ]
    },
    {
     "data": {
      "application/vnd.jupyter.widget-view+json": {
       "model_id": "1d731644013e49b2a752506c60c96ed7",
       "version_major": 2,
       "version_minor": 0
      },
      "text/plain": [
       "Button(description='Toggle Pandas/Lux', layout=Layout(top='5px', width='140px'), style=ButtonStyle())"
      ]
     },
     "metadata": {},
     "output_type": "display_data"
    },
    {
     "data": {
      "application/vnd.jupyter.widget-view+json": {
       "model_id": "d677fbc462b64611800447358573363a",
       "version_major": 2,
       "version_minor": 0
      },
      "text/plain": [
       "Output()"
      ]
     },
     "metadata": {},
     "output_type": "display_data"
    },
    {
     "name": "stdout",
     "output_type": "stream",
     "text": [
      "\n",
      "Location: ready_grad_state.csv\n",
      "File Name: ready_grad_state.csv\n",
      "Content:\n"
     ]
    },
    {
     "data": {
      "application/vnd.jupyter.widget-view+json": {
       "model_id": "d98478f717394bdd993ea06097307e09",
       "version_major": 2,
       "version_minor": 0
      },
      "text/plain": [
       "Button(description='Toggle Pandas/Lux', layout=Layout(top='5px', width='140px'), style=ButtonStyle())"
      ]
     },
     "metadata": {},
     "output_type": "display_data"
    },
    {
     "data": {
      "application/vnd.jupyter.widget-view+json": {
       "model_id": "3f99a4e502764a379508211a43713210",
       "version_major": 2,
       "version_minor": 0
      },
      "text/plain": [
       "Output()"
      ]
     },
     "metadata": {},
     "output_type": "display_data"
    },
    {
     "name": "stdout",
     "output_type": "stream",
     "text": [
      "\n"
     ]
    }
   ],
   "source": [
    "# loop over the list of csv files\n",
    "for f in result:\n",
    "      \n",
    "    # read the csv file\n",
    "    df = pd.read_csv(f)\n",
    "      \n",
    "    # print the location and filename\n",
    "    print('Location:', f)\n",
    "    print('File Name:', f.split(\"\\\\\")[-1])\n",
    "      \n",
    "    # print the content\n",
    "    print('Content:')\n",
    "    display(df)\n",
    "    print()"
   ]
  },
  {
   "cell_type": "code",
   "execution_count": 4,
   "id": "23a7802d",
   "metadata": {
    "scrolled": true
   },
   "outputs": [
    {
     "name": "stdout",
     "output_type": "stream",
     "text": [
      "[     district_number                district_name  \\\n",
      "0                985  Achievement School District   \n",
      "1                985  Achievement School District   \n",
      "2                985  Achievement School District   \n",
      "3                985  Achievement School District   \n",
      "4                985  Achievement School District   \n",
      "..               ...                          ...   \n",
      "590              950                Wilson County   \n",
      "591              950                Wilson County   \n",
      "592              950                Wilson County   \n",
      "593              950                Wilson County   \n",
      "594              950                Wilson County   \n",
      "\n",
      "                           subgroup  valid_tests participation_rate  \\\n",
      "0                      All Students          294                 83   \n",
      "1    Black/Hispanic/Native American          292                 83   \n",
      "2        Economically Disadvantaged          244                 83   \n",
      "3                  English Learners            7                  *   \n",
      "4        Students with Disabilities           40                 67   \n",
      "..                              ...          ...                ...   \n",
      "590                    All Students         1586                 99   \n",
      "591  Black/Hispanic/Native American          280                 99   \n",
      "592      Economically Disadvantaged          366                 98   \n",
      "593                English Learners           48                100   \n",
      "594      Students with Disabilities          139                 98   \n",
      "\n",
      "    average_english_score average_math_score average_reading_score  \\\n",
      "0                    13.4               15.4                  14.8   \n",
      "1                    13.4               15.4                  14.9   \n",
      "2                    13.2               15.2                  14.6   \n",
      "3                       *                  *                     *   \n",
      "4                      11               14.6                    13   \n",
      "..                    ...                ...                   ...   \n",
      "590                  20.7               19.7                  21.5   \n",
      "591                    17               17.3                  18.2   \n",
      "592                  17.6               17.6                  18.7   \n",
      "593                    14               16.9                  15.6   \n",
      "594                  14.7               16.5                  16.8   \n",
      "\n",
      "    average_science_score average_composite_score number_scoring_21_or_higher  \\\n",
      "0                      15                    14.8                          14   \n",
      "1                      15                    14.8                          14   \n",
      "2                    14.7                    14.6                           9   \n",
      "3                       *                       *                           *   \n",
      "4                    13.1                      13                          **   \n",
      "..                    ...                     ...                         ...   \n",
      "590                  21.1                    20.9                         770   \n",
      "591                  18.1                    17.8                          58   \n",
      "592                  18.6                    18.2                          86   \n",
      "593                  16.6                    15.9                           5   \n",
      "594                  17.2                    16.5                          15   \n",
      "\n",
      "    percent_scoring_21_or_higher number_scoring_below_19  \\\n",
      "0                            4.8                     261   \n",
      "1                            4.8                     259   \n",
      "2                            3.7                     221   \n",
      "3                              *                       *   \n",
      "4                             **                      **   \n",
      "..                           ...                     ...   \n",
      "590                         48.5                     571   \n",
      "591                         20.7                     187   \n",
      "592                         23.5                     224   \n",
      "593                         10.4                      38   \n",
      "594                         10.8                     107   \n",
      "\n",
      "    percent_scoring_below_19  \n",
      "0                       88.8  \n",
      "1                       88.7  \n",
      "2                       90.6  \n",
      "3                          *  \n",
      "4                         **  \n",
      "..                       ...  \n",
      "590                       36  \n",
      "591                     66.8  \n",
      "592                     61.2  \n",
      "593                     79.2  \n",
      "594                       77  \n",
      "\n",
      "[595 rows x 14 columns],       district_number                district_name  school_number  \\\n",
      "0                  10              Anderson County              2   \n",
      "1                  10              Anderson County              2   \n",
      "2                  10              Anderson County              2   \n",
      "3                  10              Anderson County              2   \n",
      "4                  10              Anderson County             25   \n",
      "...               ...                          ...            ...   \n",
      "1684              985  Achievement School District           8140   \n",
      "1685              985  Achievement School District           8140   \n",
      "1686              985  Achievement School District           8140   \n",
      "1687              985  Achievement School District           8140   \n",
      "1688              985  Achievement School District           8140   \n",
      "\n",
      "                      school_name                        subgroup  \\\n",
      "0     Anderson County High School                    All Students   \n",
      "1     Anderson County High School  Black/Hispanic/Native American   \n",
      "2     Anderson County High School      Economically Disadvantaged   \n",
      "3     Anderson County High School      Students with Disabilities   \n",
      "4             Clinton High School                    All Students   \n",
      "...                           ...                             ...   \n",
      "1684        Hillcrest High School                    All Students   \n",
      "1685        Hillcrest High School  Black/Hispanic/Native American   \n",
      "1686        Hillcrest High School      Economically Disadvantaged   \n",
      "1687        Hillcrest High School                English Learners   \n",
      "1688        Hillcrest High School      Students with Disabilities   \n",
      "\n",
      "      valid_tests participation_rate average_english_score average_math_score  \\\n",
      "0             269                100                  19.8               19.4   \n",
      "1               4                  *                     *                  *   \n",
      "2              72                100                  17.5               17.5   \n",
      "3              32                100                  12.5               15.2   \n",
      "4             258                100                  18.3                 18   \n",
      "...           ...                ...                   ...                ...   \n",
      "1684           86                 96                  14.2               15.7   \n",
      "1685           85                 96                  14.3               15.8   \n",
      "1686           69                 96                    14               15.7   \n",
      "1687            5                  *                     *                  *   \n",
      "1688           16                100                    12                 15   \n",
      "\n",
      "     average_reading_score average_science_score average_composite_score  \\\n",
      "0                     20.7                  20.1                    20.1   \n",
      "1                        *                     *                       *   \n",
      "2                     19.1                  18.5                    18.3   \n",
      "3                     14.4                  14.8                    14.4   \n",
      "4                     19.1                  19.1                    18.8   \n",
      "...                    ...                   ...                     ...   \n",
      "1684                    16                  15.4                    15.5   \n",
      "1685                    16                  15.5                    15.5   \n",
      "1686                  15.8                  15.2                    15.3   \n",
      "1687                     *                     *                       *   \n",
      "1688                  13.8                  13.3                    13.5   \n",
      "\n",
      "     number_scoring_21_or_higher percent_scoring_21_or_higher  \\\n",
      "0                            115                         42.8   \n",
      "1                              *                            *   \n",
      "2                             18                           25   \n",
      "3                             **                           **   \n",
      "4                             83                         32.2   \n",
      "...                          ...                          ...   \n",
      "1684                           5                          5.8   \n",
      "1685                           5                          5.9   \n",
      "1686                          **                           **   \n",
      "1687                           *                            *   \n",
      "1688                          **                           **   \n",
      "\n",
      "     number_scoring_below_19 percent_scoring_below_19  \n",
      "0                        115                     42.8  \n",
      "1                          *                        *  \n",
      "2                         42                     58.3  \n",
      "3                         **                       **  \n",
      "4                        139                     53.9  \n",
      "...                      ...                      ...  \n",
      "1684                      75                     87.2  \n",
      "1685                      74                     87.1  \n",
      "1686                      **                       **  \n",
      "1687                       *                        *  \n",
      "1688                      **                       **  \n",
      "\n",
      "[1689 rows x 16 columns],       district_number                       district_name  school_number  \\\n",
      "0                   0                  State of Tennessee            NaN   \n",
      "1                   0                  State of Tennessee            NaN   \n",
      "2                   0                  State of Tennessee            NaN   \n",
      "3                  10                     Anderson County            2.0   \n",
      "4                  10                     Anderson County            2.0   \n",
      "...               ...                                 ...            ...   \n",
      "3902              986  Tennessee State Board of Education         8015.0   \n",
      "3903              986  Tennessee State Board of Education         8020.0   \n",
      "3904              986  Tennessee State Board of Education         8020.0   \n",
      "3905              986  Tennessee State Board of Education            NaN   \n",
      "3906              986  Tennessee State Board of Education            NaN   \n",
      "\n",
      "                               school_name  school_year  gender  \\\n",
      "0                                      NaN         2020  Female   \n",
      "1                                      NaN         2020    Male   \n",
      "2                                      NaN         2020     NaN   \n",
      "3              Anderson County High School         2020  Female   \n",
      "4              Anderson County High School         2020    Male   \n",
      "...                                    ...          ...     ...   \n",
      "3902  KIPP Antioch College Prep Elementary         2020    Male   \n",
      "3903      KIPP Antioch College Prep Middle         2020  Female   \n",
      "3904      KIPP Antioch College Prep Middle         2020    Male   \n",
      "3905                                   NaN         2020  Female   \n",
      "3906                                   NaN         2020    Male   \n",
      "\n",
      "      students_in_school_suspension  students_suspended  students_expelled  \\\n",
      "0                           14406.0             11275.0              267.0   \n",
      "1                           32124.0             24024.0              666.0   \n",
      "2                               0.0                 0.0                0.0   \n",
      "3                               8.0                10.0                0.0   \n",
      "4                              26.0                19.0                0.0   \n",
      "...                             ...                 ...                ...   \n",
      "3902                            3.0                 5.0                0.0   \n",
      "3903                            0.0                 1.0                0.0   \n",
      "3904                            0.0                 5.0                0.0   \n",
      "3905                           30.0                21.0                0.0   \n",
      "3906                           36.0                32.0                3.0   \n",
      "\n",
      "      students_placed_in_alternative_school  \\\n",
      "0                                    1520.0   \n",
      "1                                    3837.0   \n",
      "2                                       0.0   \n",
      "3                                       0.0   \n",
      "4                                       0.0   \n",
      "...                                     ...   \n",
      "3902                                    0.0   \n",
      "3903                                    0.0   \n",
      "3904                                    0.0   \n",
      "3905                                    0.0   \n",
      "3906                                    0.0   \n",
      "\n",
      "      students_committed_zero_tolerance  students_total  \\\n",
      "0                                 791.0        493844.0   \n",
      "1                                2023.0        519548.0   \n",
      "2                                   0.0             3.0   \n",
      "3                                   2.0           552.0   \n",
      "4                                   4.0           592.0   \n",
      "...                                 ...             ...   \n",
      "3902                                0.0           134.0   \n",
      "3903                                0.0            68.0   \n",
      "3904                                0.0            69.0   \n",
      "3905                                5.0           442.0   \n",
      "3906                                4.0           451.0   \n",
      "\n",
      "      percent_in_school_suspension  percent_suspended  percent_expelled  \\\n",
      "0                              2.9                2.3               0.1   \n",
      "1                              6.2                4.6               0.1   \n",
      "2                              0.0                0.0               0.0   \n",
      "3                              1.4                1.8               0.0   \n",
      "4                              4.4                3.2               0.0   \n",
      "...                            ...                ...               ...   \n",
      "3902                           2.2                3.7               0.0   \n",
      "3903                           0.0                1.5               0.0   \n",
      "3904                           0.0                7.2               0.0   \n",
      "3905                           6.8                4.8               0.0   \n",
      "3906                           8.0                7.1               0.7   \n",
      "\n",
      "      percent_placed_in_alternative_school  percent_committed_zero_tolerance  \n",
      "0                                      0.3                               0.2  \n",
      "1                                      0.7                               0.4  \n",
      "2                                      0.0                               0.0  \n",
      "3                                      0.0                               0.4  \n",
      "4                                      0.0                               0.7  \n",
      "...                                    ...                               ...  \n",
      "3902                                   0.0                               0.0  \n",
      "3903                                   0.0                               0.0  \n",
      "3904                                   0.0                               0.0  \n",
      "3905                                   0.0                               1.1  \n",
      "3906                                   0.0                               0.9  \n",
      "\n",
      "[3907 rows x 17 columns],        district_number                       district_name  school_number  \\\n",
      "0                    0                  State of Tennessee            NaN   \n",
      "1                    0                  State of Tennessee            NaN   \n",
      "2                    0                  State of Tennessee            NaN   \n",
      "3                    0                  State of Tennessee            NaN   \n",
      "4                    0                  State of Tennessee            NaN   \n",
      "...                ...                                 ...            ...   \n",
      "11481              986  Tennessee State Board of Education            NaN   \n",
      "11482              986  Tennessee State Board of Education            NaN   \n",
      "11483              986  Tennessee State Board of Education            NaN   \n",
      "11484              986  Tennessee State Board of Education            NaN   \n",
      "11485              986  Tennessee State Board of Education            NaN   \n",
      "\n",
      "      school_name alternative_school  school_year grade_level  students_iss  \\\n",
      "0             NaN                NaN         2020          01         483.0   \n",
      "1             NaN                NaN         2020          02         576.0   \n",
      "2             NaN                NaN         2020          03         867.0   \n",
      "3             NaN                NaN         2020          04        1195.0   \n",
      "4             NaN                NaN         2020          05        2213.0   \n",
      "...           ...                ...          ...         ...           ...   \n",
      "11481         NaN                NaN         2020          05           0.0   \n",
      "11482         NaN                NaN         2020          09          18.0   \n",
      "11483         NaN                NaN         2020          10           9.0   \n",
      "11484         NaN                NaN         2020          11          36.0   \n",
      "11485         NaN                NaN         2020           K           1.0   \n",
      "\n",
      "       students_suspended  students_expelled  \\\n",
      "0                   750.0                3.0   \n",
      "1                   884.0                9.0   \n",
      "2                  1060.0                7.0   \n",
      "3                  1569.0               10.0   \n",
      "4                  2363.0               12.0   \n",
      "...                   ...                ...   \n",
      "11481                 6.0                0.0   \n",
      "11482                12.0                0.0   \n",
      "11483                15.0                1.0   \n",
      "11484                14.0                2.0   \n",
      "11485                 4.0                0.0   \n",
      "\n",
      "       students_placed_in_alternative_school  \\\n",
      "0                                       23.0   \n",
      "1                                       26.0   \n",
      "2                                       41.0   \n",
      "3                                       54.0   \n",
      "4                                       86.0   \n",
      "...                                      ...   \n",
      "11481                                    0.0   \n",
      "11482                                    0.0   \n",
      "11483                                    0.0   \n",
      "11484                                    0.0   \n",
      "11485                                    0.0   \n",
      "\n",
      "       students_committed_zero_tolerance  students_total  \\\n",
      "0                                   27.0         79015.0   \n",
      "1                                   37.0         77923.0   \n",
      "2                                   63.0         77348.0   \n",
      "3                                   44.0         77300.0   \n",
      "4                                   98.0         78073.0   \n",
      "...                                  ...             ...   \n",
      "11481                                0.0           137.0   \n",
      "11482                                1.0           148.0   \n",
      "11483                                4.0           160.0   \n",
      "11484                                4.0           149.0   \n",
      "11485                                0.0           146.0   \n",
      "\n",
      "       percent of in school suspensions  percent suspended  percent_expelled  \\\n",
      "0                                   0.6                0.9               0.0   \n",
      "1                                   0.7                1.1               0.0   \n",
      "2                                   1.1                1.4               0.0   \n",
      "3                                   1.5                2.0               0.0   \n",
      "4                                   2.8                3.0               0.0   \n",
      "...                                 ...                ...               ...   \n",
      "11481                               0.0                4.4               0.0   \n",
      "11482                              12.2                8.1               0.0   \n",
      "11483                               5.6                9.4               0.6   \n",
      "11484                              24.2                9.4               1.3   \n",
      "11485                               0.7                2.7               0.0   \n",
      "\n",
      "       percent_placed_in_alternative_school  percent_committed_zero_tolerance  \n",
      "0                                       0.0                               0.0  \n",
      "1                                       0.0                               0.0  \n",
      "2                                       0.1                               0.1  \n",
      "3                                       0.1                               0.1  \n",
      "4                                       0.1                               0.1  \n",
      "...                                     ...                               ...  \n",
      "11481                                   0.0                               0.0  \n",
      "11482                                   0.0                               0.7  \n",
      "11483                                   0.0                               2.5  \n",
      "11484                                   0.0                               2.7  \n",
      "11485                                   0.0                               0.0  \n",
      "\n",
      "[11486 rows x 18 columns],       district                       district_name  school  \\\n",
      "0            0                  State of Tennessee     NaN   \n",
      "1            0                  State of Tennessee     NaN   \n",
      "2            0                  State of Tennessee     NaN   \n",
      "3            0                  State of Tennessee     NaN   \n",
      "4           10                     Anderson County     2.0   \n",
      "...        ...                                 ...     ...   \n",
      "7479       986  Tennessee State Board of Education  8020.0   \n",
      "7480       986  Tennessee State Board of Education     NaN   \n",
      "7481       986  Tennessee State Board of Education     NaN   \n",
      "7482       986  Tennessee State Board of Education     NaN   \n",
      "7483       986  Tennessee State Board of Education     NaN   \n",
      "\n",
      "                           school_name alternative_school  school_year  \\\n",
      "0                                  NaN                NaN         2020   \n",
      "1                                  NaN                NaN         2020   \n",
      "2                                  NaN                NaN         2020   \n",
      "3                                  NaN                NaN         2020   \n",
      "4          Anderson County High School                 No         2020   \n",
      "...                                ...                ...          ...   \n",
      "7479  KIPP Antioch College Prep Middle                 No         2020   \n",
      "7480                               NaN                NaN         2020   \n",
      "7481                               NaN                NaN         2020   \n",
      "7482                               NaN                NaN         2020   \n",
      "7483                               NaN                NaN         2020   \n",
      "\n",
      "                       student_group  students_iss  students_suspended  \\\n",
      "0     Black/Hispanic/Native American       21170.0             23355.0   \n",
      "1         Economically Disadvantaged       22348.0             20875.0   \n",
      "2           English Language Learner        1878.0              1440.0   \n",
      "3          Student with Disabilities        8808.0              7828.0   \n",
      "4     Black/Hispanic/Native American           3.0                 1.0   \n",
      "...                              ...           ...                 ...   \n",
      "7479       Student with Disabilities           0.0                 1.0   \n",
      "7480  Black/Hispanic/Native American          65.0                52.0   \n",
      "7481      Economically Disadvantaged          43.0                35.0   \n",
      "7482        English Language Learner           3.0                 4.0   \n",
      "7483       Student with Disabilities          13.0                12.0   \n",
      "\n",
      "      students_expelled  students_placed_in_alternative_school  \\\n",
      "0                 723.0                                 2618.0   \n",
      "1                 600.0                                 3095.0   \n",
      "2                  44.0                                  141.0   \n",
      "3                 134.0                                 1135.0   \n",
      "4                   0.0                                    0.0   \n",
      "...                 ...                                    ...   \n",
      "7479                0.0                                    0.0   \n",
      "7480                3.0                                    0.0   \n",
      "7481                1.0                                    0.0   \n",
      "7482                1.0                                    0.0   \n",
      "7483                0.0                                    0.0   \n",
      "\n",
      "      students_committed_zero_tolerance  students_total  percent_iss  \\\n",
      "0                                1668.0        369736.0          5.7   \n",
      "1                                1505.0        340849.0          6.6   \n",
      "2                                 115.0         54872.0          3.4   \n",
      "3                                 505.0        135048.0          6.5   \n",
      "4                                   0.0            34.0          8.8   \n",
      "...                                 ...             ...          ...   \n",
      "7479                                0.0            17.0          0.0   \n",
      "7480                                9.0           752.0          8.6   \n",
      "7481                                5.0           394.0         10.9   \n",
      "7482                                3.0           119.0          2.5   \n",
      "7483                                2.0           126.0         10.3   \n",
      "\n",
      "      percent_suspended  percent_expelled  \\\n",
      "0                   6.3               0.2   \n",
      "1                   6.1               0.2   \n",
      "2                   2.6               0.1   \n",
      "3                   5.8               0.1   \n",
      "4                   2.9               0.0   \n",
      "...                 ...               ...   \n",
      "7479                5.9               0.0   \n",
      "7480                6.9               0.4   \n",
      "7481                8.9               0.3   \n",
      "7482                3.4               0.8   \n",
      "7483                9.5               0.0   \n",
      "\n",
      "      percent_placed_in_alternative_school  percent_committed_zero_tolerance  \n",
      "0                                      0.7                               0.5  \n",
      "1                                      0.9                               0.4  \n",
      "2                                      0.3                               0.2  \n",
      "3                                      0.8                               0.4  \n",
      "4                                      0.0                               0.0  \n",
      "...                                    ...                               ...  \n",
      "7479                                   0.0                               0.0  \n",
      "7480                                   0.0                               1.2  \n",
      "7481                                   0.0                               1.3  \n",
      "7482                                   0.0                               2.5  \n",
      "7483                                   0.0                               1.6  \n",
      "\n",
      "[7484 rows x 18 columns],       district_number                       district_name  school_number  \\\n",
      "0                   0                  State of Tennessee            NaN   \n",
      "1                   0                  State of Tennessee            NaN   \n",
      "2                   0                  State of Tennessee            NaN   \n",
      "3                   0                  State of Tennessee            NaN   \n",
      "4                   0                  State of Tennessee            NaN   \n",
      "...               ...                                 ...            ...   \n",
      "9689              986  Tennessee State Board of Education         8020.0   \n",
      "9690              986  Tennessee State Board of Education            NaN   \n",
      "9691              986  Tennessee State Board of Education            NaN   \n",
      "9692              986  Tennessee State Board of Education            NaN   \n",
      "9693              986  Tennessee State Board of Education            NaN   \n",
      "\n",
      "                           school_name  school_year  \\\n",
      "0                                  NaN         2020   \n",
      "1                                  NaN         2020   \n",
      "2                                  NaN         2020   \n",
      "3                                  NaN         2020   \n",
      "4                                  NaN         2020   \n",
      "...                                ...          ...   \n",
      "9689  KIPP Antioch College Prep Middle         2020   \n",
      "9690                               NaN         2020   \n",
      "9691                               NaN         2020   \n",
      "9692                               NaN         2020   \n",
      "9693                               NaN         2020   \n",
      "\n",
      "                                  race  students_in_school_suspension  \\\n",
      "0                                Asian                          345.0   \n",
      "1            Black or African American                        16324.0   \n",
      "2                   Hispanic or Latino                         4623.0   \n",
      "3              Native American/Alaskan                          223.0   \n",
      "4     Native Hawaiian/Pacific Islander                           88.0   \n",
      "...                                ...                            ...   \n",
      "9689                             White                            0.0   \n",
      "9690                             Asian                            0.0   \n",
      "9691         Black or African American                           62.0   \n",
      "9692                Hispanic or Latino                            3.0   \n",
      "9693                             White                            1.0   \n",
      "\n",
      "      students_suspended  students_expelled  \\\n",
      "0                  220.0                5.0   \n",
      "1                20140.0              625.0   \n",
      "2                 3104.0               94.0   \n",
      "3                  111.0                4.0   \n",
      "4                   38.0                1.0   \n",
      "...                  ...                ...   \n",
      "9689                 1.0                0.0   \n",
      "9690                 0.0                0.0   \n",
      "9691                47.0                1.0   \n",
      "9692                 5.0                2.0   \n",
      "9693                 1.0                0.0   \n",
      "\n",
      "      students_placed_in_alternative_school  \\\n",
      "0                                      20.0   \n",
      "1                                    2165.0   \n",
      "2                                     422.0   \n",
      "3                                      31.0   \n",
      "4                                       2.0   \n",
      "...                                     ...   \n",
      "9689                                    0.0   \n",
      "9690                                    0.0   \n",
      "9691                                    0.0   \n",
      "9692                                    0.0   \n",
      "9693                                    0.0   \n",
      "\n",
      "      students_committed_zero_tolerance  students_total  \\\n",
      "0                                  22.0         25369.0   \n",
      "1                                1355.0        244232.0   \n",
      "2                                 293.0        121423.0   \n",
      "3                                  20.0          4081.0   \n",
      "4                                   3.0          2297.0   \n",
      "...                                 ...             ...   \n",
      "9689                                0.0            29.0   \n",
      "9690                                0.0            34.0   \n",
      "9691                                5.0           545.0   \n",
      "9692                                4.0           207.0   \n",
      "9693                                0.0           107.0   \n",
      "\n",
      "      percent_in_school_suspension  percent_suspended  percent_expelled  \\\n",
      "0                              1.4                0.9               0.0   \n",
      "1                              6.7                8.2               0.3   \n",
      "2                              3.8                2.6               0.1   \n",
      "3                              5.5                2.7               0.1   \n",
      "4                              3.8                1.7               0.0   \n",
      "...                            ...                ...               ...   \n",
      "9689                           0.0                3.4               0.0   \n",
      "9690                           0.0                0.0               0.0   \n",
      "9691                          11.4                8.6               0.2   \n",
      "9692                           1.4                2.4               1.0   \n",
      "9693                           0.9                0.9               0.0   \n",
      "\n",
      "      percent_placed_in_alternative_school  percent_committed_zero_tolerance  \n",
      "0                                      0.1                               0.1  \n",
      "1                                      0.9                               0.6  \n",
      "2                                      0.3                               0.2  \n",
      "3                                      0.8                               0.5  \n",
      "4                                      0.1                               0.1  \n",
      "...                                    ...                               ...  \n",
      "9689                                   0.0                               0.0  \n",
      "9690                                   0.0                               0.0  \n",
      "9691                                   0.0                               0.9  \n",
      "9692                                   0.0                               1.9  \n",
      "9693                                   0.0                               0.0  \n",
      "\n",
      "[9694 rows x 17 columns],      district_number                            district  \\\n",
      "0                  0                  State of Tennessee   \n",
      "1                 10                     Anderson County   \n",
      "2                 11                             Clinton   \n",
      "3                 12                           Oak Ridge   \n",
      "4                 20                      Bedford County   \n",
      "..               ...                                 ...   \n",
      "143              961              Alvin C York Institute   \n",
      "144              963          Tennessee School for Blind   \n",
      "145              964       Tennessee School for the Deaf   \n",
      "146              985         Achievement School District   \n",
      "147              986  Tennessee State Board of Education   \n",
      "\n",
      "              street_address_1 street_address_2         city state  zipcode  \\\n",
      "0     710 James Robertson Pkwy              NaN    Nashville    TN    37243   \n",
      "1            101 South Main ST              NaN      Clinton    TN    37716   \n",
      "2             212  N  Hicks ST              NaN      Clinton    TN    37716   \n",
      "3           P. O. Box 6588 AVE              NaN    Oak Ridge    TN    37831   \n",
      "4             500  Madison  ST              NaN  Shelbyville    TN    37160   \n",
      "..                         ...              ...          ...   ...      ...   \n",
      "143              P O Box 70 ST              NaN    Jamestown    TN    38556   \n",
      "144  115  Stewarts  Ferry PIKE              NaN    Nashville    TN    37214   \n",
      "145    2725  Island  Home BLVD              NaN    Knoxville    TN    37920   \n",
      "146   710 James Robertson PKWY              NaN    Nashville    TN    37243   \n",
      "147   710 James Robertson PKWY        1st Floor    Nashville    TN    37243   \n",
      "\n",
      "             phone1          phone2 grades_served                    director  \\\n",
      "0               NaN             NaN  Grades PK-12  Commissioner Penny Schwinn   \n",
      "1    (865) 463-2800  (865) 457-9157  Grades PK-12             Dr. Tim Parrott   \n",
      "2    (865) 457-0159  (865) 463-0668   Grades PK-6            Kelly D. Johnson   \n",
      "3    (865) 425-9001  (865) 425-9070  Grades PK-12          Dr. Bruce Borchers   \n",
      "4    (931) 684-3284  (931) 684-3289  Grades PK-12                   Don Embry   \n",
      "..              ...             ...           ...                         ...   \n",
      "143  (931) 879-8101  (931) 879-2147   Grades 9-12               Dr Joe Miller   \n",
      "144  (615) 339-6284  (615) 231-7300  Grades PK-12            Dr. David Martin   \n",
      "145  (865) 579-2500  (865) 579-2484  Grades PK-12                  Vicki Kirk   \n",
      "146  (615) 253-4176  (615) 253-4177  Grades PK-12                 Lisa Settle   \n",
      "147  (615) 741-2966  (615) 741-0371  Grades KG-11       Sara Heyburn Morrison   \n",
      "\n",
      "          countyname  school_count  \n",
      "0              State          1878  \n",
      "1    Anderson County            18  \n",
      "2    Anderson County             3  \n",
      "3    Anderson County             8  \n",
      "4     Bedford County            14  \n",
      "..               ...           ...  \n",
      "143  Fentress County             1  \n",
      "144  Davidson County             1  \n",
      "145      Knox County             3  \n",
      "146    Shelby County            30  \n",
      "147            State             3  \n",
      "\n",
      "[148 rows x 13 columns],      Unnamed: 0  District Number  \\\n",
      "0             0               10   \n",
      "1             1               11   \n",
      "2             2               12   \n",
      "3             3               20   \n",
      "4             4               30   \n",
      "..          ...              ...   \n",
      "141         141              963   \n",
      "142         142              964   \n",
      "143         143              970   \n",
      "144         144              985   \n",
      "145         145              986   \n",
      "\n",
      "                                      District Name  Overall Composite  \\\n",
      "0                                   Anderson County                  5   \n",
      "1                                           Clinton                  5   \n",
      "2                                         Oak Ridge                  5   \n",
      "3                                    Bedford County                  2   \n",
      "4                                     Benton County                  3   \n",
      "..                                              ...                ...   \n",
      "141                      Tennessee School for Blind                  3   \n",
      "142                   Tennessee School for the Deaf                  1   \n",
      "143  Department of Children's Services Ed. Division                  1   \n",
      "144                     Achievement School District                  1   \n",
      "145              Tennessee State Board of Education                  5   \n",
      "\n",
      "     Literacy Composite  Numeracy Composite  Literacy and Numeracy Composite  \\\n",
      "0                   5.0                   5                                5   \n",
      "1                   3.0                   5                                5   \n",
      "2                   5.0                   5                                5   \n",
      "3                   3.0                   1                                1   \n",
      "4                   2.0                   4                                3   \n",
      "..                  ...                 ...                              ...   \n",
      "141                 NaN                   3                                3   \n",
      "142                 2.0                   2                                1   \n",
      "143                 1.0                   1                                1   \n",
      "144                 2.0                   2                                2   \n",
      "145                 5.0                   5                                5   \n",
      "\n",
      "     Social Studies Composite      subgroup  valid_tests  ...  \\\n",
      "0                         1.0  All Students        527.0  ...   \n",
      "1                         5.0           NaN          NaN  ...   \n",
      "2                         1.0  All Students        272.0  ...   \n",
      "3                         5.0  All Students        557.0  ...   \n",
      "4                         5.0  All Students        148.0  ...   \n",
      "..                        ...           ...          ...  ...   \n",
      "141                       NaN  All Students          3.0  ...   \n",
      "142                       NaN  All Students          6.0  ...   \n",
      "143                       1.0  All Students         38.0  ...   \n",
      "144                       1.0  All Students        294.0  ...   \n",
      "145                       NaN           NaN          NaN  ...   \n",
      "\n",
      "     average_composite_score  number_scoring_21_or_higher  \\\n",
      "0                       19.5                        198.0   \n",
      "1                        NaN                          NaN   \n",
      "2                       23.3                        175.0   \n",
      "3                       18.9                        184.0   \n",
      "4                       19.0                         42.0   \n",
      "..                       ...                          ...   \n",
      "141                      NaN                          NaN   \n",
      "142                      NaN                          NaN   \n",
      "143                     15.7                          3.0   \n",
      "144                     14.8                         14.0   \n",
      "145                      NaN                          NaN   \n",
      "\n",
      "     percent_scoring_21_or_higher  number_scoring_below_19  \\\n",
      "0                            37.6                    254.0   \n",
      "1                             NaN                      NaN   \n",
      "2                            64.3                     65.0   \n",
      "3                            33.0                    306.0   \n",
      "4                            28.4                     79.0   \n",
      "..                            ...                      ...   \n",
      "141                           NaN                      NaN   \n",
      "142                           NaN                      NaN   \n",
      "143                           7.9                     31.0   \n",
      "144                           4.8                    261.0   \n",
      "145                           NaN                      NaN   \n",
      "\n",
      "     percent_scoring_below_19  Licensed Educators  Instructional Personnel  \\\n",
      "0                        48.2             52521.0                  51957.0   \n",
      "1                         NaN                 NaN                      NaN   \n",
      "2                        23.9             70097.0                  69567.0   \n",
      "3                        54.9             52017.0                  51891.0   \n",
      "4                        53.4             50247.0                  49861.0   \n",
      "..                        ...                 ...                      ...   \n",
      "141                       NaN                 NaN                      NaN   \n",
      "142                       NaN                 NaN                      NaN   \n",
      "143                      81.6                 NaN                      NaN   \n",
      "144                      88.8                 NaN                      NaN   \n",
      "145                       NaN                 NaN                      NaN   \n",
      "\n",
      "     Classroom Teacher  Principal  Superintendent  \n",
      "0              48515.0    89789.0        156000.0  \n",
      "1                  NaN        NaN             NaN  \n",
      "2              66926.0    96667.0        202359.0  \n",
      "3              49949.0    81366.0        116360.0  \n",
      "4              47737.0    68095.0         97857.0  \n",
      "..                 ...        ...             ...  \n",
      "141                NaN        NaN             NaN  \n",
      "142                NaN        NaN             NaN  \n",
      "143                NaN        NaN             NaN  \n",
      "144                NaN        NaN             NaN  \n",
      "145                NaN        NaN             NaN  \n",
      "\n",
      "[146 rows x 25 columns],       district_number                district_name  school_number  \\\n",
      "0                   0           State of Tennessee              0   \n",
      "1                   0           State of Tennessee              0   \n",
      "2                   0           State of Tennessee              0   \n",
      "3                   0           State of Tennessee              0   \n",
      "4                   0           State of Tennessee              0   \n",
      "...               ...                          ...            ...   \n",
      "2060              985  Achievement School District              0   \n",
      "2061              985  Achievement School District              0   \n",
      "2062              985  Achievement School District              0   \n",
      "2063              985  Achievement School District              0   \n",
      "2064              985  Achievement School District              0   \n",
      "\n",
      "      school_name                          subgroup  grad_cohort  \\\n",
      "0     All Schools                      All Students        72481   \n",
      "1     All Schools  American Indian or Alaska Native          269   \n",
      "2     All Schools                             Asian         1652   \n",
      "3     All Schools         Black or African American        17552   \n",
      "4     All Schools    Black/Hispanic/Native American        24523   \n",
      "...           ...                               ...          ...   \n",
      "2060  All Schools    Non-Economically Disadvantaged          141   \n",
      "2061  All Schools              Non-English Learners          664   \n",
      "2062  All Schools    Non-Students with Disabilities          577   \n",
      "2063  All Schools        Students with Disabilities          110   \n",
      "2064  All Schools                             White           18   \n",
      "\n",
      "      dropout_count  dropout_rate  \n",
      "0            4738.0           6.5  \n",
      "1              18.0           6.7  \n",
      "2              40.0           2.4  \n",
      "3            1816.0          10.3  \n",
      "4            2624.0          10.7  \n",
      "...             ...           ...  \n",
      "2060           59.0          41.8  \n",
      "2061          204.0          30.7  \n",
      "2062          182.0          31.5  \n",
      "2063           30.0          27.3  \n",
      "2064           13.0          72.2  \n",
      "\n",
      "[2065 rows x 8 columns],       district_number                district_name  school_number  \\\n",
      "0                  10              Anderson County              2   \n",
      "1                  10              Anderson County              2   \n",
      "2                  10              Anderson County              2   \n",
      "3                  10              Anderson County              2   \n",
      "4                  10              Anderson County              2   \n",
      "...               ...                          ...            ...   \n",
      "5963              985  Achievement School District           8140   \n",
      "5964              985  Achievement School District           8140   \n",
      "5965              985  Achievement School District           8140   \n",
      "5966              985  Achievement School District           8140   \n",
      "5967              985  Achievement School District           8140   \n",
      "\n",
      "                      school_name                        subgroup  \\\n",
      "0     Anderson County High School                    All Students   \n",
      "1     Anderson County High School                           Asian   \n",
      "2     Anderson County High School       Black or African American   \n",
      "3     Anderson County High School  Black/Hispanic/Native American   \n",
      "4     Anderson County High School      Economically Disadvantaged   \n",
      "...                           ...                             ...   \n",
      "5963        Hillcrest High School  Non-Economically Disadvantaged   \n",
      "5964        Hillcrest High School            Non-English Learners   \n",
      "5965        Hillcrest High School  Non-Students with Disabilities   \n",
      "5966        Hillcrest High School      Students with Disabilities   \n",
      "5967        Hillcrest High School                           White   \n",
      "\n",
      "      grad_cohort  dropout_count  dropout_rate  \n",
      "0             280            4.0           1.4  \n",
      "1               4            NaN           NaN  \n",
      "2               2            NaN           NaN  \n",
      "3               4            NaN           NaN  \n",
      "4              80            3.0           3.8  \n",
      "...           ...            ...           ...  \n",
      "5963           38           14.0          36.8  \n",
      "5964          141           45.0          31.9  \n",
      "5965          115           37.0          32.2  \n",
      "5966           34            9.0          26.5  \n",
      "5967            2            NaN           NaN  \n",
      "\n",
      "[5968 rows x 8 columns],        district_number                       district_name  school_number  \\\n",
      "0                    0                  State of Tennessee              0   \n",
      "1                    0                  State of Tennessee              0   \n",
      "2                    0                  State of Tennessee              0   \n",
      "3                    0                  State of Tennessee              0   \n",
      "4                    0                  State of Tennessee              0   \n",
      "...                ...                                 ...            ...   \n",
      "36463              986  Tennessee State Board of Education           8020   \n",
      "36464              986  Tennessee State Board of Education           8020   \n",
      "36465              986  Tennessee State Board of Education           8020   \n",
      "36466              986  Tennessee State Board of Education           8020   \n",
      "36467              986  Tennessee State Board of Education           8020   \n",
      "\n",
      "                            school_name  year grades_served       subgroup  \\\n",
      "0                                   NaN  2020  Grades PK-12   all_students   \n",
      "1                                   NaN  2020  Grades PK-12            bhn   \n",
      "2                                   NaN  2020  Grades PK-12             ed   \n",
      "3                                   NaN  2020  Grades PK-12            ell   \n",
      "4                                   NaN  2020  Grades PK-12  ell_transonly   \n",
      "...                                 ...   ...           ...            ...   \n",
      "36463  KIPP Antioch College Prep Middle  2020  Grades 5 - 5         race_h   \n",
      "36464  KIPP Antioch College Prep Middle  2020  Grades 5 - 5         race_i   \n",
      "36465  KIPP Antioch College Prep Middle  2020  Grades 5 - 5        race_pi   \n",
      "36466  KIPP Antioch College Prep Middle  2020  Grades 5 - 5         race_w   \n",
      "36467  KIPP Antioch College Prep Middle  2020  Grades 5 - 5            swd   \n",
      "\n",
      "       value_previous      value  \n",
      "0            973659.0  1014502.0  \n",
      "1                35.2       36.4  \n",
      "2                34.9       30.8  \n",
      "3                 4.6        5.0  \n",
      "4                 2.3        7.5  \n",
      "...               ...        ...  \n",
      "36463             NaN       30.3  \n",
      "36464             NaN        0.0  \n",
      "36465             NaN        0.0  \n",
      "36466             NaN       22.0  \n",
      "36467             NaN       12.1  \n",
      "\n",
      "[36468 rows x 9 columns],       year  district_number                district_name  \\\n",
      "0     2019                0           State of Tennessee   \n",
      "1     2019                0           State of Tennessee   \n",
      "2     2019                0           State of Tennessee   \n",
      "3     2019                0           State of Tennessee   \n",
      "4     2019                0           State of Tennessee   \n",
      "...    ...              ...                          ...   \n",
      "2448  2019              985  Achievement School District   \n",
      "2449  2019              985  Achievement School District   \n",
      "2450  2019              985  Achievement School District   \n",
      "2451  2019              985  Achievement School District   \n",
      "2452  2019              985  Achievement School District   \n",
      "\n",
      "                              subgroup  graduation cohort graduation count  \\\n",
      "0                         All Students              72481            65043   \n",
      "1     American Indian or Alaska Native                269              239   \n",
      "2                                Asian               1652             1571   \n",
      "3            Black or African American              17552            14658   \n",
      "4       Black/Hispanic/Native American              24523            20531   \n",
      "...                                ...                ...              ...   \n",
      "2448                      Non-Homeless                645              335   \n",
      "2449                       Non-Migrant                687              355   \n",
      "2450    Non-Students with Disabilities                577              295   \n",
      "2451        Students with Disabilities                110               60   \n",
      "2452                             White                 18                3   \n",
      "\n",
      "     graduation rate  \n",
      "0               89.7  \n",
      "1               88.8  \n",
      "2               95.1  \n",
      "3               83.5  \n",
      "4               83.7  \n",
      "...              ...  \n",
      "2448            51.9  \n",
      "2449            51.7  \n",
      "2450            51.1  \n",
      "2451            54.5  \n",
      "2452            16.7  \n",
      "\n",
      "[2453 rows x 7 columns],       year  district_number                district_name  school_number  \\\n",
      "0     2019               10              Anderson County              2   \n",
      "1     2019               10              Anderson County              2   \n",
      "2     2019               10              Anderson County              2   \n",
      "3     2019               10              Anderson County              2   \n",
      "4     2019               10              Anderson County              2   \n",
      "...    ...              ...                          ...            ...   \n",
      "7131  2019              985  Achievement School District           8140   \n",
      "7132  2019              985  Achievement School District           8140   \n",
      "7133  2019              985  Achievement School District           8140   \n",
      "7134  2019              985  Achievement School District           8140   \n",
      "7135  2019              985  Achievement School District           8140   \n",
      "\n",
      "                      school_name                        subgroup  \\\n",
      "0     Anderson County High School                    All Students   \n",
      "1     Anderson County High School                           Asian   \n",
      "2     Anderson County High School       Black or African American   \n",
      "3     Anderson County High School  Black/Hispanic/Native American   \n",
      "4     Anderson County High School      Economically Disadvantaged   \n",
      "...                           ...                             ...   \n",
      "7131        Hillcrest High School                    Non-Homeless   \n",
      "7132        Hillcrest High School                     Non-Migrant   \n",
      "7133        Hillcrest High School  Non-Students with Disabilities   \n",
      "7134        Hillcrest High School      Students with Disabilities   \n",
      "7135        Hillcrest High School                           White   \n",
      "\n",
      "      graduation cohort graduation count graduation rate   \n",
      "0                   280              269             96.1  \n",
      "1                     4                *                *  \n",
      "2                     2                *                *  \n",
      "3                     4                *                *  \n",
      "4                    80               72               90  \n",
      "...                 ...              ...              ...  \n",
      "7131                138               86             62.3  \n",
      "7132                149               90             60.4  \n",
      "7133                115               74             64.3  \n",
      "7134                 34               16             47.1  \n",
      "7135                  2                *                *  \n",
      "\n",
      "[7136 rows x 9 columns],       district_number                       district_name  school_year  \\\n",
      "0                   0                  State of Tennessee         2020   \n",
      "1                  10                     Anderson County         2020   \n",
      "2                  10                     Anderson County         2020   \n",
      "3                  10                     Anderson County         2020   \n",
      "4                  10                     Anderson County         2020   \n",
      "...               ...                                 ...          ...   \n",
      "1950              985         Achievement School District         2020   \n",
      "1951              986  Tennessee State Board of Education         2020   \n",
      "1952              986  Tennessee State Board of Education         2020   \n",
      "1953              986  Tennessee State Board of Education         2020   \n",
      "1954              986  Tennessee State Board of Education         2020   \n",
      "\n",
      "                               school_name  school_year.1  \\\n",
      "0                                      NaN           2020   \n",
      "1              Anderson County High School           2020   \n",
      "2                 Andersonville Elementary           2020   \n",
      "3                    Briceville Elementary           2020   \n",
      "4                       Claxton Elementary           2020   \n",
      "...                                    ...            ...   \n",
      "1950                                   NaN           2020   \n",
      "1951                Bluff City High School           2020   \n",
      "1952  KIPP Antioch College Prep Elementary           2020   \n",
      "1953      KIPP Antioch College Prep Middle           2020   \n",
      "1954                                   NaN           2020   \n",
      "\n",
      "      students_in_school_suspension  students_suspended  students_expelled  \\\n",
      "0                           46530.0             35299.0              933.0   \n",
      "1                              34.0                29.0                0.0   \n",
      "2                               0.0                 0.0                0.0   \n",
      "3                               3.0                 2.0                0.0   \n",
      "4                              10.0                 7.0                0.0   \n",
      "...                             ...                 ...                ...   \n",
      "1950                          478.0              1185.0                3.0   \n",
      "1951                           63.0                41.0                3.0   \n",
      "1952                            3.0                 6.0                0.0   \n",
      "1953                            0.0                 6.0                0.0   \n",
      "1954                           66.0                53.0                3.0   \n",
      "\n",
      "      students_placed_in_alternative_school  \\\n",
      "0                                    5357.0   \n",
      "1                                       0.0   \n",
      "2                                       0.0   \n",
      "3                                       0.0   \n",
      "4                                       0.0   \n",
      "...                                     ...   \n",
      "1950                                   26.0   \n",
      "1951                                    0.0   \n",
      "1952                                    0.0   \n",
      "1953                                    0.0   \n",
      "1954                                    0.0   \n",
      "\n",
      "      students_committed_zero_tolerance  students_total  percent_iss  \\\n",
      "0                                2814.0       1013395.0          4.6   \n",
      "1                                   6.0          1144.0          3.0   \n",
      "2                                   0.0           328.0          0.0   \n",
      "3                                   0.0           117.0          2.6   \n",
      "4                                   0.0           465.0          2.2   \n",
      "...                                 ...             ...          ...   \n",
      "1950                              110.0         12243.0          3.9   \n",
      "1951                                9.0           457.0         13.8   \n",
      "1952                                0.0           299.0          1.0   \n",
      "1953                                0.0           137.0          0.0   \n",
      "1954                                9.0           893.0          7.4   \n",
      "\n",
      "      percent_suspended  percent_expelled  \\\n",
      "0                   3.5               0.1   \n",
      "1                   2.5               0.0   \n",
      "2                   0.0               0.0   \n",
      "3                   1.7               0.0   \n",
      "4                   1.5               0.0   \n",
      "...                 ...               ...   \n",
      "1950                9.7               0.0   \n",
      "1951                9.0               0.7   \n",
      "1952                2.0               0.0   \n",
      "1953                4.4               0.0   \n",
      "1954                5.9               0.3   \n",
      "\n",
      "      percent_placed_in_alternative_school  percent_committed_zero_tolerance  \n",
      "0                                      0.5                               0.3  \n",
      "1                                      0.0                               0.5  \n",
      "2                                      0.0                               0.0  \n",
      "3                                      0.0                               0.0  \n",
      "4                                      0.0                               0.0  \n",
      "...                                    ...                               ...  \n",
      "1950                                   0.2                               0.9  \n",
      "1951                                   0.0                               2.0  \n",
      "1952                                   0.0                               0.0  \n",
      "1953                                   0.0                               0.0  \n",
      "1954                                   0.0                               1.0  \n",
      "\n",
      "[1955 rows x 16 columns],       district_number               district_name   \\\n",
      "0                  10              Anderson County   \n",
      "1                  10              Anderson County   \n",
      "2                  10              Anderson County   \n",
      "3                  10              Anderson County   \n",
      "4                  10              Anderson County   \n",
      "...               ...                          ...   \n",
      "1706              985  Achievement School District   \n",
      "1707              985  Achievement School District   \n",
      "1708              985  Achievement School District   \n",
      "1709              985  Achievement School District   \n",
      "1710              985  Achievement School District   \n",
      "\n",
      "                              subgroup  Number of students  \\\n",
      "0                         All Students                 552   \n",
      "1     American Indian or Alaska Native                   2   \n",
      "2                                Asian                   8   \n",
      "3            Black or African American                  10   \n",
      "4       Black/Hispanic/Native American                  19   \n",
      "...                                ...                 ...   \n",
      "1706              Non-English Learners                 664   \n",
      "1707    Non-Students with Disabilities                 577   \n",
      "1708        Students with Disabilities                 110   \n",
      "1709                    Super Subgroup                 680   \n",
      "1710                             White                  18   \n",
      "\n",
      "     number of ready graduates percent of ready graduates   \n",
      "0                          237                        42.9  \n",
      "1                            *                           *  \n",
      "2                            *                           *  \n",
      "3                            1                          10  \n",
      "4                            5                        26.3  \n",
      "...                        ...                         ...  \n",
      "1706                        15                         2.3  \n",
      "1707                        15                         2.6  \n",
      "1708                        **                          **  \n",
      "1709                        15                         2.2  \n",
      "1710                        **                          **  \n",
      "\n",
      "[1711 rows x 6 columns],       district_number                district_name  school_number  \\\n",
      "0                  10              Anderson County              2   \n",
      "1                  10              Anderson County              2   \n",
      "2                  10              Anderson County              2   \n",
      "3                  10              Anderson County              2   \n",
      "4                  10              Anderson County              2   \n",
      "...               ...                          ...            ...   \n",
      "4885              985  Achievement School District           8140   \n",
      "4886              985  Achievement School District           8140   \n",
      "4887              985  Achievement School District           8140   \n",
      "4888              985  Achievement School District           8140   \n",
      "4889              985  Achievement School District           8140   \n",
      "\n",
      "                      school_name                        subgroup  \\\n",
      "0     Anderson County High School                    All Students   \n",
      "1     Anderson County High School                           Asian   \n",
      "2     Anderson County High School       Black or African American   \n",
      "3     Anderson County High School  Black/Hispanic/Native American   \n",
      "4     Anderson County High School      Economically Disadvantaged   \n",
      "...                           ...                             ...   \n",
      "4885        Hillcrest High School            Non-English Learners   \n",
      "4886        Hillcrest High School  Non-Students with Disabilities   \n",
      "4887        Hillcrest High School      Students with Disabilities   \n",
      "4888        Hillcrest High School                  Super Subgroup   \n",
      "4889        Hillcrest High School                           White   \n",
      "\n",
      "      number of students total number of ready graduate students   \\\n",
      "0                          280                                140   \n",
      "1                            4                                  *   \n",
      "2                            2                                  *   \n",
      "3                            4                                  *   \n",
      "4                           80                                 27   \n",
      "...                        ...                                ...   \n",
      "4885                       141                                 **   \n",
      "4886                       115                                  6   \n",
      "4887                        34                                 **   \n",
      "4888                       148                                 **   \n",
      "4889                         2                                  *   \n",
      "\n",
      "     percentage of ready graduates  \n",
      "0                               50  \n",
      "1                                *  \n",
      "2                                *  \n",
      "3                                *  \n",
      "4                             33.8  \n",
      "...                            ...  \n",
      "4885                            **  \n",
      "4886                           5.2  \n",
      "4887                            **  \n",
      "4888                            **  \n",
      "4889                             *  \n",
      "\n",
      "[4890 rows x 8 columns],                                      subgroup  Number of students  \\\n",
      "0                                All Students               72481   \n",
      "1            American Indian or Alaska Native                 269   \n",
      "2                                       Asian                1652   \n",
      "3                   Black or African American               17552   \n",
      "4              Black/Hispanic/Native American               24523   \n",
      "5                  Economically Disadvantaged               28997   \n",
      "6      English Learners with Transitional 1-4                2686   \n",
      "7                                    Hispanic                6702   \n",
      "8   Native Hawaiian or Other Pacific Islander                 129   \n",
      "9              Non-Economically Disadvantaged               43484   \n",
      "10                       Non-English Learners               69795   \n",
      "11             Non-Students with Disabilities               62724   \n",
      "12                 Students with Disabilities                9757   \n",
      "13                             Super Subgroup               42461   \n",
      "14                                      White               46177   \n",
      "\n",
      "    Number of Ready Graduates  Percent of Ready Graduates   \n",
      "0                       29520                         40.7  \n",
      "1                         113                         42.0  \n",
      "2                        1094                         66.2  \n",
      "3                        3599                         20.5  \n",
      "4                        5436                         22.2  \n",
      "5                        6188                         21.3  \n",
      "6                         172                          6.4  \n",
      "7                        1724                         25.7  \n",
      "8                          63                         48.8  \n",
      "9                       23332                         53.7  \n",
      "10                      29348                         42.0  \n",
      "11                      28759                         45.9  \n",
      "12                        761                          7.8  \n",
      "13                      10029                         23.6  \n",
      "14                      22927                         49.7  ]\n"
     ]
    }
   ],
   "source": [
    "dataframes =[]\n",
    "\n",
    "for f in result:\n",
    "      \n",
    "    # read the csv file\n",
    "    df = pd.read_csv(f)\n",
    "    dataframes.append(df)\n",
    "    \n",
    "print(dataframes)"
   ]
  },
  {
   "cell_type": "code",
   "execution_count": 5,
   "id": "331bbec8",
   "metadata": {
    "scrolled": true
   },
   "outputs": [
    {
     "data": {
      "application/vnd.jupyter.widget-view+json": {
       "model_id": "b19e1930f0e34b77bb6e0094f31c793f",
       "version_major": 2,
       "version_minor": 0
      },
      "text/plain": [
       "Button(description='Toggle Pandas/Lux', layout=Layout(top='5px', width='140px'), style=ButtonStyle())"
      ]
     },
     "metadata": {},
     "output_type": "display_data"
    },
    {
     "data": {
      "application/vnd.jupyter.widget-view+json": {
       "model_id": "8440f6d1d1494c92aba6744bf10ccc63",
       "version_major": 2,
       "version_minor": 0
      },
      "text/plain": [
       "Output()"
      ]
     },
     "metadata": {},
     "output_type": "display_data"
    }
   ],
   "source": [
    "dataframes[0]"
   ]
  },
  {
   "cell_type": "code",
   "execution_count": 6,
   "id": "67e73239",
   "metadata": {
    "scrolled": true
   },
   "outputs": [
    {
     "data": {
      "application/vnd.jupyter.widget-view+json": {
       "model_id": "083a2a32661e424e91defe790ec40bc4",
       "version_major": 2,
       "version_minor": 0
      },
      "text/plain": [
       "Button(description='Toggle Pandas/Lux', layout=Layout(top='5px', width='140px'), style=ButtonStyle())"
      ]
     },
     "metadata": {},
     "output_type": "display_data"
    },
    {
     "data": {
      "application/vnd.jupyter.widget-view+json": {
       "model_id": "c79d84fea0d846afb0a066a7de84bb41",
       "version_major": 2,
       "version_minor": 0
      },
      "text/plain": [
       "Output()"
      ]
     },
     "metadata": {},
     "output_type": "display_data"
    }
   ],
   "source": [
    "act_district = dataframes[0].replace('*', np.nan)\n",
    "act_district"
   ]
  },
  {
   "cell_type": "code",
   "execution_count": 7,
   "id": "0c2d11ac",
   "metadata": {
    "scrolled": true
   },
   "outputs": [],
   "source": [
    "cols = act_district.columns.drop({'district_name', 'subgroup'})\n",
    "\n",
    "act_district[cols] = act_district[cols].apply(pd.to_numeric, errors='coerce')"
   ]
  },
  {
   "cell_type": "code",
   "execution_count": 8,
   "id": "383f0815",
   "metadata": {},
   "outputs": [
    {
     "data": {
      "application/vnd.jupyter.widget-view+json": {
       "model_id": "7dd1bb9a1f024cab843622ab02670133",
       "version_major": 2,
       "version_minor": 0
      },
      "text/plain": [
       "Button(description='Toggle Pandas/Lux', layout=Layout(top='5px', width='140px'), style=ButtonStyle())"
      ]
     },
     "metadata": {},
     "output_type": "display_data"
    },
    {
     "data": {
      "application/vnd.jupyter.widget-view+json": {
       "model_id": "42aa0ee6a6fd4fdfaef8fb1902f6e040",
       "version_major": 2,
       "version_minor": 0
      },
      "text/plain": [
       "Output()"
      ]
     },
     "metadata": {},
     "output_type": "display_data"
    }
   ],
   "source": [
    "act_district"
   ]
  },
  {
   "cell_type": "code",
   "execution_count": 9,
   "id": "3fe2773b",
   "metadata": {
    "scrolled": false
   },
   "outputs": [
    {
     "name": "stdout",
     "output_type": "stream",
     "text": [
      "<class 'lux.core.frame.LuxDataFrame'>\n",
      "RangeIndex: 595 entries, 0 to 594\n",
      "Data columns (total 14 columns):\n",
      " #   Column                        Non-Null Count  Dtype  \n",
      "---  ------                        --------------  -----  \n",
      " 0   district_number               595 non-null    int64  \n",
      " 1   district_name                 595 non-null    object \n",
      " 2   subgroup                      595 non-null    object \n",
      " 3   valid_tests                   595 non-null    int64  \n",
      " 4   participation_rate            482 non-null    float64\n",
      " 5   average_english_score         481 non-null    float64\n",
      " 6   average_math_score            481 non-null    float64\n",
      " 7   average_reading_score         481 non-null    float64\n",
      " 8   average_science_score         481 non-null    float64\n",
      " 9   average_composite_score       481 non-null    float64\n",
      " 10  number_scoring_21_or_higher   434 non-null    float64\n",
      " 11  percent_scoring_21_or_higher  433 non-null    float64\n",
      " 12  number_scoring_below_19       434 non-null    float64\n",
      " 13  percent_scoring_below_19      433 non-null    float64\n",
      "dtypes: float64(10), int64(2), object(2)\n",
      "memory usage: 65.2+ KB\n"
     ]
    }
   ],
   "source": [
    "act_district.info()"
   ]
  },
  {
   "cell_type": "code",
   "execution_count": 10,
   "id": "82228861",
   "metadata": {},
   "outputs": [
    {
     "data": {
      "application/vnd.jupyter.widget-view+json": {
       "model_id": "7521bc13a4b344558db9ab31360ec20f",
       "version_major": 2,
       "version_minor": 0
      },
      "text/plain": [
       "Button(description='Toggle Pandas/Lux', layout=Layout(top='5px', width='140px'), style=ButtonStyle())"
      ]
     },
     "metadata": {},
     "output_type": "display_data"
    },
    {
     "data": {
      "application/vnd.jupyter.widget-view+json": {
       "model_id": "ec5a73a94f5a4675a1f51c5d457c875f",
       "version_major": 2,
       "version_minor": 0
      },
      "text/plain": [
       "Output()"
      ]
     },
     "metadata": {},
     "output_type": "display_data"
    }
   ],
   "source": [
    "act_district.describe()"
   ]
  },
  {
   "cell_type": "code",
   "execution_count": 11,
   "id": "563ecedf",
   "metadata": {},
   "outputs": [],
   "source": [
    "collist = ['District', 'Licensed Educators', 'Instructional Personnel', 'Classroom Teacher', 'Principal', 'Superintendent']\n",
    "\n",
    "salaries = pd.read_csv(r'C:\\Users\\chris\\Documents\\nss-data-analytics\\projects\\Nashville-Education-Data\\data\\avg_salaries.csv', nrows=142, usecols=collist)"
   ]
  },
  {
   "cell_type": "code",
   "execution_count": 12,
   "id": "738f7300",
   "metadata": {
    "scrolled": true
   },
   "outputs": [
    {
     "data": {
      "application/vnd.jupyter.widget-view+json": {
       "model_id": "26f0a4bbcfa94838b60c4a61c08384bb",
       "version_major": 2,
       "version_minor": 0
      },
      "text/plain": [
       "Button(description='Toggle Pandas/Lux', layout=Layout(top='5px', width='140px'), style=ButtonStyle())"
      ]
     },
     "metadata": {},
     "output_type": "display_data"
    },
    {
     "data": {
      "application/vnd.jupyter.widget-view+json": {
       "model_id": "9d5abeaff82c4bd99a04b9ebc19b108f",
       "version_major": 2,
       "version_minor": 0
      },
      "text/plain": [
       "Output()"
      ]
     },
     "metadata": {},
     "output_type": "display_data"
    }
   ],
   "source": [
    "salaries"
   ]
  },
  {
   "cell_type": "code",
   "execution_count": 13,
   "id": "ee121ad5",
   "metadata": {},
   "outputs": [],
   "source": [
    "cols = salaries.columns.drop({'District'})\n",
    "\n",
    "salaries[cols] = salaries[cols].apply(pd.to_numeric, errors='coerce')"
   ]
  },
  {
   "cell_type": "code",
   "execution_count": 14,
   "id": "0fc8bf8c",
   "metadata": {},
   "outputs": [],
   "source": [
    "salaries['District'] = salaries['District'].astype(str)"
   ]
  },
  {
   "cell_type": "code",
   "execution_count": 15,
   "id": "80e90341",
   "metadata": {
    "scrolled": false
   },
   "outputs": [
    {
     "data": {
      "application/vnd.jupyter.widget-view+json": {
       "model_id": "276c716b947f4887ba65c6b07da346d6",
       "version_major": 2,
       "version_minor": 0
      },
      "text/plain": [
       "Button(description='Toggle Pandas/Lux', layout=Layout(top='5px', width='140px'), style=ButtonStyle())"
      ]
     },
     "metadata": {},
     "output_type": "display_data"
    },
    {
     "data": {
      "application/vnd.jupyter.widget-view+json": {
       "model_id": "66566a8e2cf64b04bb527808fdce92dd",
       "version_major": 2,
       "version_minor": 0
      },
      "text/plain": [
       "Output()"
      ]
     },
     "metadata": {},
     "output_type": "display_data"
    }
   ],
   "source": [
    "salaries"
   ]
  },
  {
   "cell_type": "code",
   "execution_count": 16,
   "id": "e3555e9a",
   "metadata": {
    "scrolled": true
   },
   "outputs": [],
   "source": [
    "act_district_gen = act_district.loc[act_district['subgroup']== 'All Students']"
   ]
  },
  {
   "cell_type": "code",
   "execution_count": 17,
   "id": "fa0c1896",
   "metadata": {},
   "outputs": [
    {
     "data": {
      "application/vnd.jupyter.widget-view+json": {
       "model_id": "ca483f4324354e3cbc9befa83ffd57c2",
       "version_major": 2,
       "version_minor": 0
      },
      "text/plain": [
       "Button(description='Toggle Pandas/Lux', layout=Layout(top='5px', width='140px'), style=ButtonStyle())"
      ]
     },
     "metadata": {},
     "output_type": "display_data"
    },
    {
     "data": {
      "application/vnd.jupyter.widget-view+json": {
       "model_id": "a2be8dd9deed4a738c3a436d09206705",
       "version_major": 2,
       "version_minor": 0
      },
      "text/plain": [
       "Output()"
      ]
     },
     "metadata": {},
     "output_type": "display_data"
    }
   ],
   "source": [
    "act_district_gen.reset_index()"
   ]
  },
  {
   "cell_type": "code",
   "execution_count": 18,
   "id": "f5ebfd51",
   "metadata": {},
   "outputs": [],
   "source": [
    "act_dist_sal = act_district_gen.merge(salaries, left_on='district_name', right_on='District', how='left')"
   ]
  },
  {
   "cell_type": "code",
   "execution_count": 19,
   "id": "5f7f374c",
   "metadata": {},
   "outputs": [],
   "source": [
    "act_dist_sal = act_dist_sal.drop(columns={'District'})"
   ]
  },
  {
   "cell_type": "code",
   "execution_count": 20,
   "id": "53a42fc2",
   "metadata": {},
   "outputs": [
    {
     "data": {
      "application/vnd.jupyter.widget-view+json": {
       "model_id": "02632efcbd9c4f36837c8f47ba350f6c",
       "version_major": 2,
       "version_minor": 0
      },
      "text/plain": [
       "Button(description='Toggle Pandas/Lux', layout=Layout(top='5px', width='140px'), style=ButtonStyle())"
      ]
     },
     "metadata": {},
     "output_type": "display_data"
    },
    {
     "data": {
      "application/vnd.jupyter.widget-view+json": {
       "model_id": "6e9cd56a1c034eb1876f99825daa2567",
       "version_major": 2,
       "version_minor": 0
      },
      "text/plain": [
       "Output()"
      ]
     },
     "metadata": {},
     "output_type": "display_data"
    }
   ],
   "source": [
    "act_dist_sal"
   ]
  },
  {
   "cell_type": "code",
   "execution_count": null,
   "id": "6e1414f2",
   "metadata": {
    "scrolled": true
   },
   "outputs": [],
   "source": [
    "act_dist_sal.info()"
   ]
  },
  {
   "cell_type": "code",
   "execution_count": null,
   "id": "feefbc31",
   "metadata": {},
   "outputs": [],
   "source": [
    "col1 = act_dist_sal['average_composite_score'] \n",
    "col2 = act_dist_sal['Classroom Teacher']\n",
    "\n",
    "correl = col1.corr(col2)\n",
    "\n",
    "print(correl)"
   ]
  },
  {
   "cell_type": "code",
   "execution_count": 21,
   "id": "73836be8",
   "metadata": {},
   "outputs": [
    {
     "data": {
      "application/vnd.jupyter.widget-view+json": {
       "model_id": "a9acf213cbc74603899a295f0cde3e31",
       "version_major": 2,
       "version_minor": 0
      },
      "text/plain": [
       "Button(description='Toggle Pandas/Lux', layout=Layout(top='5px', width='140px'), style=ButtonStyle())"
      ]
     },
     "metadata": {},
     "output_type": "display_data"
    },
    {
     "data": {
      "application/vnd.jupyter.widget-view+json": {
       "model_id": "45fc0babc31f4d39806d395538a532c0",
       "version_major": 2,
       "version_minor": 0
      },
      "text/plain": [
       "Output()"
      ]
     },
     "metadata": {},
     "output_type": "display_data"
    }
   ],
   "source": [
    "act_dist_sal.intent = ['average_composite_score', 'Classroom Teacher']\n",
    "act_dist_sal"
   ]
  },
  {
   "cell_type": "markdown",
   "id": "b1d3a100",
   "metadata": {},
   "source": [
    "### Now to add variables"
   ]
  },
  {
   "cell_type": "code",
   "execution_count": null,
   "id": "4cf2482b",
   "metadata": {},
   "outputs": [],
   "source": [
    "tvaas_dist = pd.read_csv(r'C:\\Users\\chris\\Documents\\nss-data-analytics\\projects\\Nashville-Education-Data\\data\\tvaas_district_composite.csv')"
   ]
  },
  {
   "cell_type": "code",
   "execution_count": null,
   "id": "f7bee9be",
   "metadata": {
    "scrolled": true
   },
   "outputs": [],
   "source": [
    "tvaas_dist"
   ]
  },
  {
   "cell_type": "code",
   "execution_count": null,
   "id": "6c93ec7c",
   "metadata": {},
   "outputs": [],
   "source": [
    "multi_var_dist = tvaas_dist.merge(act_dist_sal, left_on='District Number', right_on='district_number', how='left')"
   ]
  },
  {
   "cell_type": "code",
   "execution_count": null,
   "id": "ba822fc8",
   "metadata": {
    "scrolled": true
   },
   "outputs": [],
   "source": [
    "multi_var_dist = multi_var_dist.drop(columns={'district_number', 'district_name'})\n",
    "multi_var_dist"
   ]
  },
  {
   "cell_type": "code",
   "execution_count": null,
   "id": "e62f188d",
   "metadata": {},
   "outputs": [],
   "source": [
    "tv = multi_var_dist['Overall Composite']\n",
    "at = multi_var_dist['average_composite_score']\n",
    "\n",
    "correl2 = tv.corr(at)\n",
    "\n",
    "print(correl2)"
   ]
  },
  {
   "cell_type": "code",
   "execution_count": null,
   "id": "5012ecfd",
   "metadata": {},
   "outputs": [],
   "source": [
    "multi_var_dist.to_csv(r'C:\\Users\\chris\\Documents\\nss-data-analytics\\projects\\Nashville-Education-Data\\data\\district_variables.csv')"
   ]
  }
 ],
 "metadata": {
  "kernelspec": {
   "display_name": "Python 3 (ipykernel)",
   "language": "python",
   "name": "python3"
  },
  "language_info": {
   "codemirror_mode": {
    "name": "ipython",
    "version": 3
   },
   "file_extension": ".py",
   "mimetype": "text/x-python",
   "name": "python",
   "nbconvert_exporter": "python",
   "pygments_lexer": "ipython3",
   "version": "3.8.5"
  }
 },
 "nbformat": 4,
 "nbformat_minor": 5
}
