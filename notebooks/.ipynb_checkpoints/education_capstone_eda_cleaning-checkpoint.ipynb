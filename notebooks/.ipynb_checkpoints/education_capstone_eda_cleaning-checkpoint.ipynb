{
 "cells": [
  {
   "cell_type": "code",
   "execution_count": null,
   "id": "143f9321",
   "metadata": {},
   "outputs": [],
   "source": [
    "import pandas as pd\n",
    "import os\n",
    "import glob\n",
    "import numpy as np\n",
    "import geopandas as gpd  \n",
    "  \n",
    "# use glob to get all the csv files \n",
    "# in the folder\n",
    "path = r'C:\\Users\\chris\\Documents\\nss-data-analytics\\projects\\Nashville-Education-Data\\data\\ReportCardData'\n",
    "extension = 'csv'\n",
    "os.chdir(path)\n",
    "result = glob.glob('*.{}'.format(extension))\n",
    "print(result)"
   ]
  },
  {
   "cell_type": "code",
   "execution_count": null,
   "id": "d54d67d6",
   "metadata": {},
   "outputs": [],
   "source": [
    "#pd.set_option('display.max_rows', None)"
   ]
  },
  {
   "cell_type": "code",
   "execution_count": null,
   "id": "9dfb1fa5",
   "metadata": {},
   "outputs": [],
   "source": [
    "for f in result:\n",
    "      \n",
    "    # read the csv file\n",
    "    df = pd.read_csv(f)\n",
    "      \n",
    "    # print the location and filename\n",
    "    print('Location:', f)\n",
    "    print('File Name:', f.split(\"\\\\\")[-1])\n",
    "      \n",
    "    # print the content\n",
    "    print('Content:')\n",
    "    display(df)\n",
    "    print()"
   ]
  },
  {
   "cell_type": "code",
   "execution_count": null,
   "id": "5612e2fe",
   "metadata": {},
   "outputs": [],
   "source": [
    "dataframes =[]\n",
    "\n",
    "for f in result:\n",
    "      \n",
    "    # read the csv file\n",
    "    df = pd.read_csv(f)\n",
    "    dataframes.append(df)\n",
    "    \n",
    "print(dataframes)"
   ]
  },
  {
   "cell_type": "code",
   "execution_count": null,
   "id": "293fd9f6",
   "metadata": {},
   "outputs": [],
   "source": [
    "dataframes[0]"
   ]
  },
  {
   "cell_type": "code",
   "execution_count": null,
   "id": "c4c2f91c",
   "metadata": {},
   "outputs": [],
   "source": [
    "act_district = dataframes[0].replace('*', np.nan)\n",
    "act_district"
   ]
  },
  {
   "cell_type": "code",
   "execution_count": null,
   "id": "0f900e04",
   "metadata": {},
   "outputs": [],
   "source": [
    "cols = act_district.columns.drop({'district_name', 'subgroup'})\n",
    "\n",
    "act_district[cols] = act_district[cols].apply(pd.to_numeric, errors='coerce')"
   ]
  },
  {
   "cell_type": "code",
   "execution_count": null,
   "id": "39a51136",
   "metadata": {},
   "outputs": [],
   "source": [
    "act_district.info()"
   ]
  },
  {
   "cell_type": "code",
   "execution_count": null,
   "id": "f3c64154",
   "metadata": {},
   "outputs": [],
   "source": [
    "districts = gpd.read_file(r'C:\\Users\\chris\\Documents\\nss-data-analytics\\projects\\Nashville-Education-Data\\data\\EDGE_SCHOOLDISTRICT_TL20_SY1920\\EDGE_SCHOOLDISTRICT_TL20_SY1920.shp')"
   ]
  },
  {
   "cell_type": "code",
   "execution_count": null,
   "id": "0c93900e",
   "metadata": {},
   "outputs": [],
   "source": [
    "districts.plot()"
   ]
  },
  {
   "cell_type": "code",
   "execution_count": null,
   "id": "aeb7e39f",
   "metadata": {},
   "outputs": [],
   "source": [
    "districts"
   ]
  },
  {
   "cell_type": "code",
   "execution_count": null,
   "id": "a4a0aef0",
   "metadata": {},
   "outputs": [],
   "source": [
    "tn_districts = districts.loc[districts['STATEFP'] == '47']\n",
    "#took some googling to find"
   ]
  },
  {
   "cell_type": "code",
   "execution_count": null,
   "id": "b8cd6b26",
   "metadata": {},
   "outputs": [],
   "source": [
    "tn_districts.plot()"
   ]
  },
  {
   "cell_type": "code",
   "execution_count": null,
   "id": "fa5b3304",
   "metadata": {},
   "outputs": [],
   "source": [
    "tn_districts['NAME'].sort_values().reset_index()"
   ]
  },
  {
   "cell_type": "code",
   "execution_count": null,
   "id": "bfd4e724",
   "metadata": {},
   "outputs": [],
   "source": [
    "tn_districts[tn_districts['NAME'].str.contains('in')]"
   ]
  },
  {
   "cell_type": "markdown",
   "id": "f8a531ae",
   "metadata": {},
   "source": [
    "Cool. Now, how do I merge this with the other documents?"
   ]
  },
  {
   "cell_type": "code",
   "execution_count": null,
   "id": "d454d645",
   "metadata": {},
   "outputs": [],
   "source": [
    "collist = ['District', 'Year', 'Licensed Educators', 'Instructional Personnel', 'Classroom Teacher', 'Principal', 'Superintendent']\n",
    "\n",
    "salaries_2020 = pd.read_csv(r'C:\\Users\\chris\\Documents\\nss-data-analytics\\projects\\Nashville-Education-Data\\data\\avg_salaries_2020.csv', nrows=142, usecols=collist)"
   ]
  },
  {
   "cell_type": "code",
   "execution_count": null,
   "id": "08fec454",
   "metadata": {},
   "outputs": [],
   "source": [
    "collist = ['District', 'Year', 'Licensed Educators', 'Instructional Personnel', 'Classroom Teacher', 'Principal', 'Superintendent']\n",
    "\n",
    "salaries_2019 = pd.read_csv(r'C:\\Users\\chris\\Documents\\nss-data-analytics\\projects\\Nashville-Education-Data\\data\\avg_salaries_2019.csv', nrows=142, usecols=collist)"
   ]
  },
  {
   "cell_type": "code",
   "execution_count": null,
   "id": "c14a05b9",
   "metadata": {},
   "outputs": [],
   "source": [
    "collist = ['District', 'Year', 'Licensed Educators', 'Instructional Personnel', 'Classroom Teacher', 'Principal', 'Superintendent']\n",
    "\n",
    "salaries_2018 = pd.read_csv(r'C:\\Users\\chris\\Documents\\nss-data-analytics\\projects\\Nashville-Education-Data\\data\\avg_salaries_2018.csv', nrows=142, usecols=collist)"
   ]
  },
  {
   "cell_type": "code",
   "execution_count": null,
   "id": "13af7200",
   "metadata": {},
   "outputs": [],
   "source": [
    "s = salaries_2020.append(salaries_2019, ignore_index=True)\n",
    "salaries_all = s.append(salaries_2018, ignore_index=True)"
   ]
  },
  {
   "cell_type": "code",
   "execution_count": null,
   "id": "c56f50c4",
   "metadata": {},
   "outputs": [],
   "source": [
    "cols = salaries_all.columns.drop({'District'})\n",
    "\n",
    "salaries_all[cols] = salaries_all[cols].apply(pd.to_numeric, errors='coerce')"
   ]
  },
  {
   "cell_type": "code",
   "execution_count": null,
   "id": "940e5640",
   "metadata": {},
   "outputs": [],
   "source": [
    "salaries_all['District'] = salaries_all['District'].astype(str)"
   ]
  },
  {
   "cell_type": "code",
   "execution_count": null,
   "id": "f95b7b71",
   "metadata": {},
   "outputs": [],
   "source": [
    "salaries_all"
   ]
  },
  {
   "cell_type": "code",
   "execution_count": null,
   "id": "70e5440a",
   "metadata": {},
   "outputs": [],
   "source": [
    "salaries_all['District'] = salaries_all['District'] + ' School District'"
   ]
  },
  {
   "cell_type": "code",
   "execution_count": null,
   "id": "345169ac",
   "metadata": {},
   "outputs": [],
   "source": [
    "salaries_all"
   ]
  },
  {
   "cell_type": "code",
   "execution_count": null,
   "id": "6895fe4c",
   "metadata": {},
   "outputs": [],
   "source": [
    "rep = {'Alamo School District': 'Alamo City School District', \n",
    "       'Alcoa School District': 'Alcoa City School District', \n",
    "       'Arlington School District': 'Arlington Community School District',\n",
    "      'Athens School District': 'Athens City Schools',\n",
    "      'Bartlett School District': 'Bartlett City School District',\n",
    "      'Bells School District': 'Bells City School District',\n",
    "      'Bradford School District': 'Bradford Special School District',\n",
    "      'Bristol School District': 'Bristol City School District',\n",
    "      'Cleveland School District': 'Cleveland City School District',\n",
    "      'Clinton School District': 'Clinton City School District',\n",
    "      'Dayton School District': 'Dayton City Elementary School District',\n",
    "      'Dyersburg School District': 'Dyersburg City School District',\n",
    "      'Elizabethton School District': 'Elizabethton City School District',\n",
    "      'Etowah School District': 'Etowah City School District',\n",
    "      'Fayetteville School District': 'Fayetteville City School District',\n",
    "      'Franklin School District': 'Franklin Special School District',\n",
    "      'Germantown School District': 'Germantown Municipal School District',\n",
    "      'Greeneville School District': 'Greeneville City School District',\n",
    "      'Hollow Rock - Bruceton School District': 'Hollow Rock-Bruceton Special School District',\n",
    "      'Humboldt School District': 'Humboldt City School District',\n",
    "      'Huntingdon School District': 'Huntingdon Special School District',\n",
    "      'Kingsport School District': 'Kingsport City School District',\n",
    "      'Lakeland School District': 'Lakeland School System District',\n",
    "      'Lebanon School District': 'Lebanon Special School District',\n",
    "      'Lexington School District': 'Lexington City School District',\n",
    "      'Manchester School District': 'Manchester City School District',\n",
    "      'Maryville School District': 'Maryville City School District',\n",
    "      'Mckenzie School District': 'McKenzie Special School District',\n",
    "      'Milan School District': 'Milan Special School District',\n",
    "      'Millington School District': 'Millington Municipal School District',\n",
    "      'Murfreesboro School District': 'Murfreesboro City School District',\n",
    "      'Newport School District': 'Newport City School District',\n",
    "      'Oak Ridge School District': 'Oak Ridge City School District',\n",
    "      'Oneida School District': 'Oneida Special School District',\n",
    "      'Paris School District': 'Paris Special School District',\n",
    "      'Richard City School District': 'Richard City Special School District',\n",
    "      'Rogersville School District': 'Rogersville City Schools',\n",
    "      'South Carroll School District': 'South Carroll Special School District',\n",
    "      'Sweetwater School District': 'Sweetwater City School District',\n",
    "      'Trenton School District': 'Trenton Special School District',\n",
    "      'Tullahoma School District': 'Tullahoma City School District',\n",
    "      'West Carroll Sp Dist School District': 'West Carroll Special District',\n",
    "      'Countycke County School District': 'Cocke County School District',\n",
    "      'Countyffee County School District': 'Coffee County School District',\n",
    "      'Countyllierville School District': 'Collierville School District',\n",
    "      'Mcminn County School District': 'McMinn County School District',\n",
    "      'Mcnairy County School District': 'McNairy County School District',\n",
    "      'Fayette County Public Schools School District': 'Fayette County School District',\n",
    "      'Madison County School District': 'Jackson-Madison County School System',\n",
    "      'Montgomery County School District': 'Clarksville-Montgomery County School System',\n",
    "      'Hardeman County Schools School District': 'Hardeman County School District',\n",
    "      'Gibson County. Spec. School District': 'Gibson County School District',\n",
    "      'Davidson County School District':'Metropolitan Nashville Public School District',\n",
    "      'Dekalb County School District': 'DeKalb County School District'}\n",
    "\n",
    "salaries_all = salaries_all.replace(rep)"
   ]
  },
  {
   "cell_type": "code",
   "execution_count": null,
   "id": "ee538535",
   "metadata": {},
   "outputs": [],
   "source": [
    "salaries_all = salaries_all[salaries_all.District != 'State Average School District']"
   ]
  },
  {
   "cell_type": "code",
   "execution_count": null,
   "id": "017956a4",
   "metadata": {},
   "outputs": [],
   "source": [
    "salaries_all.loc[salaries_all.District.isin(['Anderson County School District', 'Arlington Community School District', 'Cocke County School District', 'Coffee County School District', 'Crockett County School District', 'Hawkins County School District', 'Henderson County School District', 'Henry County School District', 'McMinn County School District', 'Monroe County School District', 'Rhea County School District', 'Rutherford County School District', 'Williamson County School District', 'Wilson County School District'])]"
   ]
  },
  {
   "cell_type": "code",
   "execution_count": null,
   "id": "75fb48b0",
   "metadata": {},
   "outputs": [],
   "source": [
    "collist = ['District', 'Year', 'Licensed Educators', 'Instructional Personnel', 'Classroom Teacher', 'Principal', 'Superintendent']\n",
    "\n",
    "add_sal_rows = pd.read_csv(r'C:\\Users\\chris\\Documents\\nss-data-analytics\\projects\\Nashville-Education-Data\\data\\salaries_special.csv', usecols=collist)"
   ]
  },
  {
   "cell_type": "code",
   "execution_count": null,
   "id": "4fb99f0b",
   "metadata": {},
   "outputs": [],
   "source": [
    "salaries_all = salaries_all.append(add_sal_rows, ignore_index=True)"
   ]
  },
  {
   "cell_type": "code",
   "execution_count": null,
   "id": "ef8aa2e5",
   "metadata": {},
   "outputs": [],
   "source": [
    "salaries_all"
   ]
  },
  {
   "cell_type": "code",
   "execution_count": null,
   "id": "a314fa5e",
   "metadata": {},
   "outputs": [],
   "source": [
    "salaries_all.to_csv(r'C:\\Users\\chris\\Documents\\nss-data-analytics\\projects\\Nashville-Education-Data\\data\\all_salary_years.csv')"
   ]
  },
  {
   "cell_type": "code",
   "execution_count": null,
   "id": "d6b0c803",
   "metadata": {},
   "outputs": [],
   "source": [
    "act_district_gen_2020 = act_district.loc[act_district['subgroup'] == 'All Students']"
   ]
  },
  {
   "cell_type": "code",
   "execution_count": null,
   "id": "cf7d003e",
   "metadata": {
    "scrolled": true
   },
   "outputs": [],
   "source": [
    "act_district_gen_2020"
   ]
  },
  {
   "cell_type": "code",
   "execution_count": null,
   "id": "a635aeb4",
   "metadata": {},
   "outputs": [],
   "source": [
    "grad_rate_2020 = dataframes[11].replace('*', np.nan)"
   ]
  },
  {
   "cell_type": "code",
   "execution_count": null,
   "id": "9d3c0035",
   "metadata": {},
   "outputs": [],
   "source": [
    "grad_rate_2020 = grad_rate_2020.loc[grad_rate_2020['subgroup'] == 'All Students']"
   ]
  },
  {
   "cell_type": "code",
   "execution_count": null,
   "id": "51d0ec9b",
   "metadata": {},
   "outputs": [],
   "source": [
    "grad_rate_2020"
   ]
  },
  {
   "cell_type": "code",
   "execution_count": null,
   "id": "9e41936e",
   "metadata": {},
   "outputs": [],
   "source": [
    "dist_perf_2020 = act_district_gen_2020.merge(grad_rate_2020, how='left', on='district_number')"
   ]
  },
  {
   "cell_type": "code",
   "execution_count": null,
   "id": "b42a02c6",
   "metadata": {},
   "outputs": [],
   "source": [
    "#i need to get the proper names of the districts\n",
    "\n",
    "dist_perf_2020 = tvaas_2019.merge(dist_perf_2020, how='left', left_on='District Number', right_on='district_number').drop(columns={'Overall Composite', 'Literacy Composite', 'Numeracy Composite', 'Literacy and Numeracy Composite', 'Social Studies Composite', 'district_name_x', 'district_name_y'})"
   ]
  },
  {
   "cell_type": "markdown",
   "id": "b2f80f53",
   "metadata": {},
   "source": [
    "## Now, for 2019"
   ]
  },
  {
   "cell_type": "code",
   "execution_count": null,
   "id": "16383a40",
   "metadata": {},
   "outputs": [],
   "source": [
    "act_2019 = pd.read_csv(r\"C:\\Users\\chris\\Documents\\nss-data-analytics\\projects\\Nashville-Education-Data\\data\\ACT.csv\")"
   ]
  },
  {
   "cell_type": "code",
   "execution_count": null,
   "id": "e2dbc0a3",
   "metadata": {},
   "outputs": [],
   "source": [
    "act_2019_all = act_2019.loc[act_2019['school_name'] == 'All Schools']"
   ]
  },
  {
   "cell_type": "code",
   "execution_count": null,
   "id": "27d8ddb5",
   "metadata": {},
   "outputs": [],
   "source": [
    "act_2019_all"
   ]
  },
  {
   "cell_type": "code",
   "execution_count": null,
   "id": "526b852a",
   "metadata": {},
   "outputs": [],
   "source": [
    "act_2019_gen = act_2019_all.loc[act_2019_all['subgroup'] == 'all_students']"
   ]
  },
  {
   "cell_type": "code",
   "execution_count": null,
   "id": "686a2865",
   "metadata": {
    "scrolled": true
   },
   "outputs": [],
   "source": [
    "act_2019_gen"
   ]
  },
  {
   "cell_type": "code",
   "execution_count": null,
   "id": "f756587f",
   "metadata": {},
   "outputs": [],
   "source": [
    "grad_rate_2019 = pd.read_csv(r\"C:\\Users\\chris\\Documents\\nss-data-analytics\\projects\\Nashville-Education-Data\\data\\grad_rate.csv\")"
   ]
  },
  {
   "cell_type": "code",
   "execution_count": null,
   "id": "4df6940a",
   "metadata": {},
   "outputs": [],
   "source": [
    "grad_rate_2019_all = grad_rate_2019.loc[grad_rate_2019['school_name'] == 'All Schools']"
   ]
  },
  {
   "cell_type": "code",
   "execution_count": null,
   "id": "f604854b",
   "metadata": {},
   "outputs": [],
   "source": [
    "grad_rate_2019_gen = grad_rate_2019_all.loc[grad_rate_2019_all['subgroup'] == 'all_students']"
   ]
  },
  {
   "cell_type": "code",
   "execution_count": null,
   "id": "44cf64ea",
   "metadata": {},
   "outputs": [],
   "source": [
    "dist_perf_2019 = act_2019_gen.merge(grad_rate_2019_gen, how='left', on='district_number')"
   ]
  },
  {
   "cell_type": "code",
   "execution_count": null,
   "id": "bb6cd49d",
   "metadata": {
    "scrolled": true
   },
   "outputs": [],
   "source": [
    "dist_perf_2019"
   ]
  },
  {
   "cell_type": "code",
   "execution_count": null,
   "id": "9bbadfee",
   "metadata": {},
   "outputs": [],
   "source": [
    "tvaas_2019 = pd.read_csv(r'C:\\Users\\chris\\Documents\\nss-data-analytics\\projects\\Nashville-Education-Data\\data\\tvaas_district_composite.csv')"
   ]
  },
  {
   "cell_type": "code",
   "execution_count": null,
   "id": "079f9e00",
   "metadata": {},
   "outputs": [],
   "source": [
    "dist_perf_2019 = tvaas_2019.merge(dist_perf_2019, how='left', left_on='District Number', right_on='district_number')"
   ]
  },
  {
   "cell_type": "code",
   "execution_count": null,
   "id": "1d604702",
   "metadata": {
    "scrolled": true
   },
   "outputs": [],
   "source": [
    "dist_perf_2019"
   ]
  },
  {
   "cell_type": "markdown",
   "id": "f19234d7",
   "metadata": {},
   "source": [
    "## Now for 2018"
   ]
  },
  {
   "cell_type": "code",
   "execution_count": null,
   "id": "52cc9ecf",
   "metadata": {},
   "outputs": [],
   "source": [
    "act_2018 = pd.read_csv(r\"C:\\Users\\chris\\Documents\\nss-data-analytics\\projects\\Nashville-Education-Data\\data\\ACT_2018.csv\")"
   ]
  },
  {
   "cell_type": "code",
   "execution_count": null,
   "id": "c6fb518f",
   "metadata": {},
   "outputs": [],
   "source": [
    "grad_rate_2018 = pd.read_csv(r\"C:\\Users\\chris\\Documents\\nss-data-analytics\\projects\\Nashville-Education-Data\\data\\grad_rate_2018.csv\")"
   ]
  },
  {
   "cell_type": "code",
   "execution_count": null,
   "id": "4237ee1d",
   "metadata": {},
   "outputs": [],
   "source": [
    "tvaas_2018 = pd.read_csv(r\"C:\\Users\\chris\\Documents\\nss-data-analytics\\projects\\Nashville-Education-Data\\data\\data_2018_TVAAS_District_Composite.csv\")"
   ]
  },
  {
   "cell_type": "code",
   "execution_count": null,
   "id": "af9546c3",
   "metadata": {
    "scrolled": true
   },
   "outputs": [],
   "source": [
    "act_2018['school_name'].fillna('All Students', inplace=True)"
   ]
  },
  {
   "cell_type": "code",
   "execution_count": null,
   "id": "b3c4c50f",
   "metadata": {},
   "outputs": [],
   "source": [
    "act_2018_all = act_2018.loc[act_2018['school_name'] == 'All Students']"
   ]
  },
  {
   "cell_type": "code",
   "execution_count": null,
   "id": "8ea7c7c3",
   "metadata": {},
   "outputs": [],
   "source": [
    "act_2018_gen = act_2018_all.loc[act_2018_all['subgroup'] == 'All Students']"
   ]
  },
  {
   "cell_type": "code",
   "execution_count": null,
   "id": "a5ae3e6f",
   "metadata": {},
   "outputs": [],
   "source": [
    "act_2018_gen"
   ]
  },
  {
   "cell_type": "code",
   "execution_count": null,
   "id": "50937c47",
   "metadata": {},
   "outputs": [],
   "source": [
    "grad_rate_2018['school_name'].fillna('All Students', inplace=True)"
   ]
  },
  {
   "cell_type": "code",
   "execution_count": null,
   "id": "67ff643d",
   "metadata": {},
   "outputs": [],
   "source": [
    "grad_rate_2018_all = grad_rate_2018.loc[grad_rate_2018['school_name'] == 'All Students']"
   ]
  },
  {
   "cell_type": "code",
   "execution_count": null,
   "id": "76cb1692",
   "metadata": {},
   "outputs": [],
   "source": [
    "grad_rate_2018_gen = grad_rate_2018_all.loc[grad_rate_2018_all['subgroup'] == 'All Students']"
   ]
  },
  {
   "cell_type": "code",
   "execution_count": null,
   "id": "e292fe36",
   "metadata": {},
   "outputs": [],
   "source": [
    "dist_perf_2018 = act_2018_gen.merge(grad_rate_2018_gen, how='left', on='district_number')"
   ]
  },
  {
   "cell_type": "code",
   "execution_count": null,
   "id": "b95e6340",
   "metadata": {},
   "outputs": [],
   "source": [
    "dist_perf_2018 = tvaas_2018.merge(dist_perf_2018, how='left', left_on='District Number', right_on='district_number')"
   ]
  },
  {
   "cell_type": "markdown",
   "id": "7478971e",
   "metadata": {},
   "source": [
    "## Now, to do some combining"
   ]
  },
  {
   "cell_type": "code",
   "execution_count": null,
   "id": "25113d16",
   "metadata": {
    "scrolled": true
   },
   "outputs": [],
   "source": [
    "dist_perf_2018.drop(columns={'year_x', 'year_y'})"
   ]
  },
  {
   "cell_type": "code",
   "execution_count": null,
   "id": "76779bd5",
   "metadata": {},
   "outputs": [],
   "source": [
    "dist_perf_2018['Year'] = 2018"
   ]
  },
  {
   "cell_type": "code",
   "execution_count": null,
   "id": "c6b3a380",
   "metadata": {
    "scrolled": true
   },
   "outputs": [],
   "source": [
    "dist_perf_2018"
   ]
  },
  {
   "cell_type": "code",
   "execution_count": null,
   "id": "6ec7a0cf",
   "metadata": {
    "scrolled": true
   },
   "outputs": [],
   "source": [
    "dist_perf_2019.drop(columns={'year_x', 'year_y'})"
   ]
  },
  {
   "cell_type": "code",
   "execution_count": null,
   "id": "df07dfce",
   "metadata": {},
   "outputs": [],
   "source": [
    "dist_perf_2019['Year'] = 2019"
   ]
  },
  {
   "cell_type": "code",
   "execution_count": null,
   "id": "68efcddf",
   "metadata": {},
   "outputs": [],
   "source": [
    "perf_18_19 = dist_perf_2019.append(dist_perf_2018)"
   ]
  },
  {
   "cell_type": "code",
   "execution_count": null,
   "id": "5c6b6a75",
   "metadata": {
    "scrolled": true
   },
   "outputs": [],
   "source": [
    "perf_18_19 = perf_18_19.drop(columns={'year_y', 'subgroup_y'})"
   ]
  },
  {
   "cell_type": "code",
   "execution_count": null,
   "id": "38cfef57",
   "metadata": {},
   "outputs": [],
   "source": [
    "perf_18_19 = perf_18_19.drop(columns={'percent_21_orhigher', 'avg_composite_baseline_year', 'avg_composite_previous', 'percent_21_orhigher_baseline_year', 'percent_21_orhigher_previous'})"
   ]
  },
  {
   "cell_type": "code",
   "execution_count": null,
   "id": "8d25009a",
   "metadata": {},
   "outputs": [],
   "source": [
    "perf_18_19 = perf_18_19.drop(columns={'percent_met_crb_english', 'percent_met_crb_math', 'percent_met_crb_reading', 'percent_met_crb_science', 'percent_met_all4_crb'})"
   ]
  },
  {
   "cell_type": "code",
   "execution_count": null,
   "id": "32da7a4c",
   "metadata": {
    "scrolled": true
   },
   "outputs": [],
   "source": [
    "perf_18_19.info()"
   ]
  },
  {
   "cell_type": "code",
   "execution_count": null,
   "id": "b744f8c9",
   "metadata": {},
   "outputs": [],
   "source": [
    "dist_perf_2020 = dist_perf_2020.drop(columns={'subgroup_x', 'subgroup_y', 'district_number', 'graduation cohort', 'graduation count', 'valid_tests'})"
   ]
  },
  {
   "cell_type": "code",
   "execution_count": null,
   "id": "d404f206",
   "metadata": {},
   "outputs": [],
   "source": [
    "dist_perf_2020 = dist_perf_2020.drop(columns={'number_scoring_21_or_higher', 'percent_scoring_21_or_higher', 'number_scoring_below_19', 'percent_scoring_below_19'})"
   ]
  },
  {
   "cell_type": "code",
   "execution_count": null,
   "id": "be38e48d",
   "metadata": {
    "scrolled": true
   },
   "outputs": [],
   "source": [
    "dist_perf_2020.info()"
   ]
  },
  {
   "cell_type": "code",
   "execution_count": null,
   "id": "e4ba3239",
   "metadata": {},
   "outputs": [],
   "source": [
    "dist_perf_2020 = dist_perf_2020.rename(columns={'average_english_score':'english_avg', 'average_math_score':'math_avg', 'average_reading_score':'reading_avg', 'average_science_score':'science_avg', 'average_composite_score':'act_composite_avg', 'year': 'Year', 'graduation rate':'grad_rate'})"
   ]
  },
  {
   "cell_type": "code",
   "execution_count": null,
   "id": "5291626e",
   "metadata": {},
   "outputs": [],
   "source": [
    "perf_18_19.to_csv(r'C:\\Users\\chris\\Documents\\nss-data-analytics\\projects\\Nashville-Education-Data\\data\\perf_18_19.csv')"
   ]
  },
  {
   "cell_type": "code",
   "execution_count": null,
   "id": "446d5468",
   "metadata": {},
   "outputs": [],
   "source": [
    "dist_perf_2020.to_csv(r'C:\\Users\\chris\\Documents\\nss-data-analytics\\projects\\Nashville-Education-Data\\data\\perf_2020.csv')"
   ]
  }
 ],
 "metadata": {
  "kernelspec": {
   "display_name": "Python 3 (ipykernel)",
   "language": "python",
   "name": "python3"
  },
  "language_info": {
   "codemirror_mode": {
    "name": "ipython",
    "version": 3
   },
   "file_extension": ".py",
   "mimetype": "text/x-python",
   "name": "python",
   "nbconvert_exporter": "python",
   "pygments_lexer": "ipython3",
   "version": "3.8.5"
  }
 },
 "nbformat": 4,
 "nbformat_minor": 5
}
