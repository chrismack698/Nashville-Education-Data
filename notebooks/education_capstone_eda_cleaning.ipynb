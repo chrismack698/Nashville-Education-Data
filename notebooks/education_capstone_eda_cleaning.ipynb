{
 "cells": [
  {
   "cell_type": "code",
   "execution_count": null,
   "id": "143f9321",
   "metadata": {},
   "outputs": [],
   "source": [
    "import pandas as pd\n",
    "import os\n",
    "import glob\n",
    "import numpy as np\n",
    "import geopandas as gpd  \n",
    "  \n",
    "# use glob to get all the csv files \n",
    "# in the folder\n",
    "path = r'C:\\Users\\chris\\Documents\\nss-data-analytics\\projects\\Nashville-Education-Data\\data\\ReportCardData'\n",
    "extension = 'csv'\n",
    "os.chdir(path)\n",
    "result = glob.glob('*.{}'.format(extension))\n",
    "print(result)"
   ]
  },
  {
   "cell_type": "code",
   "execution_count": null,
   "id": "d54d67d6",
   "metadata": {},
   "outputs": [],
   "source": [
    "#pd.set_option('display.max_rows', None)"
   ]
  },
  {
   "cell_type": "code",
   "execution_count": null,
   "id": "9dfb1fa5",
   "metadata": {},
   "outputs": [],
   "source": [
    "for f in result:\n",
    "      \n",
    "    # read the csv file\n",
    "    df = pd.read_csv(f)\n",
    "      \n",
    "    # print the location and filename\n",
    "    print('Location:', f)\n",
    "    print('File Name:', f.split(\"\\\\\")[-1])\n",
    "      \n",
    "    # print the content\n",
    "    print('Content:')\n",
    "    display(df)\n",
    "    print()"
   ]
  },
  {
   "cell_type": "code",
   "execution_count": null,
   "id": "5612e2fe",
   "metadata": {},
   "outputs": [],
   "source": [
    "dataframes =[]\n",
    "\n",
    "for f in result:\n",
    "      \n",
    "    # read the csv file\n",
    "    df = pd.read_csv(f)\n",
    "    dataframes.append(df)\n",
    "    \n",
    "print(dataframes)"
   ]
  },
  {
   "cell_type": "code",
   "execution_count": null,
   "id": "293fd9f6",
   "metadata": {},
   "outputs": [],
   "source": [
    "dataframes[0]"
   ]
  },
  {
   "cell_type": "code",
   "execution_count": null,
   "id": "c4c2f91c",
   "metadata": {},
   "outputs": [],
   "source": [
    "act_district = dataframes[0].replace('*', np.nan)\n",
    "act_district"
   ]
  },
  {
   "cell_type": "code",
   "execution_count": null,
   "id": "0f900e04",
   "metadata": {},
   "outputs": [],
   "source": [
    "cols = act_district.columns.drop({'district_name', 'subgroup'})\n",
    "\n",
    "act_district[cols] = act_district[cols].apply(pd.to_numeric, errors='coerce')"
   ]
  },
  {
   "cell_type": "code",
   "execution_count": null,
   "id": "39a51136",
   "metadata": {},
   "outputs": [],
   "source": [
    "act_district.info()"
   ]
  },
  {
   "cell_type": "code",
   "execution_count": null,
   "id": "f3c64154",
   "metadata": {},
   "outputs": [],
   "source": [
    "districts = gpd.read_file(r'C:\\Users\\chris\\Documents\\nss-data-analytics\\projects\\Nashville-Education-Data\\data\\EDGE_SCHOOLDISTRICT_TL20_SY1920\\EDGE_SCHOOLDISTRICT_TL20_SY1920.shp')"
   ]
  },
  {
   "cell_type": "code",
   "execution_count": null,
   "id": "0c93900e",
   "metadata": {},
   "outputs": [],
   "source": [
    "districts.plot()"
   ]
  },
  {
   "cell_type": "code",
   "execution_count": null,
   "id": "aeb7e39f",
   "metadata": {},
   "outputs": [],
   "source": [
    "districts"
   ]
  },
  {
   "cell_type": "code",
   "execution_count": null,
   "id": "a4a0aef0",
   "metadata": {},
   "outputs": [],
   "source": [
    "tn_districts = districts.loc[districts['STATEFP'] == '47']\n",
    "#took some googling to find"
   ]
  },
  {
   "cell_type": "code",
   "execution_count": null,
   "id": "b8cd6b26",
   "metadata": {},
   "outputs": [],
   "source": [
    "tn_districts.plot()"
   ]
  },
  {
   "cell_type": "code",
   "execution_count": null,
   "id": "fa5b3304",
   "metadata": {},
   "outputs": [],
   "source": [
    "tn_districts['NAME'].sort_values().reset_index()"
   ]
  },
  {
   "cell_type": "code",
   "execution_count": null,
   "id": "bfd4e724",
   "metadata": {},
   "outputs": [],
   "source": [
    "tn_districts[tn_districts['NAME'].str.contains('in')]"
   ]
  },
  {
   "cell_type": "markdown",
   "id": "f8a531ae",
   "metadata": {},
   "source": [
    "Cool. Now, how do I merge this with the other documents?"
   ]
  },
  {
   "cell_type": "code",
   "execution_count": null,
   "id": "d454d645",
   "metadata": {},
   "outputs": [],
   "source": [
    "collist = ['District', 'Year', 'Licensed Educators', 'Instructional Personnel', 'Classroom Teacher', 'Principal', 'Superintendent']\n",
    "\n",
    "salaries_2020 = pd.read_csv(r'C:\\Users\\chris\\Documents\\nss-data-analytics\\projects\\Nashville-Education-Data\\data\\avg_salaries_2020.csv', nrows=142, usecols=collist)"
   ]
  },
  {
   "cell_type": "code",
   "execution_count": null,
   "id": "08fec454",
   "metadata": {},
   "outputs": [],
   "source": [
    "collist = ['District', 'Year', 'Licensed Educators', 'Instructional Personnel', 'Classroom Teacher', 'Principal', 'Superintendent']\n",
    "\n",
    "salaries_2019 = pd.read_csv(r'C:\\Users\\chris\\Documents\\nss-data-analytics\\projects\\Nashville-Education-Data\\data\\avg_salaries_2019.csv', nrows=142, usecols=collist)"
   ]
  },
  {
   "cell_type": "code",
   "execution_count": null,
   "id": "c14a05b9",
   "metadata": {},
   "outputs": [],
   "source": [
    "collist = ['District', 'Year', 'Licensed Educators', 'Instructional Personnel', 'Classroom Teacher', 'Principal', 'Superintendent']\n",
    "\n",
    "salaries_2018 = pd.read_csv(r'C:\\Users\\chris\\Documents\\nss-data-analytics\\projects\\Nashville-Education-Data\\data\\avg_salaries_2018.csv', nrows=142, usecols=collist)"
   ]
  },
  {
   "cell_type": "code",
   "execution_count": null,
   "id": "13af7200",
   "metadata": {},
   "outputs": [],
   "source": [
    "s = salaries_2020.append(salaries_2019, ignore_index=True)\n",
    "salaries_all = s.append(salaries_2018, ignore_index=True)"
   ]
  },
  {
   "cell_type": "code",
   "execution_count": null,
   "id": "c56f50c4",
   "metadata": {},
   "outputs": [],
   "source": [
    "cols = salaries_all.columns.drop({'District'})\n",
    "\n",
    "salaries_all[cols] = salaries_all[cols].apply(pd.to_numeric, errors='coerce')"
   ]
  },
  {
   "cell_type": "code",
   "execution_count": null,
   "id": "940e5640",
   "metadata": {},
   "outputs": [],
   "source": [
    "salaries_all['District'] = salaries_all['District'].astype(str)"
   ]
  },
  {
   "cell_type": "code",
   "execution_count": null,
   "id": "f95b7b71",
   "metadata": {},
   "outputs": [],
   "source": [
    "salaries_all"
   ]
  },
  {
   "cell_type": "code",
   "execution_count": null,
   "id": "70e5440a",
   "metadata": {},
   "outputs": [],
   "source": [
    "salaries_all['District'] = salaries_all['District'] + ' School District'"
   ]
  },
  {
   "cell_type": "code",
   "execution_count": null,
   "id": "345169ac",
   "metadata": {},
   "outputs": [],
   "source": [
    "salaries_all"
   ]
  },
  {
   "cell_type": "code",
   "execution_count": null,
   "id": "6895fe4c",
   "metadata": {},
   "outputs": [],
   "source": [
    "rep = {'Alamo School District': 'Alamo City School District', \n",
    "       'Alcoa School District': 'Alcoa City School District', \n",
    "       'Arlington School District': 'Arlington Community School District',\n",
    "      'Athens School District': 'Athens City Schools',\n",
    "      'Bartlett School District': 'Bartlett City School District',\n",
    "      'Bells School District': 'Bells City School District',\n",
    "      'Bradford School District': 'Bradford Special School District',\n",
    "      'Bristol School District': 'Bristol City School District',\n",
    "      'Cleveland School District': 'Cleveland City School District',\n",
    "      'Clinton School District': 'Clinton City School District',\n",
    "      'Dayton School District': 'Dayton City Elementary School District',\n",
    "      'Dyersburg School District': 'Dyersburg City School District',\n",
    "      'Elizabethton School District': 'Elizabethton City School District',\n",
    "      'Etowah School District': 'Etowah City School District',\n",
    "      'Fayetteville School District': 'Fayetteville City School District',\n",
    "      'Franklin School District': 'Franklin Special School District',\n",
    "      'Germantown School District': 'Germantown Municipal School District',\n",
    "      'Greeneville School District': 'Greeneville City School District',\n",
    "      'Hollow Rock - Bruceton School District': 'Hollow Rock-Bruceton Special School District',\n",
    "      'Humboldt School District': 'Humboldt City School District',\n",
    "      'Huntingdon School District': 'Huntingdon Special School District',\n",
    "      'Kingsport School District': 'Kingsport City School District',\n",
    "      'Lakeland School District': 'Lakeland School System District',\n",
    "      'Lebanon School District': 'Lebanon Special School District',\n",
    "      'Lexington School District': 'Lexington City School District',\n",
    "      'Manchester School District': 'Manchester City School District',\n",
    "      'Maryville School District': 'Maryville City School District',\n",
    "      'Mckenzie School District': 'McKenzie Special School District',\n",
    "      'Milan School District': 'Milan Special School District',\n",
    "      'Millington School District': 'Millington Municipal School District',\n",
    "      'Murfreesboro School District': 'Murfreesboro City School District',\n",
    "      'Newport School District': 'Newport City School District',\n",
    "      'Oak Ridge School District': 'Oak Ridge City School District',\n",
    "      'Oneida School District': 'Oneida Special School District',\n",
    "      'Paris School District': 'Paris Special School District',\n",
    "      'Richard City School District': 'Richard City Special School District',\n",
    "      'Rogersville School District': 'Rogersville City Schools',\n",
    "      'South Carroll School District': 'South Carroll Special School District',\n",
    "      'Sweetwater School District': 'Sweetwater City School District',\n",
    "      'Trenton School District': 'Trenton Special School District',\n",
    "      'Tullahoma School District': 'Tullahoma City School District',\n",
    "      'West Carroll Sp Dist School District': 'West Carroll Special District',\n",
    "      'Countycke County School District': 'Cocke County School District',\n",
    "      'Countyffee County School District': 'Coffee County School District',\n",
    "      'Countyllierville School District': 'Collierville School District',\n",
    "      'Mcminn County School District': 'McMinn County School District',\n",
    "      'Mcnairy County School District': 'McNairy County School District',\n",
    "      'Fayette County Public Schools School District': 'Fayette County School District',\n",
    "      'Madison County School District': 'Jackson-Madison County School System',\n",
    "      'Montgomery County School District': 'Clarksville-Montgomery County School System',\n",
    "      'Hardeman County Schools School District': 'Hardeman County School District',\n",
    "      'Gibson County. Spec. School District': 'Gibson County School District',\n",
    "      'Davidson County School District':'Metropolitan Nashville Public School District',\n",
    "      'Dekalb County School District': 'DeKalb County School District'}\n",
    "\n",
    "salaries_all = salaries_all.replace(rep)"
   ]
  },
  {
   "cell_type": "code",
   "execution_count": null,
   "id": "ee538535",
   "metadata": {},
   "outputs": [],
   "source": [
    "salaries_all = salaries_all[salaries_all.District != 'State Average School District']"
   ]
  },
  {
   "cell_type": "code",
   "execution_count": null,
   "id": "017956a4",
   "metadata": {},
   "outputs": [],
   "source": [
    "salaries_all.loc[salaries_all.District.isin(['Anderson County School District', 'Arlington Community School District', 'Cocke County School District', 'Coffee County School District', 'Crockett County School District', 'Hawkins County School District', 'Henderson County School District', 'Henry County School District', 'McMinn County School District', 'Monroe County School District', 'Rhea County School District', 'Rutherford County School District', 'Williamson County School District', 'Wilson County School District'])]"
   ]
  },
  {
   "cell_type": "code",
   "execution_count": null,
   "id": "75fb48b0",
   "metadata": {},
   "outputs": [],
   "source": [
    "collist = ['District', 'Year', 'Licensed Educators', 'Instructional Personnel', 'Classroom Teacher', 'Principal', 'Superintendent']\n",
    "\n",
    "add_sal_rows = pd.read_csv(r'C:\\Users\\chris\\Documents\\nss-data-analytics\\projects\\Nashville-Education-Data\\data\\salaries_special.csv', usecols=collist)"
   ]
  },
  {
   "cell_type": "code",
   "execution_count": null,
   "id": "4fb99f0b",
   "metadata": {},
   "outputs": [],
   "source": [
    "salaries_all = salaries_all.append(add_sal_rows, ignore_index=True)"
   ]
  },
  {
   "cell_type": "code",
   "execution_count": null,
   "id": "ef8aa2e5",
   "metadata": {},
   "outputs": [],
   "source": [
    "salaries_all"
   ]
  },
  {
   "cell_type": "code",
   "execution_count": null,
   "id": "a314fa5e",
   "metadata": {},
   "outputs": [],
   "source": [
    "salaries_all.to_csv(r'C:\\Users\\chris\\Documents\\nss-data-analytics\\projects\\Nashville-Education-Data\\data\\all_salary_years.csv')"
   ]
  },
  {
   "cell_type": "code",
   "execution_count": null,
   "id": "d6b0c803",
   "metadata": {},
   "outputs": [],
   "source": [
    "#act_district_gen_2020 = act_district.loc[act_district['subgroup'] == 'All Students']"
   ]
  },
  {
   "cell_type": "code",
   "execution_count": null,
   "id": "a635aeb4",
   "metadata": {},
   "outputs": [],
   "source": [
    "grad_rate_2020 = dataframes[11].replace('*', np.nan)"
   ]
  },
  {
   "cell_type": "code",
   "execution_count": null,
   "id": "9d3c0035",
   "metadata": {},
   "outputs": [],
   "source": [
    "#grad_rate_2020 = grad_rate_2020.loc[grad_rate_2020['subgroup'] == 'All Students']"
   ]
  },
  {
   "cell_type": "markdown",
   "id": "e4613a7a",
   "metadata": {},
   "source": [
    "Note: I decided I wanted all subgroups rather than only the all students subgroup. Repurposing some cells."
   ]
  },
  {
   "cell_type": "code",
   "execution_count": null,
   "id": "51d0ec9b",
   "metadata": {},
   "outputs": [],
   "source": [
    "grad_rate_2020"
   ]
  },
  {
   "cell_type": "code",
   "execution_count": null,
   "id": "9e41936e",
   "metadata": {},
   "outputs": [],
   "source": [
    "dist_perf_2020 = act_district.merge(grad_rate_2020, how='left', on='district_number')"
   ]
  },
  {
   "cell_type": "code",
   "execution_count": null,
   "id": "6023e7de",
   "metadata": {},
   "outputs": [],
   "source": [
    "finance_2020 = pd.read_csv(r\"C:\\Users\\chris\\Documents\\nss-data-analytics\\projects\\Nashville-Education-Data\\data\\2019-20-finance_update.csv\")"
   ]
  },
  {
   "cell_type": "code",
   "execution_count": null,
   "id": "7c4d6e83",
   "metadata": {},
   "outputs": [],
   "source": [
    "finance_2020 = finance_2020.loc[finance_2020['School Name'] == 'District Average/Total']"
   ]
  },
  {
   "cell_type": "code",
   "execution_count": null,
   "id": "9cd3f362",
   "metadata": {},
   "outputs": [],
   "source": [
    "tvaas_2019 = pd.read_csv(r'C:\\Users\\chris\\Documents\\nss-data-analytics\\projects\\Nashville-Education-Data\\data\\tvaas_district_composite.csv')"
   ]
  },
  {
   "cell_type": "code",
   "execution_count": null,
   "id": "b42a02c6",
   "metadata": {},
   "outputs": [],
   "source": [
    "#i need to get the proper names of the districts\n",
    "\n",
    "dist_perf_2020 = tvaas_2019.merge(dist_perf_2020, how='left', left_on='District Number', right_on='district_number').drop(columns={'Overall Composite', 'Literacy Composite', 'Numeracy Composite', 'Literacy and Numeracy Composite', 'Social Studies Composite', 'district_name_x', 'district_name_y'})"
   ]
  },
  {
   "cell_type": "code",
   "execution_count": null,
   "id": "83f9296b",
   "metadata": {},
   "outputs": [],
   "source": [
    "dist_perf_2020"
   ]
  },
  {
   "cell_type": "markdown",
   "id": "b2f80f53",
   "metadata": {},
   "source": [
    "## Now, for 2019"
   ]
  },
  {
   "cell_type": "code",
   "execution_count": null,
   "id": "16383a40",
   "metadata": {},
   "outputs": [],
   "source": [
    "act_2019 = pd.read_csv(r\"C:\\Users\\chris\\Documents\\nss-data-analytics\\projects\\Nashville-Education-Data\\data\\ACT.csv\")"
   ]
  },
  {
   "cell_type": "code",
   "execution_count": null,
   "id": "e2dbc0a3",
   "metadata": {},
   "outputs": [],
   "source": [
    "act_2019_all = act_2019.loc[act_2019['school_name'] == 'All Schools']"
   ]
  },
  {
   "cell_type": "code",
   "execution_count": null,
   "id": "27d8ddb5",
   "metadata": {},
   "outputs": [],
   "source": [
    "act_2019_all"
   ]
  },
  {
   "cell_type": "code",
   "execution_count": null,
   "id": "526b852a",
   "metadata": {},
   "outputs": [],
   "source": [
    "#act_2019_gen = act_2019_all.loc[act_2019_all['subgroup'] == 'all_students']"
   ]
  },
  {
   "cell_type": "code",
   "execution_count": null,
   "id": "686a2865",
   "metadata": {
    "scrolled": true
   },
   "outputs": [],
   "source": [
    "#act_2019_gen"
   ]
  },
  {
   "cell_type": "code",
   "execution_count": null,
   "id": "f756587f",
   "metadata": {},
   "outputs": [],
   "source": [
    "grad_rate_2019 = pd.read_csv(r\"C:\\Users\\chris\\Documents\\nss-data-analytics\\projects\\Nashville-Education-Data\\data\\grad_rate.csv\")"
   ]
  },
  {
   "cell_type": "code",
   "execution_count": null,
   "id": "4df6940a",
   "metadata": {},
   "outputs": [],
   "source": [
    "grad_rate_2019_all = grad_rate_2019.loc[grad_rate_2019['school_name'] == 'All Schools']"
   ]
  },
  {
   "cell_type": "code",
   "execution_count": null,
   "id": "eaf471d7",
   "metadata": {},
   "outputs": [],
   "source": [
    "finance_2019 = pd.read_csv(r\"C:\\Users\\chris\\Documents\\nss-data-analytics\\projects\\Nashville-Education-Data\\data\\FinalReportCarddata2018201921.csv\", nrows=143)"
   ]
  },
  {
   "cell_type": "code",
   "execution_count": null,
   "id": "f604854b",
   "metadata": {},
   "outputs": [],
   "source": [
    "#grad_rate_2019_gen = grad_rate_2019_all.loc[grad_rate_2019_all['subgroup'] == 'all_students']"
   ]
  },
  {
   "cell_type": "code",
   "execution_count": null,
   "id": "44cf64ea",
   "metadata": {},
   "outputs": [],
   "source": [
    "dist_perf_2019 = act_2019_all.merge(grad_rate_2019_all, how='left', on='district_number')"
   ]
  },
  {
   "cell_type": "code",
   "execution_count": null,
   "id": "bb6cd49d",
   "metadata": {
    "scrolled": true
   },
   "outputs": [],
   "source": [
    "dist_perf_2019"
   ]
  },
  {
   "cell_type": "code",
   "execution_count": null,
   "id": "079f9e00",
   "metadata": {},
   "outputs": [],
   "source": [
    "dist_perf_2019 = tvaas_2019.merge(dist_perf_2019, how='left', left_on='District Number', right_on='district_number')"
   ]
  },
  {
   "cell_type": "code",
   "execution_count": null,
   "id": "1d604702",
   "metadata": {
    "scrolled": true
   },
   "outputs": [],
   "source": [
    "dist_perf_2019"
   ]
  },
  {
   "cell_type": "markdown",
   "id": "f19234d7",
   "metadata": {},
   "source": [
    "## Now for 2018"
   ]
  },
  {
   "cell_type": "code",
   "execution_count": null,
   "id": "52cc9ecf",
   "metadata": {},
   "outputs": [],
   "source": [
    "act_2018 = pd.read_csv(r\"C:\\Users\\chris\\Documents\\nss-data-analytics\\projects\\Nashville-Education-Data\\data\\ACT_2018.csv\")"
   ]
  },
  {
   "cell_type": "code",
   "execution_count": null,
   "id": "c6fb518f",
   "metadata": {},
   "outputs": [],
   "source": [
    "grad_rate_2018 = pd.read_csv(r\"C:\\Users\\chris\\Documents\\nss-data-analytics\\projects\\Nashville-Education-Data\\data\\grad_rate_2018.csv\")"
   ]
  },
  {
   "cell_type": "code",
   "execution_count": null,
   "id": "4237ee1d",
   "metadata": {},
   "outputs": [],
   "source": [
    "tvaas_2018 = pd.read_csv(r\"C:\\Users\\chris\\Documents\\nss-data-analytics\\projects\\Nashville-Education-Data\\data\\data_2018_TVAAS_District_Composite.csv\")"
   ]
  },
  {
   "cell_type": "code",
   "execution_count": null,
   "id": "af9546c3",
   "metadata": {
    "scrolled": true
   },
   "outputs": [],
   "source": [
    "act_2018['school_name'].fillna('All Students', inplace=True)"
   ]
  },
  {
   "cell_type": "code",
   "execution_count": null,
   "id": "b3c4c50f",
   "metadata": {},
   "outputs": [],
   "source": [
    "act_2018_all = act_2018.loc[act_2018['school_name'] == 'All Students']"
   ]
  },
  {
   "cell_type": "code",
   "execution_count": null,
   "id": "8ea7c7c3",
   "metadata": {},
   "outputs": [],
   "source": [
    "#act_2018_gen = act_2018_all.loc[act_2018_all['subgroup'] == 'All Students']"
   ]
  },
  {
   "cell_type": "code",
   "execution_count": null,
   "id": "50937c47",
   "metadata": {},
   "outputs": [],
   "source": [
    "grad_rate_2018['school_name'].fillna('All Students', inplace=True)"
   ]
  },
  {
   "cell_type": "code",
   "execution_count": null,
   "id": "67ff643d",
   "metadata": {},
   "outputs": [],
   "source": [
    "grad_rate_2018_all = grad_rate_2018.loc[grad_rate_2018['school_name'] == 'All Students']"
   ]
  },
  {
   "cell_type": "code",
   "execution_count": null,
   "id": "76cb1692",
   "metadata": {},
   "outputs": [],
   "source": [
    "#grad_rate_2018_gen = grad_rate_2018_all.loc[grad_rate_2018_all['subgroup'] == 'All Students']"
   ]
  },
  {
   "cell_type": "code",
   "execution_count": null,
   "id": "e292fe36",
   "metadata": {},
   "outputs": [],
   "source": [
    "dist_perf_2018 = act_2018_all.merge(grad_rate_2018_all, how='left', on='district_number')"
   ]
  },
  {
   "cell_type": "code",
   "execution_count": null,
   "id": "b95e6340",
   "metadata": {},
   "outputs": [],
   "source": [
    "dist_perf_2018 = tvaas_2018.merge(dist_perf_2018, how='left', left_on='District Number', right_on='district_number')"
   ]
  },
  {
   "cell_type": "markdown",
   "id": "7478971e",
   "metadata": {},
   "source": [
    "## Now, to do some combining"
   ]
  },
  {
   "cell_type": "code",
   "execution_count": null,
   "id": "25113d16",
   "metadata": {
    "scrolled": true
   },
   "outputs": [],
   "source": [
    "dist_perf_2018.drop(columns={'year_x', 'year_y'})"
   ]
  },
  {
   "cell_type": "code",
   "execution_count": null,
   "id": "76779bd5",
   "metadata": {},
   "outputs": [],
   "source": [
    "dist_perf_2018['Year'] = 2018"
   ]
  },
  {
   "cell_type": "code",
   "execution_count": null,
   "id": "c6b3a380",
   "metadata": {
    "scrolled": true
   },
   "outputs": [],
   "source": [
    "dist_perf_2018"
   ]
  },
  {
   "cell_type": "code",
   "execution_count": null,
   "id": "6ec7a0cf",
   "metadata": {
    "scrolled": true
   },
   "outputs": [],
   "source": [
    "dist_perf_2019.drop(columns={'year_x', 'year_y'})"
   ]
  },
  {
   "cell_type": "code",
   "execution_count": null,
   "id": "df07dfce",
   "metadata": {},
   "outputs": [],
   "source": [
    "dist_perf_2019['Year'] = 2019"
   ]
  },
  {
   "cell_type": "code",
   "execution_count": null,
   "id": "68efcddf",
   "metadata": {},
   "outputs": [],
   "source": [
    "perf_18_19 = dist_perf_2019.append(dist_perf_2018)"
   ]
  },
  {
   "cell_type": "code",
   "execution_count": null,
   "id": "5c6b6a75",
   "metadata": {
    "scrolled": true
   },
   "outputs": [],
   "source": [
    "perf_18_19 = perf_18_19.drop(columns={'year_y', 'subgroup_y'})"
   ]
  },
  {
   "cell_type": "code",
   "execution_count": null,
   "id": "38cfef57",
   "metadata": {},
   "outputs": [],
   "source": [
    "perf_18_19 = perf_18_19.drop(columns={'percent_21_orhigher', 'avg_composite_baseline_year', 'avg_composite_previous', 'percent_21_orhigher_baseline_year', 'percent_21_orhigher_previous'})"
   ]
  },
  {
   "cell_type": "code",
   "execution_count": null,
   "id": "8d25009a",
   "metadata": {},
   "outputs": [],
   "source": [
    "perf_18_19 = perf_18_19.drop(columns={'percent_met_crb_english', 'percent_met_crb_math', 'percent_met_crb_reading', 'percent_met_crb_science', 'percent_met_all4_crb'})"
   ]
  },
  {
   "cell_type": "code",
   "execution_count": null,
   "id": "f6020688",
   "metadata": {},
   "outputs": [],
   "source": [
    "perf_18_19 = perf_18_19.drop(columns={'district_name_x', 'school_number_x', 'school_name_x', 'year_x', 'district_name_y', 'school_number_y', 'school_name_y', 'denominator', 'grad_rate_previous', 'baseline_year', 'Science Composite'})"
   ]
  },
  {
   "cell_type": "code",
   "execution_count": null,
   "id": "32da7a4c",
   "metadata": {
    "scrolled": true
   },
   "outputs": [],
   "source": [
    "perf_18_19.info()"
   ]
  },
  {
   "cell_type": "code",
   "execution_count": null,
   "id": "b744f8c9",
   "metadata": {},
   "outputs": [],
   "source": [
    "dist_perf_2020 = dist_perf_2020.drop(columns={'subgroup_y', 'district_number', 'graduation cohort', 'graduation count', 'valid_tests'})"
   ]
  },
  {
   "cell_type": "code",
   "execution_count": null,
   "id": "d404f206",
   "metadata": {},
   "outputs": [],
   "source": [
    "dist_perf_2020 = dist_perf_2020.drop(columns={'number_scoring_21_or_higher', 'percent_scoring_21_or_higher', 'number_scoring_below_19', 'percent_scoring_below_19'})"
   ]
  },
  {
   "cell_type": "code",
   "execution_count": null,
   "id": "be38e48d",
   "metadata": {
    "scrolled": true
   },
   "outputs": [],
   "source": [
    "dist_perf_2020.info()"
   ]
  },
  {
   "cell_type": "code",
   "execution_count": null,
   "id": "e4ba3239",
   "metadata": {},
   "outputs": [],
   "source": [
    "dist_perf_2020 = dist_perf_2020.rename(columns={'average_english_score':'english_avg', 'average_math_score':'math_avg', 'average_reading_score':'reading_avg', 'average_science_score':'science_avg', 'average_composite_score':'act_composite_avg', 'year': 'Year', 'graduation rate':'grad_rate'})"
   ]
  },
  {
   "cell_type": "code",
   "execution_count": null,
   "id": "5291626e",
   "metadata": {},
   "outputs": [],
   "source": [
    "perf_18_19.to_csv(r'C:\\Users\\chris\\Documents\\nss-data-analytics\\projects\\Nashville-Education-Data\\data\\perf_18_19.csv')"
   ]
  },
  {
   "cell_type": "code",
   "execution_count": null,
   "id": "446d5468",
   "metadata": {},
   "outputs": [],
   "source": [
    "dist_perf_2020.to_csv(r'C:\\Users\\chris\\Documents\\nss-data-analytics\\projects\\Nashville-Education-Data\\data\\perf_2020.csv')"
   ]
  },
  {
   "cell_type": "code",
   "execution_count": null,
   "id": "321bfd72",
   "metadata": {
    "scrolled": true
   },
   "outputs": [],
   "source": [
    "tvaas = tvaas_2019.append(tvaas_2018).reset_index()"
   ]
  },
  {
   "cell_type": "code",
   "execution_count": null,
   "id": "fe5b4569",
   "metadata": {},
   "outputs": [],
   "source": [
    "tvaas.to_csv(r'C:\\Users\\chris\\Documents\\nss-data-analytics\\projects\\Nashville-Education-Data\\data\\tvaas.csv')"
   ]
  },
  {
   "cell_type": "code",
   "execution_count": null,
   "id": "00d7a4c0",
   "metadata": {
    "scrolled": true
   },
   "outputs": [],
   "source": [
    "finance_2019.info()"
   ]
  },
  {
   "cell_type": "code",
   "execution_count": null,
   "id": "60e1e5f3",
   "metadata": {},
   "outputs": [],
   "source": [
    "finance_2019['Federal Percentage'] = list(map(lambda x: x[:-1], finance_2019['Federal Percentage'].values))\n",
    "finance_2019['State Percentage'] = list(map(lambda x: x[:-1], finance_2019['State Percentage'].values))\n",
    "finance_2019['Local Percentage'] = list(map(lambda x: x[:-1], finance_2019['Local Percentage'].values))"
   ]
  },
  {
   "cell_type": "code",
   "execution_count": null,
   "id": "4b0efd41",
   "metadata": {},
   "outputs": [],
   "source": [
    "finance_2019['Federal Percentage'] = [float(x) for x in finance_2019['Federal Percentage'].values]\n",
    "finance_2019['State Percentage'] = [float(x) for x in finance_2019['State Percentage'].values]\n",
    "finance_2019['Local Percentage'] = [float(x) for x in finance_2019['Local Percentage'].values]"
   ]
  },
  {
   "cell_type": "code",
   "execution_count": null,
   "id": "8f71fb46",
   "metadata": {},
   "outputs": [],
   "source": [
    "finance_2019['State and Local Percentage'] = finance_2019['State Percentage'] + finance_2019['Local Percentage']"
   ]
  },
  {
   "cell_type": "code",
   "execution_count": null,
   "id": "2487e558",
   "metadata": {},
   "outputs": [],
   "source": [
    "finance_2019 = finance_2019.drop(columns={'State Percentage', 'Local Percentage'})"
   ]
  },
  {
   "cell_type": "code",
   "execution_count": null,
   "id": "4b5cc7d5",
   "metadata": {
    "scrolled": true
   },
   "outputs": [],
   "source": [
    "finance_2019.info()"
   ]
  },
  {
   "cell_type": "code",
   "execution_count": null,
   "id": "1d93af78",
   "metadata": {},
   "outputs": [],
   "source": [
    "cols = finance_2019.columns\n",
    "finance_2019[cols] = finance_2019[cols].replace({r'\\$':''}, regex = True)"
   ]
  },
  {
   "cell_type": "code",
   "execution_count": null,
   "id": "098df829",
   "metadata": {
    "scrolled": true
   },
   "outputs": [],
   "source": [
    "finance_2019 = finance_2019.rename(columns={'Distrist Level Federal Per Pupil Expenditures':'District Level Federal Per Pupil Expenditures'})"
   ]
  },
  {
   "cell_type": "code",
   "execution_count": null,
   "id": "80207be1",
   "metadata": {},
   "outputs": [],
   "source": [
    "finance_2019 = tvaas_2019.merge(finance_2019, how='left', left_on='District Number', right_on='District ID').drop(columns={'Overall Composite', 'Social Studies Composite','Literacy Composite', 'Numeracy Composite', 'Literacy and Numeracy Composite', 'District Name_y', 'School ID', 'Key', 'Dist', 'District ID'}).rename(columns={'District Name_x':'District Name'})"
   ]
  },
  {
   "cell_type": "code",
   "execution_count": null,
   "id": "1cf4c91c",
   "metadata": {},
   "outputs": [],
   "source": [
    "finance_2020 = tvaas_2019.merge(finance_2020, how='left', left_on='District Number', right_on='District ID').drop(columns={'Overall Composite', 'Social Studies Composite','Literacy Composite', 'Numeracy Composite', 'Literacy and Numeracy Composite', 'District Name_y', 'School ID', 'Key', 'Dist', 'District ID'}).rename(columns={'District Name_x':'District Name'})"
   ]
  },
  {
   "cell_type": "code",
   "execution_count": null,
   "id": "c1521924",
   "metadata": {},
   "outputs": [],
   "source": [
    "finance_2020['Year'] = 2020"
   ]
  },
  {
   "cell_type": "code",
   "execution_count": null,
   "id": "ee8ad951",
   "metadata": {},
   "outputs": [],
   "source": [
    "finance_all = finance_2020.append(finance_2019).reset_index()"
   ]
  },
  {
   "cell_type": "code",
   "execution_count": null,
   "id": "37bbc7c9",
   "metadata": {
    "scrolled": false
   },
   "outputs": [],
   "source": [
    "finance_all = finance_all.drop(columns={'School Nutrition Percentage'})"
   ]
  },
  {
   "cell_type": "code",
   "execution_count": null,
   "id": "a9bd6199",
   "metadata": {},
   "outputs": [],
   "source": [
    "finance_all.to_csv(r'C:\\Users\\chris\\Documents\\nss-data-analytics\\projects\\Nashville-Education-Data\\data\\finance_all.csv')"
   ]
  },
  {
   "cell_type": "code",
   "execution_count": 152,
   "id": "37196405",
   "metadata": {
    "collapsed": true
   },
   "outputs": [
    {
     "data": {
      "text/html": [
       "<div>\n",
       "<style scoped>\n",
       "    .dataframe tbody tr th:only-of-type {\n",
       "        vertical-align: middle;\n",
       "    }\n",
       "\n",
       "    .dataframe tbody tr th {\n",
       "        vertical-align: top;\n",
       "    }\n",
       "\n",
       "    .dataframe thead th {\n",
       "        text-align: right;\n",
       "    }\n",
       "</style>\n",
       "<table border=\"1\" class=\"dataframe\">\n",
       "  <thead>\n",
       "    <tr style=\"text-align: right;\">\n",
       "      <th></th>\n",
       "      <th>index</th>\n",
       "      <th>District Number</th>\n",
       "      <th>District Name</th>\n",
       "      <th>Year</th>\n",
       "      <th>School Name</th>\n",
       "      <th>Enrollment</th>\n",
       "      <th>School Level Federal Per Pupil Expenditures</th>\n",
       "      <th>School Level State and Local Per Pupil Expenditures</th>\n",
       "      <th>School Level School Nutrition Per Pupil Expenditures</th>\n",
       "      <th>Total School Level Per Pupil Expenditures</th>\n",
       "      <th>Distrist Level Federal Per Pupil Expenditures</th>\n",
       "      <th>District Level State and Local Per Pupil Expenditures</th>\n",
       "      <th>District Level School Nutrition Per Pupil Expenditures</th>\n",
       "      <th>Total District Level Per Pupil Expenditures</th>\n",
       "      <th>Total School Per Pupil Expenditures</th>\n",
       "      <th>Total Expenditures Per School</th>\n",
       "      <th>Federal Percentage</th>\n",
       "      <th>State and Local Percentage</th>\n",
       "      <th>District Level Federal Per Pupil Expenditures</th>\n",
       "    </tr>\n",
       "  </thead>\n",
       "  <tbody>\n",
       "    <tr>\n",
       "      <th>0</th>\n",
       "      <td>0</td>\n",
       "      <td>171</td>\n",
       "      <td>Alamo City School District</td>\n",
       "      <td>2020</td>\n",
       "      <td>District Average/Total</td>\n",
       "      <td>575.0</td>\n",
       "      <td>548.74</td>\n",
       "      <td>6667.91</td>\n",
       "      <td>721.59</td>\n",
       "      <td>7938.24</td>\n",
       "      <td>172.49</td>\n",
       "      <td>1190.05</td>\n",
       "      <td>0.0</td>\n",
       "      <td>1362.55</td>\n",
       "      <td>9300.79</td>\n",
       "      <td>9300.79</td>\n",
       "      <td>7.75%</td>\n",
       "      <td>84.49%</td>\n",
       "      <td>NaN</td>\n",
       "    </tr>\n",
       "    <tr>\n",
       "      <th>1</th>\n",
       "      <td>1</td>\n",
       "      <td>51</td>\n",
       "      <td>Alcoa City School District</td>\n",
       "      <td>2020</td>\n",
       "      <td>District Average/Total</td>\n",
       "      <td>2075.0</td>\n",
       "      <td>320.44</td>\n",
       "      <td>7821.36</td>\n",
       "      <td>476.34</td>\n",
       "      <td>8618.15</td>\n",
       "      <td>40.12</td>\n",
       "      <td>2821.74</td>\n",
       "      <td>58.45</td>\n",
       "      <td>2920.3</td>\n",
       "      <td>11538.45</td>\n",
       "      <td>11538.45</td>\n",
       "      <td>3.12%</td>\n",
       "      <td>92.24%</td>\n",
       "      <td>NaN</td>\n",
       "    </tr>\n",
       "    <tr>\n",
       "      <th>2</th>\n",
       "      <td>2</td>\n",
       "      <td>10</td>\n",
       "      <td>Anderson County School District</td>\n",
       "      <td>2020</td>\n",
       "      <td>District Average/Total</td>\n",
       "      <td>6141.0</td>\n",
       "      <td>278.41</td>\n",
       "      <td>5991.96</td>\n",
       "      <td>465.22</td>\n",
       "      <td>6735.59</td>\n",
       "      <td>386.22</td>\n",
       "      <td>3269.57</td>\n",
       "      <td>49.07</td>\n",
       "      <td>3704.87</td>\n",
       "      <td>10440.46</td>\n",
       "      <td>10440.46</td>\n",
       "      <td>6.37%</td>\n",
       "      <td>88.71%</td>\n",
       "      <td>NaN</td>\n",
       "    </tr>\n",
       "    <tr>\n",
       "      <th>3</th>\n",
       "      <td>3</td>\n",
       "      <td>793</td>\n",
       "      <td>Arlington Community School District</td>\n",
       "      <td>2020</td>\n",
       "      <td>District Average/Total</td>\n",
       "      <td>4778.0</td>\n",
       "      <td>281.09</td>\n",
       "      <td>6278.5</td>\n",
       "      <td>205.42</td>\n",
       "      <td>6765.0</td>\n",
       "      <td>144.21</td>\n",
       "      <td>1955.43</td>\n",
       "      <td>16.69</td>\n",
       "      <td>2116.33</td>\n",
       "      <td>8881.33</td>\n",
       "      <td>8881.33</td>\n",
       "      <td>4.79%</td>\n",
       "      <td>92.71%</td>\n",
       "      <td>NaN</td>\n",
       "    </tr>\n",
       "    <tr>\n",
       "      <th>4</th>\n",
       "      <td>4</td>\n",
       "      <td>541</td>\n",
       "      <td>Athens City Schools</td>\n",
       "      <td>2020</td>\n",
       "      <td>District Average/Total</td>\n",
       "      <td>1628.0</td>\n",
       "      <td>497.55</td>\n",
       "      <td>6423.36</td>\n",
       "      <td>681.12</td>\n",
       "      <td>7602.03</td>\n",
       "      <td>289.20</td>\n",
       "      <td>2068.59</td>\n",
       "      <td>123.05</td>\n",
       "      <td>2480.84</td>\n",
       "      <td>10082.87</td>\n",
       "      <td>10082.87</td>\n",
       "      <td>7.80%</td>\n",
       "      <td>84.22%</td>\n",
       "      <td>NaN</td>\n",
       "    </tr>\n",
       "    <tr>\n",
       "      <th>...</th>\n",
       "      <td>...</td>\n",
       "      <td>...</td>\n",
       "      <td>...</td>\n",
       "      <td>...</td>\n",
       "      <td>...</td>\n",
       "      <td>...</td>\n",
       "      <td>...</td>\n",
       "      <td>...</td>\n",
       "      <td>...</td>\n",
       "      <td>...</td>\n",
       "      <td>...</td>\n",
       "      <td>...</td>\n",
       "      <td>...</td>\n",
       "      <td>...</td>\n",
       "      <td>...</td>\n",
       "      <td>...</td>\n",
       "      <td>...</td>\n",
       "      <td>...</td>\n",
       "      <td>...</td>\n",
       "    </tr>\n",
       "    <tr>\n",
       "      <th>275</th>\n",
       "      <td>135</td>\n",
       "      <td>920</td>\n",
       "      <td>Weakley County School District</td>\n",
       "      <td>2019</td>\n",
       "      <td>District Average/Total</td>\n",
       "      <td>3982.0</td>\n",
       "      <td>471.43</td>\n",
       "      <td>5,457.18</td>\n",
       "      <td>554.12</td>\n",
       "      <td>6,482.73</td>\n",
       "      <td>NaN</td>\n",
       "      <td>2,002.80</td>\n",
       "      <td>114.71</td>\n",
       "      <td>2,305.78</td>\n",
       "      <td>8,788.50</td>\n",
       "      <td>8,788.50</td>\n",
       "      <td>12.83539</td>\n",
       "      <td>87.16461</td>\n",
       "      <td>188.26</td>\n",
       "    </tr>\n",
       "    <tr>\n",
       "      <th>276</th>\n",
       "      <td>136</td>\n",
       "      <td>97</td>\n",
       "      <td>West Carroll Special District</td>\n",
       "      <td>2019</td>\n",
       "      <td>District Average/Total</td>\n",
       "      <td>867.0</td>\n",
       "      <td>485.47</td>\n",
       "      <td>5,922.47</td>\n",
       "      <td>800.92</td>\n",
       "      <td>7,208.86</td>\n",
       "      <td>NaN</td>\n",
       "      <td>1,843.68</td>\n",
       "      <td>0.00</td>\n",
       "      <td>2,125.99</td>\n",
       "      <td>9,334.86</td>\n",
       "      <td>9,334.86</td>\n",
       "      <td>13.5675</td>\n",
       "      <td>86.4325</td>\n",
       "      <td>282.31</td>\n",
       "    </tr>\n",
       "    <tr>\n",
       "      <th>277</th>\n",
       "      <td>137</td>\n",
       "      <td>930</td>\n",
       "      <td>White County School District</td>\n",
       "      <td>2019</td>\n",
       "      <td>District Average/Total</td>\n",
       "      <td>3768.0</td>\n",
       "      <td>349.68</td>\n",
       "      <td>5,522.47</td>\n",
       "      <td>643.63</td>\n",
       "      <td>6,515.78</td>\n",
       "      <td>NaN</td>\n",
       "      <td>1,990.33</td>\n",
       "      <td>0.89</td>\n",
       "      <td>2,307.17</td>\n",
       "      <td>8,822.95</td>\n",
       "      <td>8,822.95</td>\n",
       "      <td>14.75128</td>\n",
       "      <td>85.24873</td>\n",
       "      <td>315.95</td>\n",
       "    </tr>\n",
       "    <tr>\n",
       "      <th>278</th>\n",
       "      <td>138</td>\n",
       "      <td>940</td>\n",
       "      <td>Williamson County School District</td>\n",
       "      <td>2019</td>\n",
       "      <td>District Average/Total</td>\n",
       "      <td>39828.0</td>\n",
       "      <td>129.66</td>\n",
       "      <td>6,353.67</td>\n",
       "      <td>287.61</td>\n",
       "      <td>6,770.94</td>\n",
       "      <td>NaN</td>\n",
       "      <td>2,291.44</td>\n",
       "      <td>57.47</td>\n",
       "      <td>2,420.35</td>\n",
       "      <td>9,191.29</td>\n",
       "      <td>9,191.29</td>\n",
       "      <td>2.83452</td>\n",
       "      <td>97.16548</td>\n",
       "      <td>71.45</td>\n",
       "    </tr>\n",
       "    <tr>\n",
       "      <th>279</th>\n",
       "      <td>139</td>\n",
       "      <td>950</td>\n",
       "      <td>Wilson County School District</td>\n",
       "      <td>2019</td>\n",
       "      <td>District Average/Total</td>\n",
       "      <td>18385.0</td>\n",
       "      <td>306.23</td>\n",
       "      <td>6,554.33</td>\n",
       "      <td>393.81</td>\n",
       "      <td>7,254.38</td>\n",
       "      <td>NaN</td>\n",
       "      <td>985.34</td>\n",
       "      <td>0.00</td>\n",
       "      <td>1,017.10</td>\n",
       "      <td>8,271.47</td>\n",
       "      <td>8,271.47</td>\n",
       "      <td>5.8368</td>\n",
       "      <td>94.16319</td>\n",
       "      <td>31.76</td>\n",
       "    </tr>\n",
       "  </tbody>\n",
       "</table>\n",
       "<p>280 rows × 19 columns</p>\n",
       "</div>"
      ],
      "text/plain": [
       "     index  District Number                        District Name  Year  \\\n",
       "0        0              171           Alamo City School District  2020   \n",
       "1        1               51           Alcoa City School District  2020   \n",
       "2        2               10      Anderson County School District  2020   \n",
       "3        3              793  Arlington Community School District  2020   \n",
       "4        4              541                  Athens City Schools  2020   \n",
       "..     ...              ...                                  ...   ...   \n",
       "275    135              920       Weakley County School District  2019   \n",
       "276    136               97        West Carroll Special District  2019   \n",
       "277    137              930         White County School District  2019   \n",
       "278    138              940    Williamson County School District  2019   \n",
       "279    139              950        Wilson County School District  2019   \n",
       "\n",
       "                School Name  Enrollment  \\\n",
       "0    District Average/Total       575.0   \n",
       "1    District Average/Total      2075.0   \n",
       "2    District Average/Total      6141.0   \n",
       "3    District Average/Total      4778.0   \n",
       "4    District Average/Total      1628.0   \n",
       "..                      ...         ...   \n",
       "275  District Average/Total      3982.0   \n",
       "276  District Average/Total       867.0   \n",
       "277  District Average/Total      3768.0   \n",
       "278  District Average/Total     39828.0   \n",
       "279  District Average/Total     18385.0   \n",
       "\n",
       "    School Level Federal Per Pupil Expenditures  \\\n",
       "0                                        548.74   \n",
       "1                                        320.44   \n",
       "2                                        278.41   \n",
       "3                                        281.09   \n",
       "4                                        497.55   \n",
       "..                                          ...   \n",
       "275                                      471.43   \n",
       "276                                      485.47   \n",
       "277                                      349.68   \n",
       "278                                      129.66   \n",
       "279                                      306.23   \n",
       "\n",
       "    School Level State and Local Per Pupil Expenditures  \\\n",
       "0                                              6667.91    \n",
       "1                                              7821.36    \n",
       "2                                              5991.96    \n",
       "3                                               6278.5    \n",
       "4                                              6423.36    \n",
       "..                                                 ...    \n",
       "275                                           5,457.18    \n",
       "276                                           5,922.47    \n",
       "277                                           5,522.47    \n",
       "278                                           6,353.67    \n",
       "279                                           6,554.33    \n",
       "\n",
       "    School Level School Nutrition Per Pupil Expenditures  \\\n",
       "0                                               721.59     \n",
       "1                                               476.34     \n",
       "2                                               465.22     \n",
       "3                                               205.42     \n",
       "4                                               681.12     \n",
       "..                                                 ...     \n",
       "275                                             554.12     \n",
       "276                                             800.92     \n",
       "277                                             643.63     \n",
       "278                                             287.61     \n",
       "279                                             393.81     \n",
       "\n",
       "    Total School Level Per Pupil Expenditures  \\\n",
       "0                                     7938.24   \n",
       "1                                     8618.15   \n",
       "2                                     6735.59   \n",
       "3                                      6765.0   \n",
       "4                                     7602.03   \n",
       "..                                        ...   \n",
       "275                                  6,482.73   \n",
       "276                                  7,208.86   \n",
       "277                                  6,515.78   \n",
       "278                                  6,770.94   \n",
       "279                                  7,254.38   \n",
       "\n",
       "     Distrist Level Federal Per Pupil Expenditures  \\\n",
       "0                                           172.49   \n",
       "1                                            40.12   \n",
       "2                                           386.22   \n",
       "3                                           144.21   \n",
       "4                                           289.20   \n",
       "..                                             ...   \n",
       "275                                            NaN   \n",
       "276                                            NaN   \n",
       "277                                            NaN   \n",
       "278                                            NaN   \n",
       "279                                            NaN   \n",
       "\n",
       "    District Level State and Local Per Pupil Expenditures  \\\n",
       "0                                              1190.05      \n",
       "1                                              2821.74      \n",
       "2                                              3269.57      \n",
       "3                                              1955.43      \n",
       "4                                              2068.59      \n",
       "..                                                 ...      \n",
       "275                                           2,002.80      \n",
       "276                                           1,843.68      \n",
       "277                                           1,990.33      \n",
       "278                                           2,291.44      \n",
       "279                                             985.34      \n",
       "\n",
       "    District Level School Nutrition Per Pupil Expenditures  \\\n",
       "0                                                  0.0       \n",
       "1                                                58.45       \n",
       "2                                                49.07       \n",
       "3                                                16.69       \n",
       "4                                               123.05       \n",
       "..                                                 ...       \n",
       "275                                             114.71       \n",
       "276                                               0.00       \n",
       "277                                               0.89       \n",
       "278                                              57.47       \n",
       "279                                               0.00       \n",
       "\n",
       "    Total District Level Per Pupil Expenditures  \\\n",
       "0                                       1362.55   \n",
       "1                                        2920.3   \n",
       "2                                       3704.87   \n",
       "3                                       2116.33   \n",
       "4                                       2480.84   \n",
       "..                                          ...   \n",
       "275                                    2,305.78   \n",
       "276                                    2,125.99   \n",
       "277                                    2,307.17   \n",
       "278                                    2,420.35   \n",
       "279                                    1,017.10   \n",
       "\n",
       "    Total School Per Pupil Expenditures Total Expenditures Per School  \\\n",
       "0                               9300.79                       9300.79   \n",
       "1                              11538.45                      11538.45   \n",
       "2                              10440.46                      10440.46   \n",
       "3                               8881.33                       8881.33   \n",
       "4                              10082.87                      10082.87   \n",
       "..                                  ...                           ...   \n",
       "275                            8,788.50                      8,788.50   \n",
       "276                            9,334.86                      9,334.86   \n",
       "277                            8,822.95                      8,822.95   \n",
       "278                            9,191.29                      9,191.29   \n",
       "279                            8,271.47                      8,271.47   \n",
       "\n",
       "    Federal Percentage State and Local Percentage  \\\n",
       "0                7.75%                     84.49%   \n",
       "1                3.12%                     92.24%   \n",
       "2                6.37%                     88.71%   \n",
       "3                4.79%                     92.71%   \n",
       "4                7.80%                     84.22%   \n",
       "..                 ...                        ...   \n",
       "275           12.83539                   87.16461   \n",
       "276            13.5675                    86.4325   \n",
       "277           14.75128                   85.24873   \n",
       "278            2.83452                   97.16548   \n",
       "279             5.8368                   94.16319   \n",
       "\n",
       "    District Level Federal Per Pupil Expenditures  \n",
       "0                                             NaN  \n",
       "1                                             NaN  \n",
       "2                                             NaN  \n",
       "3                                             NaN  \n",
       "4                                             NaN  \n",
       "..                                            ...  \n",
       "275                                        188.26  \n",
       "276                                        282.31  \n",
       "277                                        315.95  \n",
       "278                                         71.45  \n",
       "279                                         31.76  \n",
       "\n",
       "[280 rows x 19 columns]"
      ]
     },
     "execution_count": 152,
     "metadata": {},
     "output_type": "execute_result"
    }
   ],
   "source": [
    "finance_all"
   ]
  },
  {
   "cell_type": "code",
   "execution_count": 154,
   "id": "80c3af30",
   "metadata": {},
   "outputs": [],
   "source": [
    "us_salaries = pd.read_csv(r'C:\\Users\\chris\\Documents\\nss-data-analytics\\projects\\Nashville-Education-Data\\data\\us_salaries.csv')"
   ]
  },
  {
   "cell_type": "code",
   "execution_count": 158,
   "id": "e6cf7cc9",
   "metadata": {
    "scrolled": true
   },
   "outputs": [
    {
     "data": {
      "text/html": [
       "<div>\n",
       "<style scoped>\n",
       "    .dataframe tbody tr th:only-of-type {\n",
       "        vertical-align: middle;\n",
       "    }\n",
       "\n",
       "    .dataframe tbody tr th {\n",
       "        vertical-align: top;\n",
       "    }\n",
       "\n",
       "    .dataframe thead th {\n",
       "        text-align: right;\n",
       "    }\n",
       "</style>\n",
       "<table border=\"1\" class=\"dataframe\">\n",
       "  <thead>\n",
       "    <tr style=\"text-align: right;\">\n",
       "      <th></th>\n",
       "      <th>State</th>\n",
       "      <th>Year</th>\n",
       "      <th>Salary($)</th>\n",
       "    </tr>\n",
       "  </thead>\n",
       "  <tbody>\n",
       "    <tr>\n",
       "      <th>0</th>\n",
       "      <td>Alabama</td>\n",
       "      <td>2020</td>\n",
       "      <td>54,095</td>\n",
       "    </tr>\n",
       "    <tr>\n",
       "      <th>1</th>\n",
       "      <td>Alaska</td>\n",
       "      <td>2020</td>\n",
       "      <td>72,010</td>\n",
       "    </tr>\n",
       "    <tr>\n",
       "      <th>2</th>\n",
       "      <td>Arizona</td>\n",
       "      <td>2020</td>\n",
       "      <td>50,782</td>\n",
       "    </tr>\n",
       "    <tr>\n",
       "      <th>3</th>\n",
       "      <td>Arkansas</td>\n",
       "      <td>2020</td>\n",
       "      <td>50,456</td>\n",
       "    </tr>\n",
       "    <tr>\n",
       "      <th>4</th>\n",
       "      <td>California</td>\n",
       "      <td>2020</td>\n",
       "      <td>84,531</td>\n",
       "    </tr>\n",
       "    <tr>\n",
       "      <th>...</th>\n",
       "      <td>...</td>\n",
       "      <td>...</td>\n",
       "      <td>...</td>\n",
       "    </tr>\n",
       "    <tr>\n",
       "      <th>97</th>\n",
       "      <td>Virginia</td>\n",
       "      <td>2019</td>\n",
       "      <td>54,986</td>\n",
       "    </tr>\n",
       "    <tr>\n",
       "      <th>98</th>\n",
       "      <td>Washington</td>\n",
       "      <td>2019</td>\n",
       "      <td>73,049</td>\n",
       "    </tr>\n",
       "    <tr>\n",
       "      <th>99</th>\n",
       "      <td>West Virginia</td>\n",
       "      <td>2019</td>\n",
       "      <td>47,681</td>\n",
       "    </tr>\n",
       "    <tr>\n",
       "      <th>100</th>\n",
       "      <td>Wisconsin</td>\n",
       "      <td>2019</td>\n",
       "      <td>58,277</td>\n",
       "    </tr>\n",
       "    <tr>\n",
       "      <th>101</th>\n",
       "      <td>Wyoming</td>\n",
       "      <td>2019</td>\n",
       "      <td>58,861</td>\n",
       "    </tr>\n",
       "  </tbody>\n",
       "</table>\n",
       "<p>102 rows × 3 columns</p>\n",
       "</div>"
      ],
      "text/plain": [
       "             State  Year Salary($)\n",
       "0          Alabama  2020    54,095\n",
       "1           Alaska  2020    72,010\n",
       "2          Arizona  2020    50,782\n",
       "3         Arkansas  2020    50,456\n",
       "4       California  2020    84,531\n",
       "..             ...   ...       ...\n",
       "97        Virginia  2019    54,986\n",
       "98      Washington  2019    73,049\n",
       "99   West Virginia  2019    47,681\n",
       "100      Wisconsin  2019    58,277\n",
       "101        Wyoming  2019    58,861\n",
       "\n",
       "[102 rows x 3 columns]"
      ]
     },
     "execution_count": 158,
     "metadata": {},
     "output_type": "execute_result"
    }
   ],
   "source": [
    "us_salaries"
   ]
  },
  {
   "cell_type": "code",
   "execution_count": 178,
   "id": "a4f859f7",
   "metadata": {
    "scrolled": true
   },
   "outputs": [],
   "source": [
    "cost_living = pd.read_csv(r'C:\\Users\\chris\\Documents\\nss-data-analytics\\projects\\Nashville-Education-Data\\data\\csvData.csv')"
   ]
  },
  {
   "cell_type": "code",
   "execution_count": 179,
   "id": "11f36ced",
   "metadata": {
    "collapsed": true
   },
   "outputs": [
    {
     "data": {
      "text/html": [
       "<div>\n",
       "<style scoped>\n",
       "    .dataframe tbody tr th:only-of-type {\n",
       "        vertical-align: middle;\n",
       "    }\n",
       "\n",
       "    .dataframe tbody tr th {\n",
       "        vertical-align: top;\n",
       "    }\n",
       "\n",
       "    .dataframe thead th {\n",
       "        text-align: right;\n",
       "    }\n",
       "</style>\n",
       "<table border=\"1\" class=\"dataframe\">\n",
       "  <thead>\n",
       "    <tr style=\"text-align: right;\">\n",
       "      <th></th>\n",
       "      <th>State</th>\n",
       "      <th>costIndex</th>\n",
       "      <th>groceryCost</th>\n",
       "      <th>housingCost</th>\n",
       "      <th>utilitiesCost</th>\n",
       "      <th>transportationCost</th>\n",
       "      <th>miscCost</th>\n",
       "    </tr>\n",
       "  </thead>\n",
       "  <tbody>\n",
       "    <tr>\n",
       "      <th>0</th>\n",
       "      <td>Mississippi</td>\n",
       "      <td>86.1</td>\n",
       "      <td>93.2</td>\n",
       "      <td>666.0</td>\n",
       "      <td>92.3</td>\n",
       "      <td>89.1</td>\n",
       "      <td>91.4</td>\n",
       "    </tr>\n",
       "    <tr>\n",
       "      <th>1</th>\n",
       "      <td>Arkansas</td>\n",
       "      <td>86.9</td>\n",
       "      <td>92.5</td>\n",
       "      <td>75.6</td>\n",
       "      <td>90.7</td>\n",
       "      <td>91.0</td>\n",
       "      <td>97.4</td>\n",
       "    </tr>\n",
       "    <tr>\n",
       "      <th>2</th>\n",
       "      <td>Oklahoma</td>\n",
       "      <td>87.0</td>\n",
       "      <td>94.6</td>\n",
       "      <td>73.0</td>\n",
       "      <td>93.4</td>\n",
       "      <td>92.5</td>\n",
       "      <td>93.5</td>\n",
       "    </tr>\n",
       "    <tr>\n",
       "      <th>3</th>\n",
       "      <td>Missouri</td>\n",
       "      <td>87.1</td>\n",
       "      <td>95.4</td>\n",
       "      <td>78.3</td>\n",
       "      <td>96.3</td>\n",
       "      <td>90.4</td>\n",
       "      <td>95.8</td>\n",
       "    </tr>\n",
       "    <tr>\n",
       "      <th>4</th>\n",
       "      <td>New Mexico</td>\n",
       "      <td>87.5</td>\n",
       "      <td>94.6</td>\n",
       "      <td>84.4</td>\n",
       "      <td>89.9</td>\n",
       "      <td>98.5</td>\n",
       "      <td>91.9</td>\n",
       "    </tr>\n",
       "    <tr>\n",
       "      <th>5</th>\n",
       "      <td>Tennessee</td>\n",
       "      <td>88.7</td>\n",
       "      <td>93.0</td>\n",
       "      <td>79.4</td>\n",
       "      <td>91.7</td>\n",
       "      <td>8.6</td>\n",
       "      <td>92.9</td>\n",
       "    </tr>\n",
       "    <tr>\n",
       "      <th>6</th>\n",
       "      <td>Michigan</td>\n",
       "      <td>88.9</td>\n",
       "      <td>91.0</td>\n",
       "      <td>80.2</td>\n",
       "      <td>98.5</td>\n",
       "      <td>101.8</td>\n",
       "      <td>96.4</td>\n",
       "    </tr>\n",
       "    <tr>\n",
       "      <th>7</th>\n",
       "      <td>Kansas</td>\n",
       "      <td>89.0</td>\n",
       "      <td>92.6</td>\n",
       "      <td>70.0</td>\n",
       "      <td>100.1</td>\n",
       "      <td>95.4</td>\n",
       "      <td>90.3</td>\n",
       "    </tr>\n",
       "    <tr>\n",
       "      <th>8</th>\n",
       "      <td>Georgia</td>\n",
       "      <td>89.2</td>\n",
       "      <td>96.3</td>\n",
       "      <td>74.3</td>\n",
       "      <td>90.3</td>\n",
       "      <td>95.7</td>\n",
       "      <td>96.6</td>\n",
       "    </tr>\n",
       "    <tr>\n",
       "      <th>9</th>\n",
       "      <td>Wyoming</td>\n",
       "      <td>89.3</td>\n",
       "      <td>103.5</td>\n",
       "      <td>81.7</td>\n",
       "      <td>87.4</td>\n",
       "      <td>94.5</td>\n",
       "      <td>105.5</td>\n",
       "    </tr>\n",
       "    <tr>\n",
       "      <th>10</th>\n",
       "      <td>Alabama</td>\n",
       "      <td>89.3</td>\n",
       "      <td>98.0</td>\n",
       "      <td>69.2</td>\n",
       "      <td>100.7</td>\n",
       "      <td>92.8</td>\n",
       "      <td>94.1</td>\n",
       "    </tr>\n",
       "    <tr>\n",
       "      <th>11</th>\n",
       "      <td>Indiana</td>\n",
       "      <td>90.0</td>\n",
       "      <td>92.4</td>\n",
       "      <td>76.4</td>\n",
       "      <td>96.7</td>\n",
       "      <td>96.6</td>\n",
       "      <td>95.2</td>\n",
       "    </tr>\n",
       "    <tr>\n",
       "      <th>12</th>\n",
       "      <td>Iowa</td>\n",
       "      <td>90.1</td>\n",
       "      <td>98.3</td>\n",
       "      <td>76.5</td>\n",
       "      <td>94.1</td>\n",
       "      <td>98.6</td>\n",
       "      <td>93.7</td>\n",
       "    </tr>\n",
       "    <tr>\n",
       "      <th>13</th>\n",
       "      <td>Ohio</td>\n",
       "      <td>90.8</td>\n",
       "      <td>97.9</td>\n",
       "      <td>76.1</td>\n",
       "      <td>90.7</td>\n",
       "      <td>99.6</td>\n",
       "      <td>98.7</td>\n",
       "    </tr>\n",
       "    <tr>\n",
       "      <th>14</th>\n",
       "      <td>Nebraska</td>\n",
       "      <td>90.8</td>\n",
       "      <td>98.6</td>\n",
       "      <td>86.6</td>\n",
       "      <td>88.9</td>\n",
       "      <td>100.4</td>\n",
       "      <td>96.8</td>\n",
       "    </tr>\n",
       "    <tr>\n",
       "      <th>15</th>\n",
       "      <td>Kentucky</td>\n",
       "      <td>90.9</td>\n",
       "      <td>93.3</td>\n",
       "      <td>80.1</td>\n",
       "      <td>104.2</td>\n",
       "      <td>101.6</td>\n",
       "      <td>103.7</td>\n",
       "    </tr>\n",
       "    <tr>\n",
       "      <th>16</th>\n",
       "      <td>West Virginia</td>\n",
       "      <td>91.1</td>\n",
       "      <td>97.9</td>\n",
       "      <td>77.1</td>\n",
       "      <td>88.2</td>\n",
       "      <td>104.8</td>\n",
       "      <td>102.9</td>\n",
       "    </tr>\n",
       "    <tr>\n",
       "      <th>17</th>\n",
       "      <td>Texas</td>\n",
       "      <td>91.5</td>\n",
       "      <td>91.2</td>\n",
       "      <td>83.5</td>\n",
       "      <td>103.3</td>\n",
       "      <td>90.9</td>\n",
       "      <td>97.0</td>\n",
       "    </tr>\n",
       "    <tr>\n",
       "      <th>18</th>\n",
       "      <td>Idaho</td>\n",
       "      <td>92.3</td>\n",
       "      <td>91.6</td>\n",
       "      <td>105.5</td>\n",
       "      <td>82.8</td>\n",
       "      <td>98.6</td>\n",
       "      <td>100.9</td>\n",
       "    </tr>\n",
       "    <tr>\n",
       "      <th>19</th>\n",
       "      <td>Louisiana</td>\n",
       "      <td>93.9</td>\n",
       "      <td>95.6</td>\n",
       "      <td>86.3</td>\n",
       "      <td>86.7</td>\n",
       "      <td>94.9</td>\n",
       "      <td>98.4</td>\n",
       "    </tr>\n",
       "    <tr>\n",
       "      <th>20</th>\n",
       "      <td>Illinois</td>\n",
       "      <td>94.5</td>\n",
       "      <td>97.4</td>\n",
       "      <td>85.2</td>\n",
       "      <td>95.8</td>\n",
       "      <td>106.5</td>\n",
       "      <td>96.7</td>\n",
       "    </tr>\n",
       "    <tr>\n",
       "      <th>21</th>\n",
       "      <td>North Carolina</td>\n",
       "      <td>94.9</td>\n",
       "      <td>97.4</td>\n",
       "      <td>91.8</td>\n",
       "      <td>97.2</td>\n",
       "      <td>95.1</td>\n",
       "      <td>99.2</td>\n",
       "    </tr>\n",
       "    <tr>\n",
       "      <th>22</th>\n",
       "      <td>South Carolina</td>\n",
       "      <td>95.9</td>\n",
       "      <td>101.8</td>\n",
       "      <td>80.1</td>\n",
       "      <td>105.0</td>\n",
       "      <td>93.5</td>\n",
       "      <td>99.4</td>\n",
       "    </tr>\n",
       "    <tr>\n",
       "      <th>23</th>\n",
       "      <td>Arizona</td>\n",
       "      <td>97.0</td>\n",
       "      <td>101.8</td>\n",
       "      <td>106.2</td>\n",
       "      <td>105.2</td>\n",
       "      <td>98.8</td>\n",
       "      <td>99.7</td>\n",
       "    </tr>\n",
       "    <tr>\n",
       "      <th>24</th>\n",
       "      <td>Wisconsin</td>\n",
       "      <td>97.3</td>\n",
       "      <td>100.9</td>\n",
       "      <td>88.6</td>\n",
       "      <td>98.1</td>\n",
       "      <td>97.8</td>\n",
       "      <td>98.9</td>\n",
       "    </tr>\n",
       "    <tr>\n",
       "      <th>25</th>\n",
       "      <td>Florida</td>\n",
       "      <td>97.9</td>\n",
       "      <td>106.9</td>\n",
       "      <td>99.6</td>\n",
       "      <td>103.1</td>\n",
       "      <td>101.7</td>\n",
       "      <td>98.4</td>\n",
       "    </tr>\n",
       "    <tr>\n",
       "      <th>26</th>\n",
       "      <td>Utah</td>\n",
       "      <td>98.4</td>\n",
       "      <td>97.9</td>\n",
       "      <td>97.6</td>\n",
       "      <td>93.2</td>\n",
       "      <td>99.8</td>\n",
       "      <td>99.5</td>\n",
       "    </tr>\n",
       "    <tr>\n",
       "      <th>27</th>\n",
       "      <td>North Dakota</td>\n",
       "      <td>98.8</td>\n",
       "      <td>102.1</td>\n",
       "      <td>93.7</td>\n",
       "      <td>93.3</td>\n",
       "      <td>105.2</td>\n",
       "      <td>96.3</td>\n",
       "    </tr>\n",
       "    <tr>\n",
       "      <th>28</th>\n",
       "      <td>South Dakota</td>\n",
       "      <td>99.8</td>\n",
       "      <td>101.8</td>\n",
       "      <td>112.7</td>\n",
       "      <td>91.2</td>\n",
       "      <td>89.7</td>\n",
       "      <td>91.1</td>\n",
       "    </tr>\n",
       "    <tr>\n",
       "      <th>29</th>\n",
       "      <td>Virginia</td>\n",
       "      <td>100.7</td>\n",
       "      <td>96.1</td>\n",
       "      <td>112.1</td>\n",
       "      <td>96.5</td>\n",
       "      <td>88.7</td>\n",
       "      <td>100.2</td>\n",
       "    </tr>\n",
       "    <tr>\n",
       "      <th>30</th>\n",
       "      <td>Minnesota</td>\n",
       "      <td>101.6</td>\n",
       "      <td>105.0</td>\n",
       "      <td>90.4</td>\n",
       "      <td>96.2</td>\n",
       "      <td>102.8</td>\n",
       "      <td>108.8</td>\n",
       "    </tr>\n",
       "    <tr>\n",
       "      <th>31</th>\n",
       "      <td>Pennsylvania</td>\n",
       "      <td>101.7</td>\n",
       "      <td>109.3</td>\n",
       "      <td>100.6</td>\n",
       "      <td>109.5</td>\n",
       "      <td>112.0</td>\n",
       "      <td>102.9</td>\n",
       "    </tr>\n",
       "    <tr>\n",
       "      <th>32</th>\n",
       "      <td>Colorado</td>\n",
       "      <td>105.6</td>\n",
       "      <td>99.9</td>\n",
       "      <td>116.7</td>\n",
       "      <td>87.9</td>\n",
       "      <td>103.0</td>\n",
       "      <td>107.4</td>\n",
       "    </tr>\n",
       "    <tr>\n",
       "      <th>33</th>\n",
       "      <td>Montana</td>\n",
       "      <td>106.9</td>\n",
       "      <td>103.1</td>\n",
       "      <td>105.9</td>\n",
       "      <td>88.1</td>\n",
       "      <td>95.3</td>\n",
       "      <td>98.6</td>\n",
       "    </tr>\n",
       "    <tr>\n",
       "      <th>34</th>\n",
       "      <td>Delaware</td>\n",
       "      <td>108.1</td>\n",
       "      <td>109.5</td>\n",
       "      <td>93.3</td>\n",
       "      <td>104.3</td>\n",
       "      <td>111.0</td>\n",
       "      <td>113.7</td>\n",
       "    </tr>\n",
       "    <tr>\n",
       "      <th>35</th>\n",
       "      <td>Nevada</td>\n",
       "      <td>108.5</td>\n",
       "      <td>110.8</td>\n",
       "      <td>118.5</td>\n",
       "      <td>87.0</td>\n",
       "      <td>113.2</td>\n",
       "      <td>99.3</td>\n",
       "    </tr>\n",
       "    <tr>\n",
       "      <th>36</th>\n",
       "      <td>New Hampshire</td>\n",
       "      <td>109.7</td>\n",
       "      <td>99.7</td>\n",
       "      <td>110.3</td>\n",
       "      <td>115.2</td>\n",
       "      <td>99.6</td>\n",
       "      <td>110.8</td>\n",
       "    </tr>\n",
       "    <tr>\n",
       "      <th>37</th>\n",
       "      <td>Washington</td>\n",
       "      <td>110.7</td>\n",
       "      <td>109.2</td>\n",
       "      <td>116.7</td>\n",
       "      <td>91.1</td>\n",
       "      <td>118.3</td>\n",
       "      <td>110.4</td>\n",
       "    </tr>\n",
       "    <tr>\n",
       "      <th>38</th>\n",
       "      <td>Vermont</td>\n",
       "      <td>114.5</td>\n",
       "      <td>109.5</td>\n",
       "      <td>136.7</td>\n",
       "      <td>120.6</td>\n",
       "      <td>116.4</td>\n",
       "      <td>104.1</td>\n",
       "    </tr>\n",
       "    <tr>\n",
       "      <th>39</th>\n",
       "      <td>Maine</td>\n",
       "      <td>117.5</td>\n",
       "      <td>100.4</td>\n",
       "      <td>142.0</td>\n",
       "      <td>107.2</td>\n",
       "      <td>106.9</td>\n",
       "      <td>108.4</td>\n",
       "    </tr>\n",
       "    <tr>\n",
       "      <th>40</th>\n",
       "      <td>Rhode Island</td>\n",
       "      <td>119.4</td>\n",
       "      <td>108.7</td>\n",
       "      <td>124.2</td>\n",
       "      <td>125.8</td>\n",
       "      <td>111.1</td>\n",
       "      <td>118.7</td>\n",
       "    </tr>\n",
       "    <tr>\n",
       "      <th>41</th>\n",
       "      <td>New Jersey</td>\n",
       "      <td>125.1</td>\n",
       "      <td>108.7</td>\n",
       "      <td>137.0</td>\n",
       "      <td>104.6</td>\n",
       "      <td>106.5</td>\n",
       "      <td>106.6</td>\n",
       "    </tr>\n",
       "    <tr>\n",
       "      <th>42</th>\n",
       "      <td>Connecticut</td>\n",
       "      <td>127.7</td>\n",
       "      <td>101.8</td>\n",
       "      <td>137.7</td>\n",
       "      <td>132.3</td>\n",
       "      <td>112.7</td>\n",
       "      <td>114.1</td>\n",
       "    </tr>\n",
       "    <tr>\n",
       "      <th>43</th>\n",
       "      <td>Maryland</td>\n",
       "      <td>129.7</td>\n",
       "      <td>108.7</td>\n",
       "      <td>171.3</td>\n",
       "      <td>104.0</td>\n",
       "      <td>110.5</td>\n",
       "      <td>108.0</td>\n",
       "    </tr>\n",
       "    <tr>\n",
       "      <th>44</th>\n",
       "      <td>Alaska</td>\n",
       "      <td>129.9</td>\n",
       "      <td>132.7</td>\n",
       "      <td>126.6</td>\n",
       "      <td>157.0</td>\n",
       "      <td>111.0</td>\n",
       "      <td>113.7</td>\n",
       "    </tr>\n",
       "    <tr>\n",
       "      <th>45</th>\n",
       "      <td>Massachusetts</td>\n",
       "      <td>131.6</td>\n",
       "      <td>117.0</td>\n",
       "      <td>179.2</td>\n",
       "      <td>110.8</td>\n",
       "      <td>112.2</td>\n",
       "      <td>116.1</td>\n",
       "    </tr>\n",
       "    <tr>\n",
       "      <th>46</th>\n",
       "      <td>Oregon</td>\n",
       "      <td>134.2</td>\n",
       "      <td>109.0</td>\n",
       "      <td>178.1</td>\n",
       "      <td>90.1</td>\n",
       "      <td>125.3</td>\n",
       "      <td>118.5</td>\n",
       "    </tr>\n",
       "    <tr>\n",
       "      <th>47</th>\n",
       "      <td>New York</td>\n",
       "      <td>139.1</td>\n",
       "      <td>118.3</td>\n",
       "      <td>230.2</td>\n",
       "      <td>99.2</td>\n",
       "      <td>110.6</td>\n",
       "      <td>114.8</td>\n",
       "    </tr>\n",
       "    <tr>\n",
       "      <th>48</th>\n",
       "      <td>California</td>\n",
       "      <td>151.7</td>\n",
       "      <td>110.3</td>\n",
       "      <td>192.7</td>\n",
       "      <td>128.5</td>\n",
       "      <td>136.1</td>\n",
       "      <td>111.3</td>\n",
       "    </tr>\n",
       "    <tr>\n",
       "      <th>49</th>\n",
       "      <td>Hawaii</td>\n",
       "      <td>192.9</td>\n",
       "      <td>157.9</td>\n",
       "      <td>313.1</td>\n",
       "      <td>169.2</td>\n",
       "      <td>141.1</td>\n",
       "      <td>126.7</td>\n",
       "    </tr>\n",
       "  </tbody>\n",
       "</table>\n",
       "</div>"
      ],
      "text/plain": [
       "             State  costIndex  groceryCost  housingCost  utilitiesCost  \\\n",
       "0      Mississippi       86.1         93.2        666.0           92.3   \n",
       "1         Arkansas       86.9         92.5         75.6           90.7   \n",
       "2         Oklahoma       87.0         94.6         73.0           93.4   \n",
       "3         Missouri       87.1         95.4         78.3           96.3   \n",
       "4       New Mexico       87.5         94.6         84.4           89.9   \n",
       "5        Tennessee       88.7         93.0         79.4           91.7   \n",
       "6         Michigan       88.9         91.0         80.2           98.5   \n",
       "7           Kansas       89.0         92.6         70.0          100.1   \n",
       "8          Georgia       89.2         96.3         74.3           90.3   \n",
       "9          Wyoming       89.3        103.5         81.7           87.4   \n",
       "10         Alabama       89.3         98.0         69.2          100.7   \n",
       "11         Indiana       90.0         92.4         76.4           96.7   \n",
       "12            Iowa       90.1         98.3         76.5           94.1   \n",
       "13            Ohio       90.8         97.9         76.1           90.7   \n",
       "14        Nebraska       90.8         98.6         86.6           88.9   \n",
       "15        Kentucky       90.9         93.3         80.1          104.2   \n",
       "16   West Virginia       91.1         97.9         77.1           88.2   \n",
       "17           Texas       91.5         91.2         83.5          103.3   \n",
       "18           Idaho       92.3         91.6        105.5           82.8   \n",
       "19       Louisiana       93.9         95.6         86.3           86.7   \n",
       "20        Illinois       94.5         97.4         85.2           95.8   \n",
       "21  North Carolina       94.9         97.4         91.8           97.2   \n",
       "22  South Carolina       95.9        101.8         80.1          105.0   \n",
       "23         Arizona       97.0        101.8        106.2          105.2   \n",
       "24       Wisconsin       97.3        100.9         88.6           98.1   \n",
       "25         Florida       97.9        106.9         99.6          103.1   \n",
       "26            Utah       98.4         97.9         97.6           93.2   \n",
       "27    North Dakota       98.8        102.1         93.7           93.3   \n",
       "28    South Dakota       99.8        101.8        112.7           91.2   \n",
       "29        Virginia      100.7         96.1        112.1           96.5   \n",
       "30       Minnesota      101.6        105.0         90.4           96.2   \n",
       "31    Pennsylvania      101.7        109.3        100.6          109.5   \n",
       "32        Colorado      105.6         99.9        116.7           87.9   \n",
       "33         Montana      106.9        103.1        105.9           88.1   \n",
       "34        Delaware      108.1        109.5         93.3          104.3   \n",
       "35          Nevada      108.5        110.8        118.5           87.0   \n",
       "36   New Hampshire      109.7         99.7        110.3          115.2   \n",
       "37      Washington      110.7        109.2        116.7           91.1   \n",
       "38         Vermont      114.5        109.5        136.7          120.6   \n",
       "39           Maine      117.5        100.4        142.0          107.2   \n",
       "40    Rhode Island      119.4        108.7        124.2          125.8   \n",
       "41      New Jersey      125.1        108.7        137.0          104.6   \n",
       "42     Connecticut      127.7        101.8        137.7          132.3   \n",
       "43        Maryland      129.7        108.7        171.3          104.0   \n",
       "44          Alaska      129.9        132.7        126.6          157.0   \n",
       "45   Massachusetts      131.6        117.0        179.2          110.8   \n",
       "46          Oregon      134.2        109.0        178.1           90.1   \n",
       "47        New York      139.1        118.3        230.2           99.2   \n",
       "48      California      151.7        110.3        192.7          128.5   \n",
       "49          Hawaii      192.9        157.9        313.1          169.2   \n",
       "\n",
       "    transportationCost  miscCost  \n",
       "0                 89.1      91.4  \n",
       "1                 91.0      97.4  \n",
       "2                 92.5      93.5  \n",
       "3                 90.4      95.8  \n",
       "4                 98.5      91.9  \n",
       "5                  8.6      92.9  \n",
       "6                101.8      96.4  \n",
       "7                 95.4      90.3  \n",
       "8                 95.7      96.6  \n",
       "9                 94.5     105.5  \n",
       "10                92.8      94.1  \n",
       "11                96.6      95.2  \n",
       "12                98.6      93.7  \n",
       "13                99.6      98.7  \n",
       "14               100.4      96.8  \n",
       "15               101.6     103.7  \n",
       "16               104.8     102.9  \n",
       "17                90.9      97.0  \n",
       "18                98.6     100.9  \n",
       "19                94.9      98.4  \n",
       "20               106.5      96.7  \n",
       "21                95.1      99.2  \n",
       "22                93.5      99.4  \n",
       "23                98.8      99.7  \n",
       "24                97.8      98.9  \n",
       "25               101.7      98.4  \n",
       "26                99.8      99.5  \n",
       "27               105.2      96.3  \n",
       "28                89.7      91.1  \n",
       "29                88.7     100.2  \n",
       "30               102.8     108.8  \n",
       "31               112.0     102.9  \n",
       "32               103.0     107.4  \n",
       "33                95.3      98.6  \n",
       "34               111.0     113.7  \n",
       "35               113.2      99.3  \n",
       "36                99.6     110.8  \n",
       "37               118.3     110.4  \n",
       "38               116.4     104.1  \n",
       "39               106.9     108.4  \n",
       "40               111.1     118.7  \n",
       "41               106.5     106.6  \n",
       "42               112.7     114.1  \n",
       "43               110.5     108.0  \n",
       "44               111.0     113.7  \n",
       "45               112.2     116.1  \n",
       "46               125.3     118.5  \n",
       "47               110.6     114.8  \n",
       "48               136.1     111.3  \n",
       "49               141.1     126.7  "
      ]
     },
     "execution_count": 179,
     "metadata": {},
     "output_type": "execute_result"
    }
   ],
   "source": [
    "cost_living"
   ]
  },
  {
   "cell_type": "code",
   "execution_count": 181,
   "id": "ab73b9f3",
   "metadata": {},
   "outputs": [],
   "source": [
    "cost_sal_state = us_salaries.merge(cost_living, how='left', on='State')"
   ]
  },
  {
   "cell_type": "code",
   "execution_count": 186,
   "id": "acd57798",
   "metadata": {},
   "outputs": [],
   "source": [
    "cost_sal_state.to_csv(r'C:\\Users\\chris\\Documents\\nss-data-analytics\\projects\\Nashville-Education-Data\\data\\salaries_cost.csv')"
   ]
  },
  {
   "cell_type": "code",
   "execution_count": 187,
   "id": "31565c11",
   "metadata": {},
   "outputs": [
    {
     "data": {
      "text/plain": [
       "<BarContainer object of 102 artists>"
      ]
     },
     "execution_count": 187,
     "metadata": {},
     "output_type": "execute_result"
    },
    {
     "data": {
      "image/png": "[encoded data removed]",
      "text/plain": [
       "<Figure size 432x288 with 1 Axes>"
      ]
     },
     "metadata": {
      "needs_background": "light"
     },
     "output_type": "display_data"
    }
   ],
   "source": [
    "state = cost_sal_state['State']\n",
    "sal = cost_sal_state['Salary($)']\n",
    "\n",
    "plt.bar(state, sal)"
   ]
  }
 ],
 "metadata": {
  "kernelspec": {
   "display_name": "Python 3 (ipykernel)",
   "language": "python",
   "name": "python3"
  },
  "language_info": {
   "codemirror_mode": {
    "name": "ipython",
    "version": 3
   },
   "file_extension": ".py",
   "mimetype": "text/x-python",
   "name": "python",
   "nbconvert_exporter": "python",
   "pygments_lexer": "ipython3",
   "version": "3.8.5"
  }
 },
 "nbformat": 4,
 "nbformat_minor": 5
}
